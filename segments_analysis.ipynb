{
 "cells": [
  {
   "cell_type": "markdown",
   "metadata": {},
   "source": [
    "# Duratec (DUR.AX) H2 2024 guidance analysis"
   ]
  },
  {
   "cell_type": "code",
   "execution_count": 1,
   "metadata": {},
   "outputs": [],
   "source": [
    "import numpy as np\n",
    "import pandas as pd\n",
    "import seaborn as sns\n",
    "import matplotlib.pyplot as plt\n",
    "import plotly.express as px\n",
    "import plotly.graph_objects as go\n",
    "from tqdm.notebook import tqdm, trange\n",
    "\n",
    "import plotly.io as pio\n",
    "pio.renderers.default = \"svg\"\n"
   ]
  },
  {
   "cell_type": "code",
   "execution_count": 2,
   "metadata": {},
   "outputs": [
    {
     "data": {
      "text/html": [
       "<div>\n",
       "<style scoped>\n",
       "    .dataframe tbody tr th:only-of-type {\n",
       "        vertical-align: middle;\n",
       "    }\n",
       "\n",
       "    .dataframe tbody tr th {\n",
       "        vertical-align: top;\n",
       "    }\n",
       "\n",
       "    .dataframe thead th {\n",
       "        text-align: right;\n",
       "    }\n",
       "</style>\n",
       "<table border=\"1\" class=\"dataframe\">\n",
       "  <thead>\n",
       "    <tr style=\"text-align: right;\">\n",
       "      <th></th>\n",
       "      <th></th>\n",
       "      <th>Defence</th>\n",
       "      <th>Mining &amp; Industrial</th>\n",
       "      <th>Buildings &amp; Façades</th>\n",
       "      <th>Energy</th>\n",
       "      <th>Other Segments</th>\n",
       "      <th>Total</th>\n",
       "    </tr>\n",
       "    <tr>\n",
       "      <th>Year/Segment</th>\n",
       "      <th>Item</th>\n",
       "      <th></th>\n",
       "      <th></th>\n",
       "      <th></th>\n",
       "      <th></th>\n",
       "      <th></th>\n",
       "      <th></th>\n",
       "    </tr>\n",
       "  </thead>\n",
       "  <tbody>\n",
       "    <tr>\n",
       "      <th rowspan=\"3\" valign=\"top\">2019.0</th>\n",
       "      <th>Revenue (000)</th>\n",
       "      <td>71.904</td>\n",
       "      <td>22.242</td>\n",
       "      <td>11.259</td>\n",
       "      <td>0.000</td>\n",
       "      <td>22.802</td>\n",
       "      <td>128.207</td>\n",
       "    </tr>\n",
       "    <tr>\n",
       "      <th>Gross profit (000)</th>\n",
       "      <td>13.846</td>\n",
       "      <td>5.453</td>\n",
       "      <td>2.059</td>\n",
       "      <td>0.000</td>\n",
       "      <td>3.618</td>\n",
       "      <td>24.976</td>\n",
       "    </tr>\n",
       "    <tr>\n",
       "      <th>Gross margin (%)</th>\n",
       "      <td>19.260</td>\n",
       "      <td>24.520</td>\n",
       "      <td>18.290</td>\n",
       "      <td>0.000</td>\n",
       "      <td>15.870</td>\n",
       "      <td>19.480</td>\n",
       "    </tr>\n",
       "    <tr>\n",
       "      <th rowspan=\"3\" valign=\"top\">2020.0</th>\n",
       "      <th>Revenue (000)</th>\n",
       "      <td>54.106</td>\n",
       "      <td>27.588</td>\n",
       "      <td>15.301</td>\n",
       "      <td>0.000</td>\n",
       "      <td>27.068</td>\n",
       "      <td>124.063</td>\n",
       "    </tr>\n",
       "    <tr>\n",
       "      <th>Gross profit (000)</th>\n",
       "      <td>8.905</td>\n",
       "      <td>4.563</td>\n",
       "      <td>4.190</td>\n",
       "      <td>0.000</td>\n",
       "      <td>5.560</td>\n",
       "      <td>23.218</td>\n",
       "    </tr>\n",
       "    <tr>\n",
       "      <th>Gross margin (%)</th>\n",
       "      <td>16.460</td>\n",
       "      <td>16.540</td>\n",
       "      <td>27.380</td>\n",
       "      <td>0.000</td>\n",
       "      <td>20.540</td>\n",
       "      <td>18.710</td>\n",
       "    </tr>\n",
       "    <tr>\n",
       "      <th rowspan=\"3\" valign=\"top\">2021.0</th>\n",
       "      <th>Revenue (000)</th>\n",
       "      <td>54.976</td>\n",
       "      <td>32.289</td>\n",
       "      <td>26.957</td>\n",
       "      <td>0.000</td>\n",
       "      <td>16.661</td>\n",
       "      <td>130.883</td>\n",
       "    </tr>\n",
       "    <tr>\n",
       "      <th>Gross profit (000)</th>\n",
       "      <td>7.118</td>\n",
       "      <td>8.408</td>\n",
       "      <td>3.369</td>\n",
       "      <td>0.000</td>\n",
       "      <td>1.838</td>\n",
       "      <td>20.733</td>\n",
       "    </tr>\n",
       "    <tr>\n",
       "      <th>Gross margin (%)</th>\n",
       "      <td>12.950</td>\n",
       "      <td>26.040</td>\n",
       "      <td>12.500</td>\n",
       "      <td>0.000</td>\n",
       "      <td>11.030</td>\n",
       "      <td>15.840</td>\n",
       "    </tr>\n",
       "    <tr>\n",
       "      <th rowspan=\"3\" valign=\"top\">2022.0</th>\n",
       "      <th>Revenue (000)</th>\n",
       "      <td>112.069</td>\n",
       "      <td>55.183</td>\n",
       "      <td>38.093</td>\n",
       "      <td>0.000</td>\n",
       "      <td>23.187</td>\n",
       "      <td>228.532</td>\n",
       "    </tr>\n",
       "    <tr>\n",
       "      <th>Gross profit (000)</th>\n",
       "      <td>15.940</td>\n",
       "      <td>11.853</td>\n",
       "      <td>6.205</td>\n",
       "      <td>0.000</td>\n",
       "      <td>1.670</td>\n",
       "      <td>35.668</td>\n",
       "    </tr>\n",
       "    <tr>\n",
       "      <th>Gross margin (%)</th>\n",
       "      <td>14.220</td>\n",
       "      <td>21.480</td>\n",
       "      <td>16.290</td>\n",
       "      <td>0.000</td>\n",
       "      <td>7.200</td>\n",
       "      <td>15.610</td>\n",
       "    </tr>\n",
       "    <tr>\n",
       "      <th rowspan=\"3\" valign=\"top\">2023.0</th>\n",
       "      <th>Revenue (000)</th>\n",
       "      <td>124.151</td>\n",
       "      <td>84.044</td>\n",
       "      <td>52.871</td>\n",
       "      <td>23.250</td>\n",
       "      <td>8.421</td>\n",
       "      <td>292.737</td>\n",
       "    </tr>\n",
       "    <tr>\n",
       "      <th>Gross profit (000)</th>\n",
       "      <td>13.377</td>\n",
       "      <td>18.389</td>\n",
       "      <td>6.581</td>\n",
       "      <td>8.126</td>\n",
       "      <td>0.909</td>\n",
       "      <td>47.382</td>\n",
       "    </tr>\n",
       "    <tr>\n",
       "      <th>Gross margin (%)</th>\n",
       "      <td>10.770</td>\n",
       "      <td>21.880</td>\n",
       "      <td>12.450</td>\n",
       "      <td>34.950</td>\n",
       "      <td>10.790</td>\n",
       "      <td>16.190</td>\n",
       "    </tr>\n",
       "  </tbody>\n",
       "</table>\n",
       "</div>"
      ],
      "text/plain": [
       "                                 Defence  Mining & Industrial  \\\n",
       "Year/Segment Item                                               \n",
       "2019.0       Revenue (000)        71.904               22.242   \n",
       "             Gross profit (000)   13.846                5.453   \n",
       "             Gross margin (%)     19.260               24.520   \n",
       "2020.0       Revenue (000)        54.106               27.588   \n",
       "             Gross profit (000)    8.905                4.563   \n",
       "             Gross margin (%)     16.460               16.540   \n",
       "2021.0       Revenue (000)        54.976               32.289   \n",
       "             Gross profit (000)    7.118                8.408   \n",
       "             Gross margin (%)     12.950               26.040   \n",
       "2022.0       Revenue (000)       112.069               55.183   \n",
       "             Gross profit (000)   15.940               11.853   \n",
       "             Gross margin (%)     14.220               21.480   \n",
       "2023.0       Revenue (000)       124.151               84.044   \n",
       "             Gross profit (000)   13.377               18.389   \n",
       "             Gross margin (%)     10.770               21.880   \n",
       "\n",
       "                                 Buildings & Façades  Energy  Other Segments  \\\n",
       "Year/Segment Item                                                              \n",
       "2019.0       Revenue (000)                    11.259   0.000          22.802   \n",
       "             Gross profit (000)                2.059   0.000           3.618   \n",
       "             Gross margin (%)                 18.290   0.000          15.870   \n",
       "2020.0       Revenue (000)                    15.301   0.000          27.068   \n",
       "             Gross profit (000)                4.190   0.000           5.560   \n",
       "             Gross margin (%)                 27.380   0.000          20.540   \n",
       "2021.0       Revenue (000)                    26.957   0.000          16.661   \n",
       "             Gross profit (000)                3.369   0.000           1.838   \n",
       "             Gross margin (%)                 12.500   0.000          11.030   \n",
       "2022.0       Revenue (000)                    38.093   0.000          23.187   \n",
       "             Gross profit (000)                6.205   0.000           1.670   \n",
       "             Gross margin (%)                 16.290   0.000           7.200   \n",
       "2023.0       Revenue (000)                    52.871  23.250           8.421   \n",
       "             Gross profit (000)                6.581   8.126           0.909   \n",
       "             Gross margin (%)                 12.450  34.950          10.790   \n",
       "\n",
       "                                   Total  \n",
       "Year/Segment Item                         \n",
       "2019.0       Revenue (000)       128.207  \n",
       "             Gross profit (000)   24.976  \n",
       "             Gross margin (%)     19.480  \n",
       "2020.0       Revenue (000)       124.063  \n",
       "             Gross profit (000)   23.218  \n",
       "             Gross margin (%)     18.710  \n",
       "2021.0       Revenue (000)       130.883  \n",
       "             Gross profit (000)   20.733  \n",
       "             Gross margin (%)     15.840  \n",
       "2022.0       Revenue (000)       228.532  \n",
       "             Gross profit (000)   35.668  \n",
       "             Gross margin (%)     15.610  \n",
       "2023.0       Revenue (000)       292.737  \n",
       "             Gross profit (000)   47.382  \n",
       "             Gross margin (%)     16.190  "
      ]
     },
     "execution_count": 2,
     "metadata": {},
     "output_type": "execute_result"
    }
   ],
   "source": [
    "df = pd.read_csv('https://raw.githubusercontent.com/rasvob/Duratec-Segments-Report/main/data/duratec_segments.csv')\n",
    "df['Energy'] = df['Energy'].replace('-', 0)\n",
    "df['Year/Segment'] = df['Year/Segment'].ffill()\n",
    "df = df.replace(',', '.', regex=True)\n",
    "df.index = pd.MultiIndex.from_frame(df[['Year/Segment', 'Item']])\n",
    "df = df.drop(columns=['Year/Segment', 'Item'])\n",
    "df = df.astype(float)\n",
    "df"
   ]
  },
  {
   "cell_type": "markdown",
   "metadata": {},
   "source": [
    "# Revenue and Gross profit per segment"
   ]
  },
  {
   "cell_type": "code",
   "execution_count": 3,
   "metadata": {},
   "outputs": [],
   "source": [
    "df_revenue = df.loc[(slice(None), 'Revenue (000)'), :].drop('Total', axis=1).stack().reset_index(name='Amount').rename(columns={'level_2': 'Segment'})"
   ]
  },
  {
   "cell_type": "code",
   "execution_count": 4,
   "metadata": {},
   "outputs": [],
   "source": [
    "df_gross_profit = df.loc[(slice(None), 'Gross profit (000)'), :].drop('Total', axis=1).stack().reset_index(name='Amount').rename(columns={'level_2': 'Segment'})"
   ]
  },
  {
   "cell_type": "code",
   "execution_count": 5,
   "metadata": {},
   "outputs": [
    {
     "name": "stderr",
     "output_type": "stream",
     "text": [
      "d:\\Development\\Python\\Duratec-Segments-Report\\venv\\Lib\\site-packages\\plotly\\express\\_core.py:2065: FutureWarning:\n",
      "\n",
      "When grouping with a length-1 list-like, you will need to pass a length-1 tuple to get_group in a future version of pandas. Pass `(name,)` instead of `name` to silence this warning.\n",
      "\n"
     ]
    },
    {
     "data": {
      "image/svg+xml": [
       "<svg class=\"main-svg\" xmlns=\"http://www.w3.org/2000/svg\" xmlns:xlink=\"http://www.w3.org/1999/xlink\" width=\"1200\" height=\"600\" style=\"\" viewBox=\"0 0 1200 600\"><rect x=\"0\" y=\"0\" width=\"1200\" height=\"600\" style=\"fill: rgb(255, 255, 255); fill-opacity: 1;\"/><defs id=\"defs-d5952a\"><g class=\"clips\"><clipPath id=\"clipd5952axyplot\" class=\"plotclip\"><rect width=\"924\" height=\"420\"/></clipPath><clipPath class=\"axesclip\" id=\"clipd5952ax\"><rect x=\"80\" y=\"0\" width=\"924\" height=\"600\"/></clipPath><clipPath class=\"axesclip\" id=\"clipd5952ay\"><rect x=\"0\" y=\"100\" width=\"1200\" height=\"420\"/></clipPath><clipPath class=\"axesclip\" id=\"clipd5952axy\"><rect x=\"80\" y=\"100\" width=\"924\" height=\"420\"/></clipPath></g><g class=\"gradients\"/><g class=\"patterns\"/></defs><g class=\"bglayer\"><rect class=\"bg\" x=\"80\" y=\"100\" width=\"924\" height=\"420\" style=\"fill: rgb(229, 236, 246); fill-opacity: 1; stroke-width: 0;\"/></g><g class=\"layer-below\"><g class=\"imagelayer\"/><g class=\"shapelayer\"/></g><g class=\"cartesianlayer\"><g class=\"subplot xy\"><g class=\"layer-subplot\"><g class=\"shapelayer\"/><g class=\"imagelayer\"/></g><g class=\"minor-gridlayer\"><g class=\"x\"/><g class=\"y\"/></g><g class=\"gridlayer\"><g class=\"x\"/><g class=\"y\"><path class=\"ygrid crisp\" transform=\"translate(0,451.85)\" d=\"M80,0h924\" style=\"stroke: rgb(255, 255, 255); stroke-opacity: 1; stroke-width: 1px;\"/><path class=\"ygrid crisp\" transform=\"translate(0,383.7)\" d=\"M80,0h924\" style=\"stroke: rgb(255, 255, 255); stroke-opacity: 1; stroke-width: 1px;\"/><path class=\"ygrid crisp\" transform=\"translate(0,315.55)\" d=\"M80,0h924\" style=\"stroke: rgb(255, 255, 255); stroke-opacity: 1; stroke-width: 1px;\"/><path class=\"ygrid crisp\" transform=\"translate(0,247.4)\" d=\"M80,0h924\" style=\"stroke: rgb(255, 255, 255); stroke-opacity: 1; stroke-width: 1px;\"/><path class=\"ygrid crisp\" transform=\"translate(0,179.25)\" d=\"M80,0h924\" style=\"stroke: rgb(255, 255, 255); stroke-opacity: 1; stroke-width: 1px;\"/><path class=\"ygrid crisp\" transform=\"translate(0,111.1)\" d=\"M80,0h924\" style=\"stroke: rgb(255, 255, 255); stroke-opacity: 1; stroke-width: 1px;\"/></g></g><g class=\"zerolinelayer\"><path class=\"yzl zl crisp\" transform=\"translate(0,520)\" d=\"M80,0h924\" style=\"stroke: rgb(255, 255, 255); stroke-opacity: 1; stroke-width: 2px;\"/></g><path class=\"xlines-below\"/><path class=\"ylines-below\"/><g class=\"overlines-below\"/><g class=\"xaxislayer-below\"/><g class=\"yaxislayer-below\"/><g class=\"overaxes-below\"/><g class=\"plot\" transform=\"translate(80,100)\" clip-path=\"url(#clipd5952axyplot)\"><g class=\"barlayer mlayer\"><g class=\"trace bars\" shape-rendering=\"crispEdges\" style=\"opacity: 1;\"><g class=\"points\"><g class=\"point\"><path d=\"M18.48,420V321.99H166.32V420Z\" style=\"vector-effect: none; opacity: 1; stroke-width: 0.5px; fill: rgb(99, 110, 250); fill-opacity: 1; stroke: rgb(229, 236, 246); stroke-opacity: 1;\"/></g><g class=\"point\"><path d=\"M203.28,420V346.25H351.12V420Z\" style=\"vector-effect: none; opacity: 1; stroke-width: 0.5px; fill: rgb(99, 110, 250); fill-opacity: 1; stroke: rgb(229, 236, 246); stroke-opacity: 1;\"/></g><g class=\"point\"><path d=\"M388.08,420V345.07H535.92V420Z\" style=\"vector-effect: none; opacity: 1; stroke-width: 0.5px; fill: rgb(99, 110, 250); fill-opacity: 1; stroke: rgb(229, 236, 246); stroke-opacity: 1;\"/></g><g class=\"point\"><path d=\"M572.88,420V267.25H720.72V420Z\" style=\"vector-effect: none; opacity: 1; stroke-width: 0.5px; fill: rgb(99, 110, 250); fill-opacity: 1; stroke: rgb(229, 236, 246); stroke-opacity: 1;\"/></g><g class=\"point\"><path d=\"M757.68,420V250.78H905.52V420Z\" style=\"vector-effect: none; opacity: 1; stroke-width: 0.5px; fill: rgb(99, 110, 250); fill-opacity: 1; stroke: rgb(229, 236, 246); stroke-opacity: 1;\"/></g></g></g><g class=\"trace bars\" shape-rendering=\"crispEdges\" style=\"opacity: 1;\"><g class=\"points\"><g class=\"point\"><path d=\"M18.48,321.99V291.68H166.32V321.99Z\" style=\"vector-effect: none; opacity: 1; stroke-width: 0.5px; fill: rgb(239, 85, 59); fill-opacity: 1; stroke: rgb(229, 236, 246); stroke-opacity: 1;\"/></g><g class=\"point\"><path d=\"M203.28,346.25V308.65H351.12V346.25Z\" style=\"vector-effect: none; opacity: 1; stroke-width: 0.5px; fill: rgb(239, 85, 59); fill-opacity: 1; stroke: rgb(229, 236, 246); stroke-opacity: 1;\"/></g><g class=\"point\"><path d=\"M388.08,345.07V301.06H535.92V345.07Z\" style=\"vector-effect: none; opacity: 1; stroke-width: 0.5px; fill: rgb(239, 85, 59); fill-opacity: 1; stroke: rgb(229, 236, 246); stroke-opacity: 1;\"/></g><g class=\"point\"><path d=\"M572.88,267.25V192.04H720.72V267.25Z\" style=\"vector-effect: none; opacity: 1; stroke-width: 0.5px; fill: rgb(239, 85, 59); fill-opacity: 1; stroke: rgb(229, 236, 246); stroke-opacity: 1;\"/></g><g class=\"point\"><path d=\"M757.68,250.78V136.23H905.52V250.78Z\" style=\"vector-effect: none; opacity: 1; stroke-width: 0.5px; fill: rgb(239, 85, 59); fill-opacity: 1; stroke: rgb(229, 236, 246); stroke-opacity: 1;\"/></g></g></g><g class=\"trace bars\" shape-rendering=\"crispEdges\" style=\"opacity: 1;\"><g class=\"points\"><g class=\"point\"><path d=\"M18.48,291.68V276.33H166.32V291.68Z\" style=\"vector-effect: none; opacity: 1; stroke-width: 0.5px; fill: rgb(0, 204, 150); fill-opacity: 1; stroke: rgb(229, 236, 246); stroke-opacity: 1;\"/></g><g class=\"point\"><path d=\"M203.28,308.65V287.8H351.12V308.65Z\" style=\"vector-effect: none; opacity: 1; stroke-width: 0.5px; fill: rgb(0, 204, 150); fill-opacity: 1; stroke: rgb(229, 236, 246); stroke-opacity: 1;\"/></g><g class=\"point\"><path d=\"M388.08,301.06V264.32H535.92V301.06Z\" style=\"vector-effect: none; opacity: 1; stroke-width: 0.5px; fill: rgb(0, 204, 150); fill-opacity: 1; stroke: rgb(229, 236, 246); stroke-opacity: 1;\"/></g><g class=\"point\"><path d=\"M572.88,192.04V140.12H720.72V192.04Z\" style=\"vector-effect: none; opacity: 1; stroke-width: 0.5px; fill: rgb(0, 204, 150); fill-opacity: 1; stroke: rgb(229, 236, 246); stroke-opacity: 1;\"/></g><g class=\"point\"><path d=\"M757.68,136.23V64.17H905.52V136.23Z\" style=\"vector-effect: none; opacity: 1; stroke-width: 0.5px; fill: rgb(0, 204, 150); fill-opacity: 1; stroke: rgb(229, 236, 246); stroke-opacity: 1;\"/></g></g></g><g class=\"trace bars\" shape-rendering=\"crispEdges\" style=\"opacity: 1;\"><g class=\"points\"><g class=\"point\"><path d=\"M18.48,276.33V276.33H166.32V276.33Z\" style=\"vector-effect: none; opacity: 1; stroke-width: 0.5px; fill: rgb(171, 99, 250); fill-opacity: 1; stroke: rgb(229, 236, 246); stroke-opacity: 1;\"/></g><g class=\"point\"><path d=\"M203.28,287.8V287.8H351.12V287.8Z\" style=\"vector-effect: none; opacity: 1; stroke-width: 0.5px; fill: rgb(171, 99, 250); fill-opacity: 1; stroke: rgb(229, 236, 246); stroke-opacity: 1;\"/></g><g class=\"point\"><path d=\"M388.08,264.32V264.32H535.92V264.32Z\" style=\"vector-effect: none; opacity: 1; stroke-width: 0.5px; fill: rgb(171, 99, 250); fill-opacity: 1; stroke: rgb(229, 236, 246); stroke-opacity: 1;\"/></g><g class=\"point\"><path d=\"M572.88,140.12V140.12H720.72V140.12Z\" style=\"vector-effect: none; opacity: 1; stroke-width: 0.5px; fill: rgb(171, 99, 250); fill-opacity: 1; stroke: rgb(229, 236, 246); stroke-opacity: 1;\"/></g><g class=\"point\"><path d=\"M757.68,64.17V32.48H905.52V64.17Z\" style=\"vector-effect: none; opacity: 1; stroke-width: 0.5px; fill: rgb(171, 99, 250); fill-opacity: 1; stroke: rgb(229, 236, 246); stroke-opacity: 1;\"/></g></g></g><g class=\"trace bars\" shape-rendering=\"crispEdges\" style=\"opacity: 1;\"><g class=\"points\"><g class=\"point\"><path d=\"M18.48,276.33V245.25H166.32V276.33Z\" style=\"vector-effect: none; opacity: 1; stroke-width: 0.5px; fill: rgb(255, 161, 90); fill-opacity: 1; stroke: rgb(229, 236, 246); stroke-opacity: 1;\"/></g><g class=\"point\"><path d=\"M203.28,287.8V250.9H351.12V287.8Z\" style=\"vector-effect: none; opacity: 1; stroke-width: 0.5px; fill: rgb(255, 161, 90); fill-opacity: 1; stroke: rgb(229, 236, 246); stroke-opacity: 1;\"/></g><g class=\"point\"><path d=\"M388.08,264.32V241.61H535.92V264.32Z\" style=\"vector-effect: none; opacity: 1; stroke-width: 0.5px; fill: rgb(255, 161, 90); fill-opacity: 1; stroke: rgb(229, 236, 246); stroke-opacity: 1;\"/></g><g class=\"point\"><path d=\"M572.88,140.12V108.51H720.72V140.12Z\" style=\"vector-effect: none; opacity: 1; stroke-width: 0.5px; fill: rgb(255, 161, 90); fill-opacity: 1; stroke: rgb(229, 236, 246); stroke-opacity: 1;\"/></g><g class=\"point\"><path d=\"M757.68,32.48V21H905.52V32.48Z\" style=\"vector-effect: none; opacity: 1; stroke-width: 0.5px; fill: rgb(255, 161, 90); fill-opacity: 1; stroke: rgb(229, 236, 246); stroke-opacity: 1;\"/></g></g></g></g></g><g class=\"overplot\"/><path class=\"xlines-above crisp\" d=\"M0,0\" style=\"fill: none;\"/><path class=\"ylines-above crisp\" d=\"M0,0\" style=\"fill: none;\"/><g class=\"overlines-above\"/><g class=\"xaxislayer-above\"><g class=\"xtick\"><text text-anchor=\"middle\" x=\"0\" y=\"533\" transform=\"translate(172.4,0)\" style=\"font-family: 'Open Sans', verdana, arial, sans-serif; font-size: 12px; fill: rgb(42, 63, 95); fill-opacity: 1; white-space: pre; opacity: 1;\">2019</text></g><g class=\"xtick\"><text text-anchor=\"middle\" x=\"0\" y=\"533\" style=\"font-family: 'Open Sans', verdana, arial, sans-serif; font-size: 12px; fill: rgb(42, 63, 95); fill-opacity: 1; white-space: pre; opacity: 1;\" transform=\"translate(357.2,0)\">2020</text></g><g class=\"xtick\"><text text-anchor=\"middle\" x=\"0\" y=\"533\" style=\"font-family: 'Open Sans', verdana, arial, sans-serif; font-size: 12px; fill: rgb(42, 63, 95); fill-opacity: 1; white-space: pre; opacity: 1;\" transform=\"translate(542,0)\">2021</text></g><g class=\"xtick\"><text text-anchor=\"middle\" x=\"0\" y=\"533\" style=\"font-family: 'Open Sans', verdana, arial, sans-serif; font-size: 12px; fill: rgb(42, 63, 95); fill-opacity: 1; white-space: pre; opacity: 1;\" transform=\"translate(726.8,0)\">2022</text></g><g class=\"xtick\"><text text-anchor=\"middle\" x=\"0\" y=\"533\" style=\"font-family: 'Open Sans', verdana, arial, sans-serif; font-size: 12px; fill: rgb(42, 63, 95); fill-opacity: 1; white-space: pre; opacity: 1;\" transform=\"translate(911.6,0)\">2023</text></g></g><g class=\"yaxislayer-above\"><g class=\"ytick\"><text text-anchor=\"end\" x=\"79\" y=\"4.199999999999999\" transform=\"translate(0,520)\" style=\"font-family: 'Open Sans', verdana, arial, sans-serif; font-size: 12px; fill: rgb(42, 63, 95); fill-opacity: 1; white-space: pre; opacity: 1;\">0</text></g><g class=\"ytick\"><text text-anchor=\"end\" x=\"79\" y=\"4.199999999999999\" style=\"font-family: 'Open Sans', verdana, arial, sans-serif; font-size: 12px; fill: rgb(42, 63, 95); fill-opacity: 1; white-space: pre; opacity: 1;\" transform=\"translate(0,451.85)\">50</text></g><g class=\"ytick\"><text text-anchor=\"end\" x=\"79\" y=\"4.199999999999999\" style=\"font-family: 'Open Sans', verdana, arial, sans-serif; font-size: 12px; fill: rgb(42, 63, 95); fill-opacity: 1; white-space: pre; opacity: 1;\" transform=\"translate(0,383.7)\">100</text></g><g class=\"ytick\"><text text-anchor=\"end\" x=\"79\" y=\"4.199999999999999\" style=\"font-family: 'Open Sans', verdana, arial, sans-serif; font-size: 12px; fill: rgb(42, 63, 95); fill-opacity: 1; white-space: pre; opacity: 1;\" transform=\"translate(0,315.55)\">150</text></g><g class=\"ytick\"><text text-anchor=\"end\" x=\"79\" y=\"4.199999999999999\" style=\"font-family: 'Open Sans', verdana, arial, sans-serif; font-size: 12px; fill: rgb(42, 63, 95); fill-opacity: 1; white-space: pre; opacity: 1;\" transform=\"translate(0,247.4)\">200</text></g><g class=\"ytick\"><text text-anchor=\"end\" x=\"79\" y=\"4.199999999999999\" style=\"font-family: 'Open Sans', verdana, arial, sans-serif; font-size: 12px; fill: rgb(42, 63, 95); fill-opacity: 1; white-space: pre; opacity: 1;\" transform=\"translate(0,179.25)\">250</text></g><g class=\"ytick\"><text text-anchor=\"end\" x=\"79\" y=\"4.199999999999999\" style=\"font-family: 'Open Sans', verdana, arial, sans-serif; font-size: 12px; fill: rgb(42, 63, 95); fill-opacity: 1; white-space: pre; opacity: 1;\" transform=\"translate(0,111.1)\">300</text></g></g><g class=\"overaxes-above\"/></g></g><g class=\"polarlayer\"/><g class=\"smithlayer\"/><g class=\"ternarylayer\"/><g class=\"geolayer\"/><g class=\"funnelarealayer\"/><g class=\"pielayer\"/><g class=\"iciclelayer\"/><g class=\"treemaplayer\"/><g class=\"sunburstlayer\"/><g class=\"glimages\"/><defs id=\"topdefs-d5952a\"><g class=\"clips\"/><clipPath id=\"legendd5952a\"><rect width=\"166\" height=\"124\" x=\"0\" y=\"0\"/></clipPath></defs><g class=\"layer-above\"><g class=\"imagelayer\"/><g class=\"shapelayer\"/></g><g class=\"infolayer\"><g class=\"legend\" pointer-events=\"all\" transform=\"translate(1022.48,100)\"><rect class=\"bg\" shape-rendering=\"crispEdges\" style=\"stroke: rgb(68, 68, 68); stroke-opacity: 1; fill: rgb(255, 255, 255); fill-opacity: 1; stroke-width: 0px;\" width=\"166\" height=\"124\" x=\"0\" y=\"0\"/><g class=\"scrollbox\" transform=\"\" clip-path=\"url(#legendd5952a)\"><text class=\"legendtitletext\" text-anchor=\"start\" x=\"2\" y=\"18.2\" style=\"font-family: 'Open Sans', verdana, arial, sans-serif; font-size: 14px; fill: rgb(42, 63, 95); fill-opacity: 1; white-space: pre;\">Segment</text><g class=\"groups\" transform=\"\"><g class=\"traces\" transform=\"translate(0,32.7)\" style=\"opacity: 1;\"><text class=\"legendtext\" text-anchor=\"start\" x=\"40\" y=\"4.680000000000001\" style=\"font-family: 'Open Sans', verdana, arial, sans-serif; font-size: 12px; fill: rgb(42, 63, 95); fill-opacity: 1; white-space: pre;\">Defence</text><g class=\"layers\" style=\"opacity: 1;\"><g class=\"legendfill\"/><g class=\"legendlines\"/><g class=\"legendsymbols\"><g class=\"legendpoints\"><path class=\"legendundefined\" d=\"M6,6H-6V-6H6Z\" transform=\"translate(20,0)\" style=\"stroke-width: 0.5px; fill: rgb(99, 110, 250); fill-opacity: 1; stroke: rgb(229, 236, 246); stroke-opacity: 1;\"/></g></g></g><rect class=\"legendtoggle\" x=\"0\" y=\"-9.5\" width=\"160.265625\" height=\"19\" style=\"fill: rgb(0, 0, 0); fill-opacity: 0;\"/></g></g><g class=\"groups\" transform=\"\"><g class=\"traces\" transform=\"translate(0,51.7)\" style=\"opacity: 1;\"><text class=\"legendtext\" text-anchor=\"start\" x=\"40\" y=\"4.680000000000001\" style=\"font-family: 'Open Sans', verdana, arial, sans-serif; font-size: 12px; fill: rgb(42, 63, 95); fill-opacity: 1; white-space: pre;\">Mining &amp; Industrial</text><g class=\"layers\" style=\"opacity: 1;\"><g class=\"legendfill\"/><g class=\"legendlines\"/><g class=\"legendsymbols\"><g class=\"legendpoints\"><path class=\"legendundefined\" d=\"M6,6H-6V-6H6Z\" transform=\"translate(20,0)\" style=\"stroke-width: 0.5px; fill: rgb(239, 85, 59); fill-opacity: 1; stroke: rgb(229, 236, 246); stroke-opacity: 1;\"/></g></g></g><rect class=\"legendtoggle\" x=\"0\" y=\"-9.5\" width=\"160.265625\" height=\"19\" style=\"fill: rgb(0, 0, 0); fill-opacity: 0;\"/></g></g><g class=\"groups\" transform=\"\"><g class=\"traces\" transform=\"translate(0,70.7)\" style=\"opacity: 1;\"><text class=\"legendtext\" text-anchor=\"start\" x=\"40\" y=\"4.680000000000001\" style=\"font-family: 'Open Sans', verdana, arial, sans-serif; font-size: 12px; fill: rgb(42, 63, 95); fill-opacity: 1; white-space: pre;\">Buildings &amp; Façades</text><g class=\"layers\" style=\"opacity: 1;\"><g class=\"legendfill\"/><g class=\"legendlines\"/><g class=\"legendsymbols\"><g class=\"legendpoints\"><path class=\"legendundefined\" d=\"M6,6H-6V-6H6Z\" transform=\"translate(20,0)\" style=\"stroke-width: 0.5px; fill: rgb(0, 204, 150); fill-opacity: 1; stroke: rgb(229, 236, 246); stroke-opacity: 1;\"/></g></g></g><rect class=\"legendtoggle\" x=\"0\" y=\"-9.5\" width=\"160.265625\" height=\"19\" style=\"fill: rgb(0, 0, 0); fill-opacity: 0;\"/></g></g><g class=\"groups\" transform=\"\"><g class=\"traces\" transform=\"translate(0,89.7)\" style=\"opacity: 1;\"><text class=\"legendtext\" text-anchor=\"start\" x=\"40\" y=\"4.680000000000001\" style=\"font-family: 'Open Sans', verdana, arial, sans-serif; font-size: 12px; fill: rgb(42, 63, 95); fill-opacity: 1; white-space: pre;\">Energy</text><g class=\"layers\" style=\"opacity: 1;\"><g class=\"legendfill\"/><g class=\"legendlines\"/><g class=\"legendsymbols\"><g class=\"legendpoints\"><path class=\"legendundefined\" d=\"M6,6H-6V-6H6Z\" transform=\"translate(20,0)\" style=\"stroke-width: 0.5px; fill: rgb(171, 99, 250); fill-opacity: 1; stroke: rgb(229, 236, 246); stroke-opacity: 1;\"/></g></g></g><rect class=\"legendtoggle\" x=\"0\" y=\"-9.5\" width=\"160.265625\" height=\"19\" style=\"fill: rgb(0, 0, 0); fill-opacity: 0;\"/></g></g><g class=\"groups\" transform=\"\"><g class=\"traces\" transform=\"translate(0,108.7)\" style=\"opacity: 1;\"><text class=\"legendtext\" text-anchor=\"start\" x=\"40\" y=\"4.680000000000001\" style=\"font-family: 'Open Sans', verdana, arial, sans-serif; font-size: 12px; fill: rgb(42, 63, 95); fill-opacity: 1; white-space: pre;\">Other Segments</text><g class=\"layers\" style=\"opacity: 1;\"><g class=\"legendfill\"/><g class=\"legendlines\"/><g class=\"legendsymbols\"><g class=\"legendpoints\"><path class=\"legendundefined\" d=\"M6,6H-6V-6H6Z\" transform=\"translate(20,0)\" style=\"stroke-width: 0.5px; fill: rgb(255, 161, 90); fill-opacity: 1; stroke: rgb(229, 236, 246); stroke-opacity: 1;\"/></g></g></g><rect class=\"legendtoggle\" x=\"0\" y=\"-9.5\" width=\"160.265625\" height=\"19\" style=\"fill: rgb(0, 0, 0); fill-opacity: 0;\"/></g></g></g><rect class=\"scrollbar\" rx=\"20\" ry=\"3\" width=\"0\" height=\"0\" style=\"fill: rgb(128, 139, 164); fill-opacity: 1;\" x=\"0\" y=\"0\"/></g><g class=\"g-gtitle\"><text class=\"gtitle\" x=\"60\" y=\"50\" text-anchor=\"start\" dy=\"0em\" style=\"font-family: 'Open Sans', verdana, arial, sans-serif; font-size: 17px; fill: rgb(42, 63, 95); opacity: 1; font-weight: normal; white-space: pre;\">Revenue by Segment and Year</text></g><g class=\"g-xtitle\"><text class=\"xtitle\" x=\"542\" y=\"560.3\" text-anchor=\"middle\" style=\"font-family: 'Open Sans', verdana, arial, sans-serif; font-size: 14px; fill: rgb(42, 63, 95); opacity: 1; font-weight: normal; white-space: pre;\">Year</text></g><g class=\"g-ytitle\"><text class=\"ytitle\" transform=\"rotate(-90,31.809375000000003,310)\" x=\"31.809375000000003\" y=\"310\" text-anchor=\"middle\" style=\"font-family: 'Open Sans', verdana, arial, sans-serif; font-size: 14px; fill: rgb(42, 63, 95); opacity: 1; font-weight: normal; white-space: pre;\">Revenue (000)</text></g></g></svg>"
      ]
     },
     "metadata": {},
     "output_type": "display_data"
    }
   ],
   "source": [
    "px.bar(df_revenue, x='Year/Segment', y='Amount', color='Segment', barmode='stack', title='Revenue by Segment and Year', labels={'Amount': 'Revenue (000)', 'Year/Segment': 'Year'}, height=600, width=1200)"
   ]
  },
  {
   "cell_type": "code",
   "execution_count": 6,
   "metadata": {},
   "outputs": [
    {
     "name": "stderr",
     "output_type": "stream",
     "text": [
      "d:\\Development\\Python\\Duratec-Segments-Report\\venv\\Lib\\site-packages\\plotly\\express\\_core.py:2065: FutureWarning:\n",
      "\n",
      "When grouping with a length-1 list-like, you will need to pass a length-1 tuple to get_group in a future version of pandas. Pass `(name,)` instead of `name` to silence this warning.\n",
      "\n"
     ]
    },
    {
     "data": {
      "image/svg+xml": [
       "<svg class=\"main-svg\" xmlns=\"http://www.w3.org/2000/svg\" xmlns:xlink=\"http://www.w3.org/1999/xlink\" width=\"1200\" height=\"600\" style=\"\" viewBox=\"0 0 1200 600\"><rect x=\"0\" y=\"0\" width=\"1200\" height=\"600\" style=\"fill: rgb(255, 255, 255); fill-opacity: 1;\"/><defs id=\"defs-958a9d\"><g class=\"clips\"><clipPath id=\"clip958a9dxyplot\" class=\"plotclip\"><rect width=\"924\" height=\"420\"/></clipPath><clipPath class=\"axesclip\" id=\"clip958a9dx\"><rect x=\"80\" y=\"0\" width=\"924\" height=\"600\"/></clipPath><clipPath class=\"axesclip\" id=\"clip958a9dy\"><rect x=\"0\" y=\"100\" width=\"1200\" height=\"420\"/></clipPath><clipPath class=\"axesclip\" id=\"clip958a9dxy\"><rect x=\"80\" y=\"100\" width=\"924\" height=\"420\"/></clipPath></g><g class=\"gradients\"/><g class=\"patterns\"/></defs><g class=\"bglayer\"><rect class=\"bg\" x=\"80\" y=\"100\" width=\"924\" height=\"420\" style=\"fill: rgb(229, 236, 246); fill-opacity: 1; stroke-width: 0;\"/></g><g class=\"layer-below\"><g class=\"imagelayer\"/><g class=\"shapelayer\"/></g><g class=\"cartesianlayer\"><g class=\"subplot xy\"><g class=\"layer-subplot\"><g class=\"shapelayer\"/><g class=\"imagelayer\"/></g><g class=\"minor-gridlayer\"><g class=\"x\"/><g class=\"y\"/></g><g class=\"gridlayer\"><g class=\"x\"/><g class=\"y\"><path class=\"ygrid crisp\" transform=\"translate(0,477.9)\" d=\"M80,0h924\" style=\"stroke: rgb(255, 255, 255); stroke-opacity: 1; stroke-width: 1px;\"/><path class=\"ygrid crisp\" transform=\"translate(0,435.79)\" d=\"M80,0h924\" style=\"stroke: rgb(255, 255, 255); stroke-opacity: 1; stroke-width: 1px;\"/><path class=\"ygrid crisp\" transform=\"translate(0,393.69)\" d=\"M80,0h924\" style=\"stroke: rgb(255, 255, 255); stroke-opacity: 1; stroke-width: 1px;\"/><path class=\"ygrid crisp\" transform=\"translate(0,351.58000000000004)\" d=\"M80,0h924\" style=\"stroke: rgb(255, 255, 255); stroke-opacity: 1; stroke-width: 1px;\"/><path class=\"ygrid crisp\" transform=\"translate(0,309.48)\" d=\"M80,0h924\" style=\"stroke: rgb(255, 255, 255); stroke-opacity: 1; stroke-width: 1px;\"/><path class=\"ygrid crisp\" transform=\"translate(0,267.37)\" d=\"M80,0h924\" style=\"stroke: rgb(255, 255, 255); stroke-opacity: 1; stroke-width: 1px;\"/><path class=\"ygrid crisp\" transform=\"translate(0,225.26999999999998)\" d=\"M80,0h924\" style=\"stroke: rgb(255, 255, 255); stroke-opacity: 1; stroke-width: 1px;\"/><path class=\"ygrid crisp\" transform=\"translate(0,183.16)\" d=\"M80,0h924\" style=\"stroke: rgb(255, 255, 255); stroke-opacity: 1; stroke-width: 1px;\"/><path class=\"ygrid crisp\" transform=\"translate(0,141.06)\" d=\"M80,0h924\" style=\"stroke: rgb(255, 255, 255); stroke-opacity: 1; stroke-width: 1px;\"/></g></g><g class=\"zerolinelayer\"><path class=\"yzl zl crisp\" transform=\"translate(0,520)\" d=\"M80,0h924\" style=\"stroke: rgb(255, 255, 255); stroke-opacity: 1; stroke-width: 2px;\"/></g><path class=\"xlines-below\"/><path class=\"ylines-below\"/><g class=\"overlines-below\"/><g class=\"xaxislayer-below\"/><g class=\"yaxislayer-below\"/><g class=\"overaxes-below\"/><g class=\"plot\" transform=\"translate(80,100)\" clip-path=\"url(#clip958a9dxyplot)\"><g class=\"barlayer mlayer\"><g class=\"trace bars\" shape-rendering=\"crispEdges\" style=\"opacity: 1;\"><g class=\"points\"><g class=\"point\"><path d=\"M18.48,420V303.4H166.32V420Z\" style=\"vector-effect: none; opacity: 1; stroke-width: 0.5px; fill: rgb(99, 110, 250); fill-opacity: 1; stroke: rgb(229, 236, 246); stroke-opacity: 1;\"/></g><g class=\"point\"><path d=\"M203.28,420V345.01H351.12V420Z\" style=\"vector-effect: none; opacity: 1; stroke-width: 0.5px; fill: rgb(99, 110, 250); fill-opacity: 1; stroke: rgb(229, 236, 246); stroke-opacity: 1;\"/></g><g class=\"point\"><path d=\"M388.08,420V360.06H535.92V420Z\" style=\"vector-effect: none; opacity: 1; stroke-width: 0.5px; fill: rgb(99, 110, 250); fill-opacity: 1; stroke: rgb(229, 236, 246); stroke-opacity: 1;\"/></g><g class=\"point\"><path d=\"M572.88,420V285.77H720.72V420Z\" style=\"vector-effect: none; opacity: 1; stroke-width: 0.5px; fill: rgb(99, 110, 250); fill-opacity: 1; stroke: rgb(229, 236, 246); stroke-opacity: 1;\"/></g><g class=\"point\"><path d=\"M757.68,420V307.35H905.52V420Z\" style=\"vector-effect: none; opacity: 1; stroke-width: 0.5px; fill: rgb(99, 110, 250); fill-opacity: 1; stroke: rgb(229, 236, 246); stroke-opacity: 1;\"/></g></g></g><g class=\"trace bars\" shape-rendering=\"crispEdges\" style=\"opacity: 1;\"><g class=\"points\"><g class=\"point\"><path d=\"M18.48,303.4V257.48H166.32V303.4Z\" style=\"vector-effect: none; opacity: 1; stroke-width: 0.5px; fill: rgb(239, 85, 59); fill-opacity: 1; stroke: rgb(229, 236, 246); stroke-opacity: 1;\"/></g><g class=\"point\"><path d=\"M203.28,345.01V306.59H351.12V345.01Z\" style=\"vector-effect: none; opacity: 1; stroke-width: 0.5px; fill: rgb(239, 85, 59); fill-opacity: 1; stroke: rgb(229, 236, 246); stroke-opacity: 1;\"/></g><g class=\"point\"><path d=\"M388.08,360.06V289.26H535.92V360.06Z\" style=\"vector-effect: none; opacity: 1; stroke-width: 0.5px; fill: rgb(239, 85, 59); fill-opacity: 1; stroke: rgb(229, 236, 246); stroke-opacity: 1;\"/></g><g class=\"point\"><path d=\"M572.88,285.77V185.96H720.72V285.77Z\" style=\"vector-effect: none; opacity: 1; stroke-width: 0.5px; fill: rgb(239, 85, 59); fill-opacity: 1; stroke: rgb(229, 236, 246); stroke-opacity: 1;\"/></g><g class=\"point\"><path d=\"M757.68,307.35V152.5H905.52V307.35Z\" style=\"vector-effect: none; opacity: 1; stroke-width: 0.5px; fill: rgb(239, 85, 59); fill-opacity: 1; stroke: rgb(229, 236, 246); stroke-opacity: 1;\"/></g></g></g><g class=\"trace bars\" shape-rendering=\"crispEdges\" style=\"opacity: 1;\"><g class=\"points\"><g class=\"point\"><path d=\"M18.48,257.48V240.15H166.32V257.48Z\" style=\"vector-effect: none; opacity: 1; stroke-width: 0.5px; fill: rgb(0, 204, 150); fill-opacity: 1; stroke: rgb(229, 236, 246); stroke-opacity: 1;\"/></g><g class=\"point\"><path d=\"M203.28,306.59V271.3H351.12V306.59Z\" style=\"vector-effect: none; opacity: 1; stroke-width: 0.5px; fill: rgb(0, 204, 150); fill-opacity: 1; stroke: rgb(229, 236, 246); stroke-opacity: 1;\"/></g><g class=\"point\"><path d=\"M388.08,289.26V260.89H535.92V289.26Z\" style=\"vector-effect: none; opacity: 1; stroke-width: 0.5px; fill: rgb(0, 204, 150); fill-opacity: 1; stroke: rgb(229, 236, 246); stroke-opacity: 1;\"/></g><g class=\"point\"><path d=\"M572.88,185.96V133.71H720.72V185.96Z\" style=\"vector-effect: none; opacity: 1; stroke-width: 0.5px; fill: rgb(0, 204, 150); fill-opacity: 1; stroke: rgb(229, 236, 246); stroke-opacity: 1;\"/></g><g class=\"point\"><path d=\"M757.68,152.5V97.08H905.52V152.5Z\" style=\"vector-effect: none; opacity: 1; stroke-width: 0.5px; fill: rgb(0, 204, 150); fill-opacity: 1; stroke: rgb(229, 236, 246); stroke-opacity: 1;\"/></g></g></g><g class=\"trace bars\" shape-rendering=\"crispEdges\" style=\"opacity: 1;\"><g class=\"points\"><g class=\"point\"><path d=\"M18.48,240.15V240.15H166.32V240.15Z\" style=\"vector-effect: none; opacity: 1; stroke-width: 0.5px; fill: rgb(171, 99, 250); fill-opacity: 1; stroke: rgb(229, 236, 246); stroke-opacity: 1;\"/></g><g class=\"point\"><path d=\"M203.28,271.3V271.3H351.12V271.3Z\" style=\"vector-effect: none; opacity: 1; stroke-width: 0.5px; fill: rgb(171, 99, 250); fill-opacity: 1; stroke: rgb(229, 236, 246); stroke-opacity: 1;\"/></g><g class=\"point\"><path d=\"M388.08,260.89V260.89H535.92V260.89Z\" style=\"vector-effect: none; opacity: 1; stroke-width: 0.5px; fill: rgb(171, 99, 250); fill-opacity: 1; stroke: rgb(229, 236, 246); stroke-opacity: 1;\"/></g><g class=\"point\"><path d=\"M572.88,133.71V133.71H720.72V133.71Z\" style=\"vector-effect: none; opacity: 1; stroke-width: 0.5px; fill: rgb(171, 99, 250); fill-opacity: 1; stroke: rgb(229, 236, 246); stroke-opacity: 1;\"/></g><g class=\"point\"><path d=\"M757.68,97.08V28.65H905.52V97.08Z\" style=\"vector-effect: none; opacity: 1; stroke-width: 0.5px; fill: rgb(171, 99, 250); fill-opacity: 1; stroke: rgb(229, 236, 246); stroke-opacity: 1;\"/></g></g></g><g class=\"trace bars\" shape-rendering=\"crispEdges\" style=\"opacity: 1;\"><g class=\"points\"><g class=\"point\"><path d=\"M18.48,240.15V209.68H166.32V240.15Z\" style=\"vector-effect: none; opacity: 1; stroke-width: 0.5px; fill: rgb(255, 161, 90); fill-opacity: 1; stroke: rgb(229, 236, 246); stroke-opacity: 1;\"/></g><g class=\"point\"><path d=\"M203.28,271.3V224.48H351.12V271.3Z\" style=\"vector-effect: none; opacity: 1; stroke-width: 0.5px; fill: rgb(255, 161, 90); fill-opacity: 1; stroke: rgb(229, 236, 246); stroke-opacity: 1;\"/></g><g class=\"point\"><path d=\"M388.08,260.89V245.41H535.92V260.89Z\" style=\"vector-effect: none; opacity: 1; stroke-width: 0.5px; fill: rgb(255, 161, 90); fill-opacity: 1; stroke: rgb(229, 236, 246); stroke-opacity: 1;\"/></g><g class=\"point\"><path d=\"M572.88,133.71V119.64H720.72V133.71Z\" style=\"vector-effect: none; opacity: 1; stroke-width: 0.5px; fill: rgb(255, 161, 90); fill-opacity: 1; stroke: rgb(229, 236, 246); stroke-opacity: 1;\"/></g><g class=\"point\"><path d=\"M757.68,28.65V21H905.52V28.65Z\" style=\"vector-effect: none; opacity: 1; stroke-width: 0.5px; fill: rgb(255, 161, 90); fill-opacity: 1; stroke: rgb(229, 236, 246); stroke-opacity: 1;\"/></g></g></g></g></g><g class=\"overplot\"/><path class=\"xlines-above crisp\" d=\"M0,0\" style=\"fill: none;\"/><path class=\"ylines-above crisp\" d=\"M0,0\" style=\"fill: none;\"/><g class=\"overlines-above\"/><g class=\"xaxislayer-above\"><g class=\"xtick\"><text text-anchor=\"middle\" x=\"0\" y=\"533\" transform=\"translate(172.4,0)\" style=\"font-family: 'Open Sans', verdana, arial, sans-serif; font-size: 12px; fill: rgb(42, 63, 95); fill-opacity: 1; white-space: pre; opacity: 1;\">2019</text></g><g class=\"xtick\"><text text-anchor=\"middle\" x=\"0\" y=\"533\" style=\"font-family: 'Open Sans', verdana, arial, sans-serif; font-size: 12px; fill: rgb(42, 63, 95); fill-opacity: 1; white-space: pre; opacity: 1;\" transform=\"translate(357.2,0)\">2020</text></g><g class=\"xtick\"><text text-anchor=\"middle\" x=\"0\" y=\"533\" style=\"font-family: 'Open Sans', verdana, arial, sans-serif; font-size: 12px; fill: rgb(42, 63, 95); fill-opacity: 1; white-space: pre; opacity: 1;\" transform=\"translate(542,0)\">2021</text></g><g class=\"xtick\"><text text-anchor=\"middle\" x=\"0\" y=\"533\" style=\"font-family: 'Open Sans', verdana, arial, sans-serif; font-size: 12px; fill: rgb(42, 63, 95); fill-opacity: 1; white-space: pre; opacity: 1;\" transform=\"translate(726.8,0)\">2022</text></g><g class=\"xtick\"><text text-anchor=\"middle\" x=\"0\" y=\"533\" style=\"font-family: 'Open Sans', verdana, arial, sans-serif; font-size: 12px; fill: rgb(42, 63, 95); fill-opacity: 1; white-space: pre; opacity: 1;\" transform=\"translate(911.6,0)\">2023</text></g></g><g class=\"yaxislayer-above\"><g class=\"ytick\"><text text-anchor=\"end\" x=\"79\" y=\"4.199999999999999\" transform=\"translate(0,520)\" style=\"font-family: 'Open Sans', verdana, arial, sans-serif; font-size: 12px; fill: rgb(42, 63, 95); fill-opacity: 1; white-space: pre; opacity: 1;\">0</text></g><g class=\"ytick\"><text text-anchor=\"end\" x=\"79\" y=\"4.199999999999999\" style=\"font-family: 'Open Sans', verdana, arial, sans-serif; font-size: 12px; fill: rgb(42, 63, 95); fill-opacity: 1; white-space: pre; opacity: 1;\" transform=\"translate(0,477.9)\">5</text></g><g class=\"ytick\"><text text-anchor=\"end\" x=\"79\" y=\"4.199999999999999\" style=\"font-family: 'Open Sans', verdana, arial, sans-serif; font-size: 12px; fill: rgb(42, 63, 95); fill-opacity: 1; white-space: pre; opacity: 1;\" transform=\"translate(0,435.79)\">10</text></g><g class=\"ytick\"><text text-anchor=\"end\" x=\"79\" y=\"4.199999999999999\" style=\"font-family: 'Open Sans', verdana, arial, sans-serif; font-size: 12px; fill: rgb(42, 63, 95); fill-opacity: 1; white-space: pre; opacity: 1;\" transform=\"translate(0,393.69)\">15</text></g><g class=\"ytick\"><text text-anchor=\"end\" x=\"79\" y=\"4.199999999999999\" style=\"font-family: 'Open Sans', verdana, arial, sans-serif; font-size: 12px; fill: rgb(42, 63, 95); fill-opacity: 1; white-space: pre; opacity: 1;\" transform=\"translate(0,351.58000000000004)\">20</text></g><g class=\"ytick\"><text text-anchor=\"end\" x=\"79\" y=\"4.199999999999999\" style=\"font-family: 'Open Sans', verdana, arial, sans-serif; font-size: 12px; fill: rgb(42, 63, 95); fill-opacity: 1; white-space: pre; opacity: 1;\" transform=\"translate(0,309.48)\">25</text></g><g class=\"ytick\"><text text-anchor=\"end\" x=\"79\" y=\"4.199999999999999\" style=\"font-family: 'Open Sans', verdana, arial, sans-serif; font-size: 12px; fill: rgb(42, 63, 95); fill-opacity: 1; white-space: pre; opacity: 1;\" transform=\"translate(0,267.37)\">30</text></g><g class=\"ytick\"><text text-anchor=\"end\" x=\"79\" y=\"4.199999999999999\" style=\"font-family: 'Open Sans', verdana, arial, sans-serif; font-size: 12px; fill: rgb(42, 63, 95); fill-opacity: 1; white-space: pre; opacity: 1;\" transform=\"translate(0,225.26999999999998)\">35</text></g><g class=\"ytick\"><text text-anchor=\"end\" x=\"79\" y=\"4.199999999999999\" style=\"font-family: 'Open Sans', verdana, arial, sans-serif; font-size: 12px; fill: rgb(42, 63, 95); fill-opacity: 1; white-space: pre; opacity: 1;\" transform=\"translate(0,183.16)\">40</text></g><g class=\"ytick\"><text text-anchor=\"end\" x=\"79\" y=\"4.199999999999999\" style=\"font-family: 'Open Sans', verdana, arial, sans-serif; font-size: 12px; fill: rgb(42, 63, 95); fill-opacity: 1; white-space: pre; opacity: 1;\" transform=\"translate(0,141.06)\">45</text></g></g><g class=\"overaxes-above\"/></g></g><g class=\"polarlayer\"/><g class=\"smithlayer\"/><g class=\"ternarylayer\"/><g class=\"geolayer\"/><g class=\"funnelarealayer\"/><g class=\"pielayer\"/><g class=\"iciclelayer\"/><g class=\"treemaplayer\"/><g class=\"sunburstlayer\"/><g class=\"glimages\"/><defs id=\"topdefs-958a9d\"><g class=\"clips\"/><clipPath id=\"legend958a9d\"><rect width=\"166\" height=\"124\" x=\"0\" y=\"0\"/></clipPath></defs><g class=\"layer-above\"><g class=\"imagelayer\"/><g class=\"shapelayer\"/></g><g class=\"infolayer\"><g class=\"legend\" pointer-events=\"all\" transform=\"translate(1022.48,100)\"><rect class=\"bg\" shape-rendering=\"crispEdges\" width=\"166\" height=\"124\" x=\"0\" y=\"0\" style=\"stroke: rgb(68, 68, 68); stroke-opacity: 1; fill: rgb(255, 255, 255); fill-opacity: 1; stroke-width: 0px;\"/><g class=\"scrollbox\" transform=\"\" clip-path=\"url(#legend958a9d)\"><text class=\"legendtitletext\" text-anchor=\"start\" x=\"2\" y=\"18.2\" style=\"font-family: 'Open Sans', verdana, arial, sans-serif; font-size: 14px; fill: rgb(42, 63, 95); fill-opacity: 1; white-space: pre;\">Segment</text><g class=\"groups\" transform=\"\"><g class=\"traces\" transform=\"translate(0,32.7)\" style=\"opacity: 1;\"><text class=\"legendtext\" text-anchor=\"start\" x=\"40\" y=\"4.680000000000001\" style=\"font-family: 'Open Sans', verdana, arial, sans-serif; font-size: 12px; fill: rgb(42, 63, 95); fill-opacity: 1; white-space: pre;\">Defence</text><g class=\"layers\" style=\"opacity: 1;\"><g class=\"legendfill\"/><g class=\"legendlines\"/><g class=\"legendsymbols\"><g class=\"legendpoints\"><path class=\"legendundefined\" d=\"M6,6H-6V-6H6Z\" transform=\"translate(20,0)\" style=\"stroke-width: 0.5px; fill: rgb(99, 110, 250); fill-opacity: 1; stroke: rgb(229, 236, 246); stroke-opacity: 1;\"/></g></g></g><rect class=\"legendtoggle\" x=\"0\" y=\"-9.5\" width=\"160.265625\" height=\"19\" style=\"fill: rgb(0, 0, 0); fill-opacity: 0;\"/></g></g><g class=\"groups\" transform=\"\"><g class=\"traces\" transform=\"translate(0,51.7)\" style=\"opacity: 1;\"><text class=\"legendtext\" text-anchor=\"start\" x=\"40\" y=\"4.680000000000001\" style=\"font-family: 'Open Sans', verdana, arial, sans-serif; font-size: 12px; fill: rgb(42, 63, 95); fill-opacity: 1; white-space: pre;\">Mining &amp; Industrial</text><g class=\"layers\" style=\"opacity: 1;\"><g class=\"legendfill\"/><g class=\"legendlines\"/><g class=\"legendsymbols\"><g class=\"legendpoints\"><path class=\"legendundefined\" d=\"M6,6H-6V-6H6Z\" transform=\"translate(20,0)\" style=\"stroke-width: 0.5px; fill: rgb(239, 85, 59); fill-opacity: 1; stroke: rgb(229, 236, 246); stroke-opacity: 1;\"/></g></g></g><rect class=\"legendtoggle\" x=\"0\" y=\"-9.5\" width=\"160.265625\" height=\"19\" style=\"fill: rgb(0, 0, 0); fill-opacity: 0;\"/></g></g><g class=\"groups\" transform=\"\"><g class=\"traces\" transform=\"translate(0,70.7)\" style=\"opacity: 1;\"><text class=\"legendtext\" text-anchor=\"start\" x=\"40\" y=\"4.680000000000001\" style=\"font-family: 'Open Sans', verdana, arial, sans-serif; font-size: 12px; fill: rgb(42, 63, 95); fill-opacity: 1; white-space: pre;\">Buildings &amp; Façades</text><g class=\"layers\" style=\"opacity: 1;\"><g class=\"legendfill\"/><g class=\"legendlines\"/><g class=\"legendsymbols\"><g class=\"legendpoints\"><path class=\"legendundefined\" d=\"M6,6H-6V-6H6Z\" transform=\"translate(20,0)\" style=\"stroke-width: 0.5px; fill: rgb(0, 204, 150); fill-opacity: 1; stroke: rgb(229, 236, 246); stroke-opacity: 1;\"/></g></g></g><rect class=\"legendtoggle\" x=\"0\" y=\"-9.5\" width=\"160.265625\" height=\"19\" style=\"fill: rgb(0, 0, 0); fill-opacity: 0;\"/></g></g><g class=\"groups\" transform=\"\"><g class=\"traces\" transform=\"translate(0,89.7)\" style=\"opacity: 1;\"><text class=\"legendtext\" text-anchor=\"start\" x=\"40\" y=\"4.680000000000001\" style=\"font-family: 'Open Sans', verdana, arial, sans-serif; font-size: 12px; fill: rgb(42, 63, 95); fill-opacity: 1; white-space: pre;\">Energy</text><g class=\"layers\" style=\"opacity: 1;\"><g class=\"legendfill\"/><g class=\"legendlines\"/><g class=\"legendsymbols\"><g class=\"legendpoints\"><path class=\"legendundefined\" d=\"M6,6H-6V-6H6Z\" transform=\"translate(20,0)\" style=\"stroke-width: 0.5px; fill: rgb(171, 99, 250); fill-opacity: 1; stroke: rgb(229, 236, 246); stroke-opacity: 1;\"/></g></g></g><rect class=\"legendtoggle\" x=\"0\" y=\"-9.5\" width=\"160.265625\" height=\"19\" style=\"fill: rgb(0, 0, 0); fill-opacity: 0;\"/></g></g><g class=\"groups\" transform=\"\"><g class=\"traces\" transform=\"translate(0,108.7)\" style=\"opacity: 1;\"><text class=\"legendtext\" text-anchor=\"start\" x=\"40\" y=\"4.680000000000001\" style=\"font-family: 'Open Sans', verdana, arial, sans-serif; font-size: 12px; fill: rgb(42, 63, 95); fill-opacity: 1; white-space: pre;\">Other Segments</text><g class=\"layers\" style=\"opacity: 1;\"><g class=\"legendfill\"/><g class=\"legendlines\"/><g class=\"legendsymbols\"><g class=\"legendpoints\"><path class=\"legendundefined\" d=\"M6,6H-6V-6H6Z\" transform=\"translate(20,0)\" style=\"stroke-width: 0.5px; fill: rgb(255, 161, 90); fill-opacity: 1; stroke: rgb(229, 236, 246); stroke-opacity: 1;\"/></g></g></g><rect class=\"legendtoggle\" x=\"0\" y=\"-9.5\" width=\"160.265625\" height=\"19\" style=\"fill: rgb(0, 0, 0); fill-opacity: 0;\"/></g></g></g><rect class=\"scrollbar\" rx=\"20\" ry=\"3\" width=\"0\" height=\"0\" x=\"0\" y=\"0\" style=\"fill: rgb(128, 139, 164); fill-opacity: 1;\"/></g><g class=\"g-gtitle\"><text class=\"gtitle\" x=\"60\" y=\"50\" text-anchor=\"start\" dy=\"0em\" style=\"font-family: 'Open Sans', verdana, arial, sans-serif; font-size: 17px; fill: rgb(42, 63, 95); opacity: 1; font-weight: normal; white-space: pre;\">Gross Profit by Segment and Year</text></g><g class=\"g-xtitle\"><text class=\"xtitle\" x=\"542\" y=\"560.3\" text-anchor=\"middle\" style=\"font-family: 'Open Sans', verdana, arial, sans-serif; font-size: 14px; fill: rgb(42, 63, 95); opacity: 1; font-weight: normal; white-space: pre;\">Year</text></g><g class=\"g-ytitle\"><text class=\"ytitle\" transform=\"rotate(-90,39.434375,310)\" x=\"39.434375\" y=\"310\" text-anchor=\"middle\" style=\"font-family: 'Open Sans', verdana, arial, sans-serif; font-size: 14px; fill: rgb(42, 63, 95); opacity: 1; font-weight: normal; white-space: pre;\">Gross profit (000)</text></g></g></svg>"
      ]
     },
     "metadata": {},
     "output_type": "display_data"
    }
   ],
   "source": [
    "px.bar(df_gross_profit, x='Year/Segment', y='Amount', color='Segment', barmode='stack', title='Gross Profit by Segment and Year', labels={'Amount': 'Gross profit (000)', 'Year/Segment': 'Year'}, height=600, width=1200)"
   ]
  },
  {
   "cell_type": "markdown",
   "metadata": {},
   "source": [
    "# 💡 We can see that there is a positive trend in each category\n",
    "* The revenue and gross profit of the company has been increasing over the years\n",
    "* 💡 `Other` segment is decreasing in terms of revenue and gross profit \n",
    "    * More selective approach to work. ie focus on main categories?"
   ]
  },
  {
   "cell_type": "markdown",
   "metadata": {},
   "source": [
    "# Now we can take a look at CAGR for each segment"
   ]
  },
  {
   "cell_type": "code",
   "execution_count": 7,
   "metadata": {},
   "outputs": [],
   "source": [
    "def cagr(start, end, periods):\n",
    "    return ((end/start)**(1/periods) - 1)*100"
   ]
  },
  {
   "cell_type": "code",
   "execution_count": 8,
   "metadata": {},
   "outputs": [
    {
     "data": {
      "text/html": [
       "<div>\n",
       "<style scoped>\n",
       "    .dataframe tbody tr th:only-of-type {\n",
       "        vertical-align: middle;\n",
       "    }\n",
       "\n",
       "    .dataframe tbody tr th {\n",
       "        vertical-align: top;\n",
       "    }\n",
       "\n",
       "    .dataframe thead th {\n",
       "        text-align: right;\n",
       "    }\n",
       "</style>\n",
       "<table border=\"1\" class=\"dataframe\">\n",
       "  <thead>\n",
       "    <tr style=\"text-align: right;\">\n",
       "      <th></th>\n",
       "      <th></th>\n",
       "      <th>Defence</th>\n",
       "      <th>Mining &amp; Industrial</th>\n",
       "      <th>Buildings &amp; Façades</th>\n",
       "      <th>Energy</th>\n",
       "      <th>Other Segments</th>\n",
       "      <th>Total</th>\n",
       "    </tr>\n",
       "    <tr>\n",
       "      <th>Year/Segment</th>\n",
       "      <th>Item</th>\n",
       "      <th></th>\n",
       "      <th></th>\n",
       "      <th></th>\n",
       "      <th></th>\n",
       "      <th></th>\n",
       "      <th></th>\n",
       "    </tr>\n",
       "  </thead>\n",
       "  <tbody>\n",
       "    <tr>\n",
       "      <th>2019.0</th>\n",
       "      <th>Revenue (000)</th>\n",
       "      <td>71.904</td>\n",
       "      <td>22.242</td>\n",
       "      <td>11.259</td>\n",
       "      <td>0.00</td>\n",
       "      <td>22.802</td>\n",
       "      <td>128.207</td>\n",
       "    </tr>\n",
       "    <tr>\n",
       "      <th>2020.0</th>\n",
       "      <th>Revenue (000)</th>\n",
       "      <td>54.106</td>\n",
       "      <td>27.588</td>\n",
       "      <td>15.301</td>\n",
       "      <td>0.00</td>\n",
       "      <td>27.068</td>\n",
       "      <td>124.063</td>\n",
       "    </tr>\n",
       "    <tr>\n",
       "      <th>2021.0</th>\n",
       "      <th>Revenue (000)</th>\n",
       "      <td>54.976</td>\n",
       "      <td>32.289</td>\n",
       "      <td>26.957</td>\n",
       "      <td>0.00</td>\n",
       "      <td>16.661</td>\n",
       "      <td>130.883</td>\n",
       "    </tr>\n",
       "    <tr>\n",
       "      <th>2022.0</th>\n",
       "      <th>Revenue (000)</th>\n",
       "      <td>112.069</td>\n",
       "      <td>55.183</td>\n",
       "      <td>38.093</td>\n",
       "      <td>0.00</td>\n",
       "      <td>23.187</td>\n",
       "      <td>228.532</td>\n",
       "    </tr>\n",
       "    <tr>\n",
       "      <th>2023.0</th>\n",
       "      <th>Revenue (000)</th>\n",
       "      <td>124.151</td>\n",
       "      <td>84.044</td>\n",
       "      <td>52.871</td>\n",
       "      <td>23.25</td>\n",
       "      <td>8.421</td>\n",
       "      <td>292.737</td>\n",
       "    </tr>\n",
       "  </tbody>\n",
       "</table>\n",
       "</div>"
      ],
      "text/plain": [
       "                            Defence  Mining & Industrial  Buildings & Façades  \\\n",
       "Year/Segment Item                                                               \n",
       "2019.0       Revenue (000)   71.904               22.242               11.259   \n",
       "2020.0       Revenue (000)   54.106               27.588               15.301   \n",
       "2021.0       Revenue (000)   54.976               32.289               26.957   \n",
       "2022.0       Revenue (000)  112.069               55.183               38.093   \n",
       "2023.0       Revenue (000)  124.151               84.044               52.871   \n",
       "\n",
       "                            Energy  Other Segments    Total  \n",
       "Year/Segment Item                                            \n",
       "2019.0       Revenue (000)    0.00          22.802  128.207  \n",
       "2020.0       Revenue (000)    0.00          27.068  124.063  \n",
       "2021.0       Revenue (000)    0.00          16.661  130.883  \n",
       "2022.0       Revenue (000)    0.00          23.187  228.532  \n",
       "2023.0       Revenue (000)   23.25           8.421  292.737  "
      ]
     },
     "execution_count": 8,
     "metadata": {},
     "output_type": "execute_result"
    }
   ],
   "source": [
    "df_revenue_by_year = df.loc[(slice(None), 'Revenue (000)'), :]\n",
    "df_revenue_by_year"
   ]
  },
  {
   "cell_type": "code",
   "execution_count": 9,
   "metadata": {},
   "outputs": [
    {
     "data": {
      "text/html": [
       "<div>\n",
       "<style scoped>\n",
       "    .dataframe tbody tr th:only-of-type {\n",
       "        vertical-align: middle;\n",
       "    }\n",
       "\n",
       "    .dataframe tbody tr th {\n",
       "        vertical-align: top;\n",
       "    }\n",
       "\n",
       "    .dataframe thead th {\n",
       "        text-align: right;\n",
       "    }\n",
       "</style>\n",
       "<table border=\"1\" class=\"dataframe\">\n",
       "  <thead>\n",
       "    <tr style=\"text-align: right;\">\n",
       "      <th></th>\n",
       "      <th></th>\n",
       "      <th>Defence</th>\n",
       "      <th>Mining &amp; Industrial</th>\n",
       "      <th>Buildings &amp; Façades</th>\n",
       "      <th>Energy</th>\n",
       "      <th>Other Segments</th>\n",
       "      <th>Total</th>\n",
       "    </tr>\n",
       "    <tr>\n",
       "      <th>Year/Segment</th>\n",
       "      <th>Item</th>\n",
       "      <th></th>\n",
       "      <th></th>\n",
       "      <th></th>\n",
       "      <th></th>\n",
       "      <th></th>\n",
       "      <th></th>\n",
       "    </tr>\n",
       "  </thead>\n",
       "  <tbody>\n",
       "    <tr>\n",
       "      <th>2019.0</th>\n",
       "      <th>Gross profit (000)</th>\n",
       "      <td>13.846</td>\n",
       "      <td>5.453</td>\n",
       "      <td>2.059</td>\n",
       "      <td>0.000</td>\n",
       "      <td>3.618</td>\n",
       "      <td>24.976</td>\n",
       "    </tr>\n",
       "    <tr>\n",
       "      <th>2020.0</th>\n",
       "      <th>Gross profit (000)</th>\n",
       "      <td>8.905</td>\n",
       "      <td>4.563</td>\n",
       "      <td>4.190</td>\n",
       "      <td>0.000</td>\n",
       "      <td>5.560</td>\n",
       "      <td>23.218</td>\n",
       "    </tr>\n",
       "    <tr>\n",
       "      <th>2021.0</th>\n",
       "      <th>Gross profit (000)</th>\n",
       "      <td>7.118</td>\n",
       "      <td>8.408</td>\n",
       "      <td>3.369</td>\n",
       "      <td>0.000</td>\n",
       "      <td>1.838</td>\n",
       "      <td>20.733</td>\n",
       "    </tr>\n",
       "    <tr>\n",
       "      <th>2022.0</th>\n",
       "      <th>Gross profit (000)</th>\n",
       "      <td>15.940</td>\n",
       "      <td>11.853</td>\n",
       "      <td>6.205</td>\n",
       "      <td>0.000</td>\n",
       "      <td>1.670</td>\n",
       "      <td>35.668</td>\n",
       "    </tr>\n",
       "    <tr>\n",
       "      <th>2023.0</th>\n",
       "      <th>Gross profit (000)</th>\n",
       "      <td>13.377</td>\n",
       "      <td>18.389</td>\n",
       "      <td>6.581</td>\n",
       "      <td>8.126</td>\n",
       "      <td>0.909</td>\n",
       "      <td>47.382</td>\n",
       "    </tr>\n",
       "  </tbody>\n",
       "</table>\n",
       "</div>"
      ],
      "text/plain": [
       "                                 Defence  Mining & Industrial  \\\n",
       "Year/Segment Item                                               \n",
       "2019.0       Gross profit (000)   13.846                5.453   \n",
       "2020.0       Gross profit (000)    8.905                4.563   \n",
       "2021.0       Gross profit (000)    7.118                8.408   \n",
       "2022.0       Gross profit (000)   15.940               11.853   \n",
       "2023.0       Gross profit (000)   13.377               18.389   \n",
       "\n",
       "                                 Buildings & Façades  Energy  Other Segments  \\\n",
       "Year/Segment Item                                                              \n",
       "2019.0       Gross profit (000)                2.059   0.000           3.618   \n",
       "2020.0       Gross profit (000)                4.190   0.000           5.560   \n",
       "2021.0       Gross profit (000)                3.369   0.000           1.838   \n",
       "2022.0       Gross profit (000)                6.205   0.000           1.670   \n",
       "2023.0       Gross profit (000)                6.581   8.126           0.909   \n",
       "\n",
       "                                  Total  \n",
       "Year/Segment Item                        \n",
       "2019.0       Gross profit (000)  24.976  \n",
       "2020.0       Gross profit (000)  23.218  \n",
       "2021.0       Gross profit (000)  20.733  \n",
       "2022.0       Gross profit (000)  35.668  \n",
       "2023.0       Gross profit (000)  47.382  "
      ]
     },
     "execution_count": 9,
     "metadata": {},
     "output_type": "execute_result"
    }
   ],
   "source": [
    "df_gp_by_year = df.loc[(slice(None), 'Gross profit (000)'), :]\n",
    "df_gp_by_year"
   ]
  },
  {
   "cell_type": "markdown",
   "metadata": {},
   "source": [
    "# From 2019 to 2023"
   ]
  },
  {
   "cell_type": "code",
   "execution_count": 10,
   "metadata": {},
   "outputs": [
    {
     "data": {
      "text/html": [
       "<div>\n",
       "<style scoped>\n",
       "    .dataframe tbody tr th:only-of-type {\n",
       "        vertical-align: middle;\n",
       "    }\n",
       "\n",
       "    .dataframe tbody tr th {\n",
       "        vertical-align: top;\n",
       "    }\n",
       "\n",
       "    .dataframe thead th {\n",
       "        text-align: right;\n",
       "    }\n",
       "</style>\n",
       "<table border=\"1\" class=\"dataframe\">\n",
       "  <thead>\n",
       "    <tr style=\"text-align: right;\">\n",
       "      <th></th>\n",
       "      <th>Defence</th>\n",
       "      <th>Mining &amp; Industrial</th>\n",
       "      <th>Buildings &amp; Façades</th>\n",
       "      <th>Energy</th>\n",
       "      <th>Other Segments</th>\n",
       "      <th>Total</th>\n",
       "    </tr>\n",
       "  </thead>\n",
       "  <tbody>\n",
       "    <tr>\n",
       "      <th>Revenue</th>\n",
       "      <td>14.630264</td>\n",
       "      <td>39.422614</td>\n",
       "      <td>47.207327</td>\n",
       "      <td>NaN</td>\n",
       "      <td>-22.044335</td>\n",
       "      <td>22.925355</td>\n",
       "    </tr>\n",
       "    <tr>\n",
       "      <th>Gross profit</th>\n",
       "      <td>-0.857789</td>\n",
       "      <td>35.512904</td>\n",
       "      <td>33.70846</td>\n",
       "      <td>NaN</td>\n",
       "      <td>-29.201537</td>\n",
       "      <td>17.360682</td>\n",
       "    </tr>\n",
       "  </tbody>\n",
       "</table>\n",
       "</div>"
      ],
      "text/plain": [
       "                Defence Mining & Industrial Buildings & Façades Energy  \\\n",
       "Revenue       14.630264           39.422614           47.207327    NaN   \n",
       "Gross profit  -0.857789           35.512904            33.70846    NaN   \n",
       "\n",
       "             Other Segments      Total  \n",
       "Revenue          -22.044335  22.925355  \n",
       "Gross profit     -29.201537  17.360682  "
      ]
     },
     "execution_count": 10,
     "metadata": {},
     "output_type": "execute_result"
    }
   ],
   "source": [
    "df_cagr = pd.DataFrame(index=['Revenue', 'Gross profit'], columns = df.columns)\n",
    "start_year, end_year = df_revenue_by_year.index.levels[0].min(), df_revenue_by_year.index.levels[0].max()\n",
    "for col in [x for x in df.columns if x != 'Energy']:\n",
    "    df_cagr.loc['Revenue', col] = cagr(df_revenue_by_year.loc[(start_year, 'Revenue (000)'), col], df_revenue_by_year.loc[(end_year, 'Revenue (000)'), col], end_year - start_year)\n",
    "    df_cagr.loc['Gross profit', col] = cagr(df_gp_by_year.loc[(start_year, 'Gross profit (000)'), col], df_gp_by_year.loc[(end_year, 'Gross profit (000)'), col], end_year - start_year)\n",
    "\n",
    "\n",
    "df_cagr_23 = df_cagr.copy()\n",
    "df_cagr_23"
   ]
  },
  {
   "cell_type": "markdown",
   "metadata": {},
   "source": [
    "# From 2019 to 2022"
   ]
  },
  {
   "cell_type": "code",
   "execution_count": 11,
   "metadata": {},
   "outputs": [
    {
     "data": {
      "text/html": [
       "<div>\n",
       "<style scoped>\n",
       "    .dataframe tbody tr th:only-of-type {\n",
       "        vertical-align: middle;\n",
       "    }\n",
       "\n",
       "    .dataframe tbody tr th {\n",
       "        vertical-align: top;\n",
       "    }\n",
       "\n",
       "    .dataframe thead th {\n",
       "        text-align: right;\n",
       "    }\n",
       "</style>\n",
       "<table border=\"1\" class=\"dataframe\">\n",
       "  <thead>\n",
       "    <tr style=\"text-align: right;\">\n",
       "      <th></th>\n",
       "      <th>Defence</th>\n",
       "      <th>Mining &amp; Industrial</th>\n",
       "      <th>Buildings &amp; Façades</th>\n",
       "      <th>Energy</th>\n",
       "      <th>Other Segments</th>\n",
       "      <th>Total</th>\n",
       "    </tr>\n",
       "  </thead>\n",
       "  <tbody>\n",
       "    <tr>\n",
       "      <th>Revenue</th>\n",
       "      <td>15.942897</td>\n",
       "      <td>35.376669</td>\n",
       "      <td>50.123421</td>\n",
       "      <td>NaN</td>\n",
       "      <td>0.559678</td>\n",
       "      <td>21.249073</td>\n",
       "    </tr>\n",
       "    <tr>\n",
       "      <th>Gross profit</th>\n",
       "      <td>4.806447</td>\n",
       "      <td>29.538122</td>\n",
       "      <td>44.44255</td>\n",
       "      <td>NaN</td>\n",
       "      <td>-22.717238</td>\n",
       "      <td>12.612161</td>\n",
       "    </tr>\n",
       "  </tbody>\n",
       "</table>\n",
       "</div>"
      ],
      "text/plain": [
       "                Defence Mining & Industrial Buildings & Façades Energy  \\\n",
       "Revenue       15.942897           35.376669           50.123421    NaN   \n",
       "Gross profit   4.806447           29.538122            44.44255    NaN   \n",
       "\n",
       "             Other Segments      Total  \n",
       "Revenue            0.559678  21.249073  \n",
       "Gross profit     -22.717238  12.612161  "
      ]
     },
     "execution_count": 11,
     "metadata": {},
     "output_type": "execute_result"
    }
   ],
   "source": [
    "df_cagr = pd.DataFrame(index=['Revenue', 'Gross profit'], columns = df.columns)\n",
    "start_year, end_year = df_revenue_by_year.index.levels[0].min(), 2022\n",
    "for col in [x for x in df.columns if x != 'Energy']:\n",
    "    df_cagr.loc['Revenue', col] = cagr(df_revenue_by_year.loc[(start_year, 'Revenue (000)'), col], df_revenue_by_year.loc[(end_year, 'Revenue (000)'), col], end_year - start_year)\n",
    "    df_cagr.loc['Gross profit', col] = cagr(df_gp_by_year.loc[(start_year, 'Gross profit (000)'), col], df_gp_by_year.loc[(end_year, 'Gross profit (000)'), col], end_year - start_year)\n",
    "df_cagr "
   ]
  },
  {
   "cell_type": "markdown",
   "metadata": {},
   "source": [
    "# 💡 We can see that `Defence` is slowing, but other sectors are still keeping higher growth\n",
    "* Energy is ommited as it is new in 2023"
   ]
  },
  {
   "cell_type": "markdown",
   "metadata": {},
   "source": [
    "# 📌 Is it probable that guidance will be missed if these trends continue?\n",
    "## 2024 Guidence:\n",
    "* Revenue: 570 - 610m\n",
    "* EBITDA: 45 - 52m"
   ]
  },
  {
   "cell_type": "code",
   "execution_count": 12,
   "metadata": {},
   "outputs": [],
   "source": [
    "rev_l, rev_h = 570, 610\n",
    "ebitda_l, ebitda_h = 45, 52"
   ]
  },
  {
   "cell_type": "code",
   "execution_count": 13,
   "metadata": {},
   "outputs": [
    {
     "data": {
      "text/plain": [
       "292.737"
      ]
     },
     "execution_count": 13,
     "metadata": {},
     "output_type": "execute_result"
    }
   ],
   "source": [
    "curr_revenue = df_revenue_by_year.loc[(2023, 'Revenue (000)'), 'Total']\n",
    "curr_revenue"
   ]
  },
  {
   "cell_type": "markdown",
   "metadata": {},
   "source": [
    "## Already fulfilled from guidance\n",
    "* **~ 51 % from lower bound, 48 % from upper bound**"
   ]
  },
  {
   "cell_type": "code",
   "execution_count": 15,
   "metadata": {},
   "outputs": [
    {
     "data": {
      "text/plain": [
       "(0.5135736842105264, 0.4798967213114754)"
      ]
     },
     "execution_count": 15,
     "metadata": {},
     "output_type": "execute_result"
    }
   ],
   "source": [
    "curr_revenue/rev_l, curr_revenue/rev_h"
   ]
  },
  {
   "cell_type": "code",
   "execution_count": 16,
   "metadata": {},
   "outputs": [
    {
     "data": {
      "text/plain": [
       "(277.263, 317.263)"
      ]
     },
     "execution_count": 16,
     "metadata": {},
     "output_type": "execute_result"
    }
   ],
   "source": [
    "rev_l - curr_revenue, rev_h - curr_revenue"
   ]
  },
  {
   "cell_type": "markdown",
   "metadata": {},
   "source": [
    "# ... 277 to 317m to go\n",
    "\n",
    "## So let's say that CAGR will be ~ the same as till now\n",
    "* ⚡ Energy CAGR is unknown but management says that they are positioned for growth&profit thus we will use conservative Defense sector CAGR as proxy"
   ]
  },
  {
   "cell_type": "code",
   "execution_count": 16,
   "metadata": {},
   "outputs": [
    {
     "data": {
      "text/html": [
       "<div>\n",
       "<style scoped>\n",
       "    .dataframe tbody tr th:only-of-type {\n",
       "        vertical-align: middle;\n",
       "    }\n",
       "\n",
       "    .dataframe tbody tr th {\n",
       "        vertical-align: top;\n",
       "    }\n",
       "\n",
       "    .dataframe thead th {\n",
       "        text-align: right;\n",
       "    }\n",
       "</style>\n",
       "<table border=\"1\" class=\"dataframe\">\n",
       "  <thead>\n",
       "    <tr style=\"text-align: right;\">\n",
       "      <th></th>\n",
       "      <th>Defence</th>\n",
       "      <th>Mining &amp; Industrial</th>\n",
       "      <th>Buildings &amp; Façades</th>\n",
       "      <th>Energy</th>\n",
       "      <th>Other Segments</th>\n",
       "      <th>Total</th>\n",
       "    </tr>\n",
       "  </thead>\n",
       "  <tbody>\n",
       "    <tr>\n",
       "      <th>Revenue</th>\n",
       "      <td>14.630264</td>\n",
       "      <td>39.422614</td>\n",
       "      <td>47.207327</td>\n",
       "      <td>14.630264</td>\n",
       "      <td>-22.044335</td>\n",
       "      <td>22.925355</td>\n",
       "    </tr>\n",
       "    <tr>\n",
       "      <th>Gross profit</th>\n",
       "      <td>-0.857789</td>\n",
       "      <td>35.512904</td>\n",
       "      <td>33.70846</td>\n",
       "      <td>NaN</td>\n",
       "      <td>-29.201537</td>\n",
       "      <td>17.360682</td>\n",
       "    </tr>\n",
       "  </tbody>\n",
       "</table>\n",
       "</div>"
      ],
      "text/plain": [
       "                Defence Mining & Industrial Buildings & Façades     Energy  \\\n",
       "Revenue       14.630264           39.422614           47.207327  14.630264   \n",
       "Gross profit  -0.857789           35.512904            33.70846        NaN   \n",
       "\n",
       "             Other Segments      Total  \n",
       "Revenue          -22.044335  22.925355  \n",
       "Gross profit     -29.201537  17.360682  "
      ]
     },
     "execution_count": 16,
     "metadata": {},
     "output_type": "execute_result"
    }
   ],
   "source": [
    "df_cagr_23.loc['Revenue', 'Energy'] = df_cagr_23.loc['Revenue', 'Defence']\n",
    "df_cagr_23"
   ]
  },
  {
   "cell_type": "markdown",
   "metadata": {},
   "source": [
    "# If the trend continues the revenue by sector may look like this"
   ]
  },
  {
   "cell_type": "code",
   "execution_count": 17,
   "metadata": {},
   "outputs": [
    {
     "data": {
      "text/plain": [
       "Defence                1.146303\n",
       "Mining & Industrial    1.394226\n",
       "Buildings & Façades    1.472073\n",
       "Energy                 1.146303\n",
       "Other Segments         0.779557\n",
       "Name: Revenue, dtype: object"
      ]
     },
     "execution_count": 17,
     "metadata": {},
     "output_type": "execute_result"
    }
   ],
   "source": [
    "(df_cagr_23.loc['Revenue']/100 + 1)[:-1]"
   ]
  },
  {
   "cell_type": "code",
   "execution_count": 18,
   "metadata": {},
   "outputs": [
    {
     "data": {
      "text/plain": [
       "Defence                124.151\n",
       "Mining & Industrial     84.044\n",
       "Buildings & Façades     52.871\n",
       "Energy                  23.250\n",
       "Other Segments           8.421\n",
       "Name: (2023.0, Revenue (000)), dtype: float64"
      ]
     },
     "execution_count": 18,
     "metadata": {},
     "output_type": "execute_result"
    }
   ],
   "source": [
    "df_revenue_by_year.loc[(2023, 'Revenue (000)'), :].iloc[:-1]"
   ]
  },
  {
   "cell_type": "markdown",
   "metadata": {},
   "source": [
    "# Revenue in H2 2024 by segment"
   ]
  },
  {
   "cell_type": "code",
   "execution_count": 19,
   "metadata": {},
   "outputs": [
    {
     "data": {
      "text/plain": [
       "Defence                142.314619\n",
       "Mining & Industrial    117.176341\n",
       "Buildings & Façades     77.829986\n",
       "Energy                  26.651536\n",
       "Other Segments           6.564647\n",
       "dtype: object"
      ]
     },
     "execution_count": 19,
     "metadata": {},
     "output_type": "execute_result"
    }
   ],
   "source": [
    "(df_cagr_23.loc['Revenue']/100 + 1)[:-1] * df_revenue_by_year.loc[(2023, 'Revenue (000)'), :].iloc[:-1]"
   ]
  },
  {
   "cell_type": "markdown",
   "metadata": {},
   "source": [
    "# Total Revenue in H2 2024\n",
    "###  📌 ~ 370m which is more inclined to upper bound thus I expect them to not miss it"
   ]
  },
  {
   "cell_type": "code",
   "execution_count": 20,
   "metadata": {},
   "outputs": [
    {
     "data": {
      "text/plain": [
       "370.5371291578709"
      ]
     },
     "execution_count": 20,
     "metadata": {},
     "output_type": "execute_result"
    }
   ],
   "source": [
    "((df_cagr_23.loc['Revenue']/100 + 1)[:-1] * df_revenue_by_year.loc[(2023, 'Revenue (000)'), :].iloc[:-1]).sum()"
   ]
  },
  {
   "cell_type": "markdown",
   "metadata": {},
   "source": [
    "# 📊 BONUS: Sensitivity analysis\n",
    "* Le't say that CAGR will be in range N +- 1 ... X % - what revenue will be produced in the end?"
   ]
  },
  {
   "cell_type": "code",
   "execution_count": 21,
   "metadata": {},
   "outputs": [
    {
     "data": {
      "application/vnd.jupyter.widget-view+json": {
       "model_id": "217385f67377477e93b412a4949e9ea8",
       "version_major": 2,
       "version_minor": 0
      },
      "text/plain": [
       "  0%|          | 0/59049 [00:00<?, ?it/s]"
      ]
     },
     "metadata": {},
     "output_type": "display_data"
    }
   ],
   "source": [
    "arr_diff = np.arange(-0.09, 0.08, 0.02)\n",
    "# Create all possible 5 elements combinations from arr_diff\n",
    "combs = np.array(np.meshgrid(*[arr_diff]*5)).T.reshape(-1, 5)\n",
    "\n",
    "res_revenue = np.zeros(combs.shape[0])\n",
    "\n",
    "for i, comb in tqdm(enumerate(combs), total=combs.shape[0]):\n",
    "    cagr_array = (df_cagr_23.loc['Revenue']/100 + 1)[:-1] + comb\n",
    "    res_revenue[i] = (df_revenue_by_year.loc[(2023, 'Revenue (000)'), :].iloc[:-1] * cagr_array).sum()\n"
   ]
  },
  {
   "cell_type": "code",
   "execution_count": 25,
   "metadata": {},
   "outputs": [
    {
     "data": {
      "image/svg+xml": [
       "<svg class=\"main-svg\" xmlns=\"http://www.w3.org/2000/svg\" xmlns:xlink=\"http://www.w3.org/1999/xlink\" width=\"1200\" height=\"600\" style=\"\" viewBox=\"0 0 1200 600\"><rect x=\"0\" y=\"0\" width=\"1200\" height=\"600\" style=\"fill: rgb(255, 255, 255); fill-opacity: 1;\"/><defs id=\"defs-13edf9\"><g class=\"clips\"><clipPath id=\"clip13edf9xyplot\" class=\"plotclip\"><rect width=\"1040\" height=\"420\"/></clipPath><clipPath class=\"axesclip\" id=\"clip13edf9x\"><rect x=\"80\" y=\"0\" width=\"1040\" height=\"600\"/></clipPath><clipPath class=\"axesclip\" id=\"clip13edf9y\"><rect x=\"0\" y=\"100\" width=\"1200\" height=\"420\"/></clipPath><clipPath class=\"axesclip\" id=\"clip13edf9xy\"><rect x=\"80\" y=\"100\" width=\"1040\" height=\"420\"/></clipPath></g><g class=\"gradients\"/><g class=\"patterns\"/></defs><g class=\"bglayer\"><rect class=\"bg\" x=\"80\" y=\"100\" width=\"1040\" height=\"420\" style=\"fill: rgb(229, 236, 246); fill-opacity: 1; stroke-width: 0;\"/></g><g class=\"layer-below\"><g class=\"imagelayer\"/><g class=\"shapelayer\"/></g><g class=\"cartesianlayer\"><g class=\"subplot xy\"><g class=\"layer-subplot\"><g class=\"shapelayer\"/><g class=\"imagelayer\"/></g><g class=\"minor-gridlayer\"><g class=\"x\"/><g class=\"y\"/></g><g class=\"gridlayer\"><g class=\"x\"/><g class=\"y\"><path class=\"ygrid crisp\" transform=\"translate(0,458.76)\" d=\"M80,0h1040\" style=\"stroke: rgb(255, 255, 255); stroke-opacity: 1; stroke-width: 1px;\"/><path class=\"ygrid crisp\" transform=\"translate(0,397.51)\" d=\"M80,0h1040\" style=\"stroke: rgb(255, 255, 255); stroke-opacity: 1; stroke-width: 1px;\"/><path class=\"ygrid crisp\" transform=\"translate(0,336.27)\" d=\"M80,0h1040\" style=\"stroke: rgb(255, 255, 255); stroke-opacity: 1; stroke-width: 1px;\"/><path class=\"ygrid crisp\" transform=\"translate(0,275.03)\" d=\"M80,0h1040\" style=\"stroke: rgb(255, 255, 255); stroke-opacity: 1; stroke-width: 1px;\"/><path class=\"ygrid crisp\" transform=\"translate(0,213.78)\" d=\"M80,0h1040\" style=\"stroke: rgb(255, 255, 255); stroke-opacity: 1; stroke-width: 1px;\"/><path class=\"ygrid crisp\" transform=\"translate(0,152.54)\" d=\"M80,0h1040\" style=\"stroke: rgb(255, 255, 255); stroke-opacity: 1; stroke-width: 1px;\"/></g></g><g class=\"zerolinelayer\"><path class=\"yzl zl crisp\" transform=\"translate(0,520)\" d=\"M80,0h1040\" style=\"stroke: rgb(255, 255, 255); stroke-opacity: 1; stroke-width: 2px;\"/></g><path class=\"xlines-below\"/><path class=\"ylines-below\"/><g class=\"overlines-below\"/><g class=\"xaxislayer-below\"/><g class=\"yaxislayer-below\"/><g class=\"overaxes-below\"/><g class=\"plot\" transform=\"translate(80,100)\" clip-path=\"url(#clip13edf9xyplot)\"><g class=\"barlayer mlayer\"><g class=\"trace bars\" shape-rendering=\"crispEdges\" style=\"opacity: 1;\"><g class=\"points\"><g class=\"point\"><path d=\"M0,420V419.39H10.95V420Z\" style=\"vector-effect: none; opacity: 1; stroke-width: 0px; fill: rgb(99, 110, 250); fill-opacity: 1;\"/></g><g class=\"point\"><path d=\"M10.95,420V418.16H21.89V420Z\" style=\"vector-effect: none; opacity: 1; stroke-width: 0px; fill: rgb(99, 110, 250); fill-opacity: 1;\"/></g><g class=\"point\"><path d=\"M21.89,420V416.63H32.84V420Z\" style=\"vector-effect: none; opacity: 1; stroke-width: 0px; fill: rgb(99, 110, 250); fill-opacity: 1;\"/></g><g class=\"point\"><path d=\"M32.84,420V415.41H43.79V420Z\" style=\"vector-effect: none; opacity: 1; stroke-width: 0px; fill: rgb(99, 110, 250); fill-opacity: 1;\"/></g><g class=\"point\"><path d=\"M43.79,420V412.65H54.74V420Z\" style=\"vector-effect: none; opacity: 1; stroke-width: 0px; fill: rgb(99, 110, 250); fill-opacity: 1;\"/></g><g class=\"point\"><path d=\"M54.74,420V408.98H65.68V420Z\" style=\"vector-effect: none; opacity: 1; stroke-width: 0px; fill: rgb(99, 110, 250); fill-opacity: 1;\"/></g><g class=\"point\"><path d=\"M65.68,420V405H76.63V420Z\" style=\"vector-effect: none; opacity: 1; stroke-width: 0px; fill: rgb(99, 110, 250); fill-opacity: 1;\"/></g><g class=\"point\"><path d=\"M76.63,420V399.79H87.58V420Z\" style=\"vector-effect: none; opacity: 1; stroke-width: 0px; fill: rgb(99, 110, 250); fill-opacity: 1;\"/></g><g class=\"point\"><path d=\"M87.58,420V395.5H98.53V420Z\" style=\"vector-effect: none; opacity: 1; stroke-width: 0px; fill: rgb(99, 110, 250); fill-opacity: 1;\"/></g><g class=\"point\"><path d=\"M98.53,420V387.85H109.47V420Z\" style=\"vector-effect: none; opacity: 1; stroke-width: 0px; fill: rgb(99, 110, 250); fill-opacity: 1;\"/></g><g class=\"point\"><path d=\"M109.47,420V382.64H120.42V420Z\" style=\"vector-effect: none; opacity: 1; stroke-width: 0px; fill: rgb(99, 110, 250); fill-opacity: 1;\"/></g><g class=\"point\"><path d=\"M120.42,420V374.37H131.37V420Z\" style=\"vector-effect: none; opacity: 1; stroke-width: 0px; fill: rgb(99, 110, 250); fill-opacity: 1;\"/></g><g class=\"point\"><path d=\"M131.37,420V366.11H142.32V420Z\" style=\"vector-effect: none; opacity: 1; stroke-width: 0px; fill: rgb(99, 110, 250); fill-opacity: 1;\"/></g><g class=\"point\"><path d=\"M142.32,420V356.61H153.26V420Z\" style=\"vector-effect: none; opacity: 1; stroke-width: 0px; fill: rgb(99, 110, 250); fill-opacity: 1;\"/></g><g class=\"point\"><path d=\"M153.26,420V346.81H164.21V420Z\" style=\"vector-effect: none; opacity: 1; stroke-width: 0px; fill: rgb(99, 110, 250); fill-opacity: 1;\"/></g><g class=\"point\"><path d=\"M164.21,420V337.02H175.16V420Z\" style=\"vector-effect: none; opacity: 1; stroke-width: 0px; fill: rgb(99, 110, 250); fill-opacity: 1;\"/></g><g class=\"point\"><path d=\"M175.16,420V325.38H186.11V420Z\" style=\"vector-effect: none; opacity: 1; stroke-width: 0px; fill: rgb(99, 110, 250); fill-opacity: 1;\"/></g><g class=\"point\"><path d=\"M186.11,420V315.27H197.05V420Z\" style=\"vector-effect: none; opacity: 1; stroke-width: 0px; fill: rgb(99, 110, 250); fill-opacity: 1;\"/></g><g class=\"point\"><path d=\"M197.05,420V299.66H208V420Z\" style=\"vector-effect: none; opacity: 1; stroke-width: 0px; fill: rgb(99, 110, 250); fill-opacity: 1;\"/></g><g class=\"point\"><path d=\"M208,420V290.16H218.95V420Z\" style=\"vector-effect: none; opacity: 1; stroke-width: 0px; fill: rgb(99, 110, 250); fill-opacity: 1;\"/></g><g class=\"point\"><path d=\"M218.95,420V276.38H229.89V420Z\" style=\"vector-effect: none; opacity: 1; stroke-width: 0px; fill: rgb(99, 110, 250); fill-opacity: 1;\"/></g><g class=\"point\"><path d=\"M229.89,420V264.14H240.84V420Z\" style=\"vector-effect: none; opacity: 1; stroke-width: 0px; fill: rgb(99, 110, 250); fill-opacity: 1;\"/></g><g class=\"point\"><path d=\"M240.84,420V249.13H251.79V420Z\" style=\"vector-effect: none; opacity: 1; stroke-width: 0px; fill: rgb(99, 110, 250); fill-opacity: 1;\"/></g><g class=\"point\"><path d=\"M251.79,420V234.74H262.74V420Z\" style=\"vector-effect: none; opacity: 1; stroke-width: 0px; fill: rgb(99, 110, 250); fill-opacity: 1;\"/></g><g class=\"point\"><path d=\"M262.74,420V223.1H273.68V420Z\" style=\"vector-effect: none; opacity: 1; stroke-width: 0px; fill: rgb(99, 110, 250); fill-opacity: 1;\"/></g><g class=\"point\"><path d=\"M273.68,420V208.1H284.63V420Z\" style=\"vector-effect: none; opacity: 1; stroke-width: 0px; fill: rgb(99, 110, 250); fill-opacity: 1;\"/></g><g class=\"point\"><path d=\"M284.63,420V197.07H295.58V420Z\" style=\"vector-effect: none; opacity: 1; stroke-width: 0px; fill: rgb(99, 110, 250); fill-opacity: 1;\"/></g><g class=\"point\"><path d=\"M295.58,420V182.38H306.53V420Z\" style=\"vector-effect: none; opacity: 1; stroke-width: 0px; fill: rgb(99, 110, 250); fill-opacity: 1;\"/></g><g class=\"point\"><path d=\"M306.53,420V169.51H317.47V420Z\" style=\"vector-effect: none; opacity: 1; stroke-width: 0px; fill: rgb(99, 110, 250); fill-opacity: 1;\"/></g><g class=\"point\"><path d=\"M317.47,420V156.65H328.42V420Z\" style=\"vector-effect: none; opacity: 1; stroke-width: 0px; fill: rgb(99, 110, 250); fill-opacity: 1;\"/></g><g class=\"point\"><path d=\"M328.42,420V143.49H339.37V420Z\" style=\"vector-effect: none; opacity: 1; stroke-width: 0px; fill: rgb(99, 110, 250); fill-opacity: 1;\"/></g><g class=\"point\"><path d=\"M339.37,420V130.93H350.32V420Z\" style=\"vector-effect: none; opacity: 1; stroke-width: 0px; fill: rgb(99, 110, 250); fill-opacity: 1;\"/></g><g class=\"point\"><path d=\"M350.32,420V115.93H361.26V420Z\" style=\"vector-effect: none; opacity: 1; stroke-width: 0px; fill: rgb(99, 110, 250); fill-opacity: 1;\"/></g><g class=\"point\"><path d=\"M361.26,420V106.43H372.21V420Z\" style=\"vector-effect: none; opacity: 1; stroke-width: 0px; fill: rgb(99, 110, 250); fill-opacity: 1;\"/></g><g class=\"point\"><path d=\"M372.21,420V96.33H383.16V420Z\" style=\"vector-effect: none; opacity: 1; stroke-width: 0px; fill: rgb(99, 110, 250); fill-opacity: 1;\"/></g><g class=\"point\"><path d=\"M383.16,420V86.22H394.11V420Z\" style=\"vector-effect: none; opacity: 1; stroke-width: 0px; fill: rgb(99, 110, 250); fill-opacity: 1;\"/></g><g class=\"point\"><path d=\"M394.11,420V77.34H405.05V420Z\" style=\"vector-effect: none; opacity: 1; stroke-width: 0px; fill: rgb(99, 110, 250); fill-opacity: 1;\"/></g><g class=\"point\"><path d=\"M405.05,420V67.54H416V420Z\" style=\"vector-effect: none; opacity: 1; stroke-width: 0px; fill: rgb(99, 110, 250); fill-opacity: 1;\"/></g><g class=\"point\"><path d=\"M416,420V58.97H426.95V420Z\" style=\"vector-effect: none; opacity: 1; stroke-width: 0px; fill: rgb(99, 110, 250); fill-opacity: 1;\"/></g><g class=\"point\"><path d=\"M426.95,420V51.01H437.89V420Z\" style=\"vector-effect: none; opacity: 1; stroke-width: 0px; fill: rgb(99, 110, 250); fill-opacity: 1;\"/></g><g class=\"point\"><path d=\"M437.89,420V44.88H448.84V420Z\" style=\"vector-effect: none; opacity: 1; stroke-width: 0px; fill: rgb(99, 110, 250); fill-opacity: 1;\"/></g><g class=\"point\"><path d=\"M448.84,420V38.15H459.79V420Z\" style=\"vector-effect: none; opacity: 1; stroke-width: 0px; fill: rgb(99, 110, 250); fill-opacity: 1;\"/></g><g class=\"point\"><path d=\"M459.79,420V33.55H470.74V420Z\" style=\"vector-effect: none; opacity: 1; stroke-width: 0px; fill: rgb(99, 110, 250); fill-opacity: 1;\"/></g><g class=\"point\"><path d=\"M470.74,420V30.8H481.68V420Z\" style=\"vector-effect: none; opacity: 1; stroke-width: 0px; fill: rgb(99, 110, 250); fill-opacity: 1;\"/></g><g class=\"point\"><path d=\"M481.68,420V26.51H492.63V420Z\" style=\"vector-effect: none; opacity: 1; stroke-width: 0px; fill: rgb(99, 110, 250); fill-opacity: 1;\"/></g><g class=\"point\"><path d=\"M492.63,420V21.61H503.58V420Z\" style=\"vector-effect: none; opacity: 1; stroke-width: 0px; fill: rgb(99, 110, 250); fill-opacity: 1;\"/></g><g class=\"point\"><path d=\"M503.58,420V22.84H514.53V420Z\" style=\"vector-effect: none; opacity: 1; stroke-width: 0px; fill: rgb(99, 110, 250); fill-opacity: 1;\"/></g><g class=\"point\"><path d=\"M514.53,420V21H525.47V420Z\" style=\"vector-effect: none; opacity: 1; stroke-width: 0px; fill: rgb(99, 110, 250); fill-opacity: 1;\"/></g><g class=\"point\"><path d=\"M525.47,420V22.84H536.42V420Z\" style=\"vector-effect: none; opacity: 1; stroke-width: 0px; fill: rgb(99, 110, 250); fill-opacity: 1;\"/></g><g class=\"point\"><path d=\"M536.42,420V23.76H547.37V420Z\" style=\"vector-effect: none; opacity: 1; stroke-width: 0px; fill: rgb(99, 110, 250); fill-opacity: 1;\"/></g><g class=\"point\"><path d=\"M547.37,420V27.43H558.32V420Z\" style=\"vector-effect: none; opacity: 1; stroke-width: 0px; fill: rgb(99, 110, 250); fill-opacity: 1;\"/></g><g class=\"point\"><path d=\"M558.32,420V32.94H569.26V420Z\" style=\"vector-effect: none; opacity: 1; stroke-width: 0px; fill: rgb(99, 110, 250); fill-opacity: 1;\"/></g><g class=\"point\"><path d=\"M569.26,420V36.31H580.21V420Z\" style=\"vector-effect: none; opacity: 1; stroke-width: 0px; fill: rgb(99, 110, 250); fill-opacity: 1;\"/></g><g class=\"point\"><path d=\"M580.21,420V43.05H591.16V420Z\" style=\"vector-effect: none; opacity: 1; stroke-width: 0px; fill: rgb(99, 110, 250); fill-opacity: 1;\"/></g><g class=\"point\"><path d=\"M591.16,420V46.72H602.11V420Z\" style=\"vector-effect: none; opacity: 1; stroke-width: 0px; fill: rgb(99, 110, 250); fill-opacity: 1;\"/></g><g class=\"point\"><path d=\"M602.11,420V56.83H613.05V420Z\" style=\"vector-effect: none; opacity: 1; stroke-width: 0px; fill: rgb(99, 110, 250); fill-opacity: 1;\"/></g><g class=\"point\"><path d=\"M613.05,420V63.26H624V420Z\" style=\"vector-effect: none; opacity: 1; stroke-width: 0px; fill: rgb(99, 110, 250); fill-opacity: 1;\"/></g><g class=\"point\"><path d=\"M624,420V73.67H634.95V420Z\" style=\"vector-effect: none; opacity: 1; stroke-width: 0px; fill: rgb(99, 110, 250); fill-opacity: 1;\"/></g><g class=\"point\"><path d=\"M634.95,420V81.63H645.89V420Z\" style=\"vector-effect: none; opacity: 1; stroke-width: 0px; fill: rgb(99, 110, 250); fill-opacity: 1;\"/></g><g class=\"point\"><path d=\"M645.89,420V90.51H656.84V420Z\" style=\"vector-effect: none; opacity: 1; stroke-width: 0px; fill: rgb(99, 110, 250); fill-opacity: 1;\"/></g><g class=\"point\"><path d=\"M656.84,420V100.62H667.79V420Z\" style=\"vector-effect: none; opacity: 1; stroke-width: 0px; fill: rgb(99, 110, 250); fill-opacity: 1;\"/></g><g class=\"point\"><path d=\"M667.79,420V112.56H678.74V420Z\" style=\"vector-effect: none; opacity: 1; stroke-width: 0px; fill: rgb(99, 110, 250); fill-opacity: 1;\"/></g><g class=\"point\"><path d=\"M678.74,420V126.64H689.68V420Z\" style=\"vector-effect: none; opacity: 1; stroke-width: 0px; fill: rgb(99, 110, 250); fill-opacity: 1;\"/></g><g class=\"point\"><path d=\"M689.68,420V136.75H700.63V420Z\" style=\"vector-effect: none; opacity: 1; stroke-width: 0px; fill: rgb(99, 110, 250); fill-opacity: 1;\"/></g><g class=\"point\"><path d=\"M700.63,420V149.92H711.58V420Z\" style=\"vector-effect: none; opacity: 1; stroke-width: 0px; fill: rgb(99, 110, 250); fill-opacity: 1;\"/></g><g class=\"point\"><path d=\"M711.58,420V164.31H722.53V420Z\" style=\"vector-effect: none; opacity: 1; stroke-width: 0px; fill: rgb(99, 110, 250); fill-opacity: 1;\"/></g><g class=\"point\"><path d=\"M722.53,420V177.78H733.47V420Z\" style=\"vector-effect: none; opacity: 1; stroke-width: 0px; fill: rgb(99, 110, 250); fill-opacity: 1;\"/></g><g class=\"point\"><path d=\"M733.47,420V188.81H744.42V420Z\" style=\"vector-effect: none; opacity: 1; stroke-width: 0px; fill: rgb(99, 110, 250); fill-opacity: 1;\"/></g><g class=\"point\"><path d=\"M744.42,420V203.2H755.37V420Z\" style=\"vector-effect: none; opacity: 1; stroke-width: 0px; fill: rgb(99, 110, 250); fill-opacity: 1;\"/></g><g class=\"point\"><path d=\"M755.37,420V217.28H766.32V420Z\" style=\"vector-effect: none; opacity: 1; stroke-width: 0px; fill: rgb(99, 110, 250); fill-opacity: 1;\"/></g><g class=\"point\"><path d=\"M766.32,420V228.61H777.26V420Z\" style=\"vector-effect: none; opacity: 1; stroke-width: 0px; fill: rgb(99, 110, 250); fill-opacity: 1;\"/></g><g class=\"point\"><path d=\"M777.26,420V243.93H788.21V420Z\" style=\"vector-effect: none; opacity: 1; stroke-width: 0px; fill: rgb(99, 110, 250); fill-opacity: 1;\"/></g><g class=\"point\"><path d=\"M788.21,420V257.71H799.16V420Z\" style=\"vector-effect: none; opacity: 1; stroke-width: 0px; fill: rgb(99, 110, 250); fill-opacity: 1;\"/></g><g class=\"point\"><path d=\"M799.16,420V270.57H810.11V420Z\" style=\"vector-effect: none; opacity: 1; stroke-width: 0px; fill: rgb(99, 110, 250); fill-opacity: 1;\"/></g><g class=\"point\"><path d=\"M810.11,420V284.04H821.05V420Z\" style=\"vector-effect: none; opacity: 1; stroke-width: 0px; fill: rgb(99, 110, 250); fill-opacity: 1;\"/></g><g class=\"point\"><path d=\"M821.05,420V296.9H832V420Z\" style=\"vector-effect: none; opacity: 1; stroke-width: 0px; fill: rgb(99, 110, 250); fill-opacity: 1;\"/></g><g class=\"point\"><path d=\"M832,420V307.92H842.95V420Z\" style=\"vector-effect: none; opacity: 1; stroke-width: 0px; fill: rgb(99, 110, 250); fill-opacity: 1;\"/></g><g class=\"point\"><path d=\"M842.95,420V319.87H853.89V420Z\" style=\"vector-effect: none; opacity: 1; stroke-width: 0px; fill: rgb(99, 110, 250); fill-opacity: 1;\"/></g><g class=\"point\"><path d=\"M853.89,420V332.73H864.84V420Z\" style=\"vector-effect: none; opacity: 1; stroke-width: 0px; fill: rgb(99, 110, 250); fill-opacity: 1;\"/></g><g class=\"point\"><path d=\"M864.84,420V342.22H875.79V420Z\" style=\"vector-effect: none; opacity: 1; stroke-width: 0px; fill: rgb(99, 110, 250); fill-opacity: 1;\"/></g><g class=\"point\"><path d=\"M875.79,420V353.24H886.74V420Z\" style=\"vector-effect: none; opacity: 1; stroke-width: 0px; fill: rgb(99, 110, 250); fill-opacity: 1;\"/></g><g class=\"point\"><path d=\"M886.74,420V362.13H897.68V420Z\" style=\"vector-effect: none; opacity: 1; stroke-width: 0px; fill: rgb(99, 110, 250); fill-opacity: 1;\"/></g><g class=\"point\"><path d=\"M897.68,420V371.01H908.63V420Z\" style=\"vector-effect: none; opacity: 1; stroke-width: 0px; fill: rgb(99, 110, 250); fill-opacity: 1;\"/></g><g class=\"point\"><path d=\"M908.63,420V378.66H919.58V420Z\" style=\"vector-effect: none; opacity: 1; stroke-width: 0px; fill: rgb(99, 110, 250); fill-opacity: 1;\"/></g><g class=\"point\"><path d=\"M919.58,420V386.01H930.53V420Z\" style=\"vector-effect: none; opacity: 1; stroke-width: 0px; fill: rgb(99, 110, 250); fill-opacity: 1;\"/></g><g class=\"point\"><path d=\"M930.53,420V391.83H941.47V420Z\" style=\"vector-effect: none; opacity: 1; stroke-width: 0px; fill: rgb(99, 110, 250); fill-opacity: 1;\"/></g><g class=\"point\"><path d=\"M941.47,420V397.34H952.42V420Z\" style=\"vector-effect: none; opacity: 1; stroke-width: 0px; fill: rgb(99, 110, 250); fill-opacity: 1;\"/></g><g class=\"point\"><path d=\"M952.42,420V403.46H963.37V420Z\" style=\"vector-effect: none; opacity: 1; stroke-width: 0px; fill: rgb(99, 110, 250); fill-opacity: 1;\"/></g><g class=\"point\"><path d=\"M963.37,420V407.45H974.32V420Z\" style=\"vector-effect: none; opacity: 1; stroke-width: 0px; fill: rgb(99, 110, 250); fill-opacity: 1;\"/></g><g class=\"point\"><path d=\"M974.32,420V411.43H985.26V420Z\" style=\"vector-effect: none; opacity: 1; stroke-width: 0px; fill: rgb(99, 110, 250); fill-opacity: 1;\"/></g><g class=\"point\"><path d=\"M985.26,420V413.88H996.21V420Z\" style=\"vector-effect: none; opacity: 1; stroke-width: 0px; fill: rgb(99, 110, 250); fill-opacity: 1;\"/></g><g class=\"point\"><path d=\"M996.21,420V416.02H1007.16V420Z\" style=\"vector-effect: none; opacity: 1; stroke-width: 0px; fill: rgb(99, 110, 250); fill-opacity: 1;\"/></g><g class=\"point\"><path d=\"M1007.16,420V417.86H1018.11V420Z\" style=\"vector-effect: none; opacity: 1; stroke-width: 0px; fill: rgb(99, 110, 250); fill-opacity: 1;\"/></g><g class=\"point\"><path d=\"M1018.11,420V418.78H1029.05V420Z\" style=\"vector-effect: none; opacity: 1; stroke-width: 0px; fill: rgb(99, 110, 250); fill-opacity: 1;\"/></g><g class=\"point\"><path d=\"M1029.05,420V419.69H1040V420Z\" style=\"vector-effect: none; opacity: 1; stroke-width: 0px; fill: rgb(99, 110, 250); fill-opacity: 1;\"/></g></g></g></g></g><g class=\"overplot\"/><path class=\"xlines-above crisp\" d=\"M0,0\" style=\"fill: none;\"/><path class=\"ylines-above crisp\" d=\"M0,0\" style=\"fill: none;\"/><g class=\"overlines-above\"/><g class=\"xaxislayer-above\"><g class=\"xtick\"><text text-anchor=\"middle\" x=\"0\" y=\"533\" transform=\"translate(101.89,0)\" style=\"font-family: 'Open Sans', verdana, arial, sans-serif; font-size: 12px; fill: rgb(42, 63, 95); fill-opacity: 1; white-space: pre; opacity: 1;\">345</text></g><g class=\"xtick\"><text text-anchor=\"middle\" x=\"0\" y=\"533\" style=\"font-family: 'Open Sans', verdana, arial, sans-serif; font-size: 12px; fill: rgb(42, 63, 95); fill-opacity: 1; white-space: pre; opacity: 1;\" transform=\"translate(211.37,0)\">350</text></g><g class=\"xtick\"><text text-anchor=\"middle\" x=\"0\" y=\"533\" style=\"font-family: 'Open Sans', verdana, arial, sans-serif; font-size: 12px; fill: rgb(42, 63, 95); fill-opacity: 1; white-space: pre; opacity: 1;\" transform=\"translate(320.84000000000003,0)\">355</text></g><g class=\"xtick\"><text text-anchor=\"middle\" x=\"0\" y=\"533\" style=\"font-family: 'Open Sans', verdana, arial, sans-serif; font-size: 12px; fill: rgb(42, 63, 95); fill-opacity: 1; white-space: pre; opacity: 1;\" transform=\"translate(430.32,0)\">360</text></g><g class=\"xtick\"><text text-anchor=\"middle\" x=\"0\" y=\"533\" style=\"font-family: 'Open Sans', verdana, arial, sans-serif; font-size: 12px; fill: rgb(42, 63, 95); fill-opacity: 1; white-space: pre; opacity: 1;\" transform=\"translate(539.79,0)\">365</text></g><g class=\"xtick\"><text text-anchor=\"middle\" x=\"0\" y=\"533\" style=\"font-family: 'Open Sans', verdana, arial, sans-serif; font-size: 12px; fill: rgb(42, 63, 95); fill-opacity: 1; white-space: pre; opacity: 1;\" transform=\"translate(649.26,0)\">370</text></g><g class=\"xtick\"><text text-anchor=\"middle\" x=\"0\" y=\"533\" style=\"font-family: 'Open Sans', verdana, arial, sans-serif; font-size: 12px; fill: rgb(42, 63, 95); fill-opacity: 1; white-space: pre; opacity: 1;\" transform=\"translate(758.74,0)\">375</text></g><g class=\"xtick\"><text text-anchor=\"middle\" x=\"0\" y=\"533\" style=\"font-family: 'Open Sans', verdana, arial, sans-serif; font-size: 12px; fill: rgb(42, 63, 95); fill-opacity: 1; white-space: pre; opacity: 1;\" transform=\"translate(868.21,0)\">380</text></g><g class=\"xtick\"><text text-anchor=\"middle\" x=\"0\" y=\"533\" style=\"font-family: 'Open Sans', verdana, arial, sans-serif; font-size: 12px; fill: rgb(42, 63, 95); fill-opacity: 1; white-space: pre; opacity: 1;\" transform=\"translate(977.68,0)\">385</text></g><g class=\"xtick\"><text text-anchor=\"middle\" x=\"0\" y=\"533\" style=\"font-family: 'Open Sans', verdana, arial, sans-serif; font-size: 12px; fill: rgb(42, 63, 95); fill-opacity: 1; white-space: pre; opacity: 1;\" transform=\"translate(1087.1599999999999,0)\">390</text></g></g><g class=\"yaxislayer-above\"><g class=\"ytick\"><text text-anchor=\"end\" x=\"79\" y=\"4.199999999999999\" transform=\"translate(0,520)\" style=\"font-family: 'Open Sans', verdana, arial, sans-serif; font-size: 12px; fill: rgb(42, 63, 95); fill-opacity: 1; white-space: pre; opacity: 1;\">0</text></g><g class=\"ytick\"><text text-anchor=\"end\" x=\"79\" y=\"4.199999999999999\" style=\"font-family: 'Open Sans', verdana, arial, sans-serif; font-size: 12px; fill: rgb(42, 63, 95); fill-opacity: 1; white-space: pre; opacity: 1;\" transform=\"translate(0,458.76)\">200</text></g><g class=\"ytick\"><text text-anchor=\"end\" x=\"79\" y=\"4.199999999999999\" style=\"font-family: 'Open Sans', verdana, arial, sans-serif; font-size: 12px; fill: rgb(42, 63, 95); fill-opacity: 1; white-space: pre; opacity: 1;\" transform=\"translate(0,397.51)\">400</text></g><g class=\"ytick\"><text text-anchor=\"end\" x=\"79\" y=\"4.199999999999999\" style=\"font-family: 'Open Sans', verdana, arial, sans-serif; font-size: 12px; fill: rgb(42, 63, 95); fill-opacity: 1; white-space: pre; opacity: 1;\" transform=\"translate(0,336.27)\">600</text></g><g class=\"ytick\"><text text-anchor=\"end\" x=\"79\" y=\"4.199999999999999\" style=\"font-family: 'Open Sans', verdana, arial, sans-serif; font-size: 12px; fill: rgb(42, 63, 95); fill-opacity: 1; white-space: pre; opacity: 1;\" transform=\"translate(0,275.03)\">800</text></g><g class=\"ytick\"><text text-anchor=\"end\" x=\"79\" y=\"4.199999999999999\" style=\"font-family: 'Open Sans', verdana, arial, sans-serif; font-size: 12px; fill: rgb(42, 63, 95); fill-opacity: 1; white-space: pre; opacity: 1;\" transform=\"translate(0,213.78)\">1000</text></g><g class=\"ytick\"><text text-anchor=\"end\" x=\"79\" y=\"4.199999999999999\" style=\"font-family: 'Open Sans', verdana, arial, sans-serif; font-size: 12px; fill: rgb(42, 63, 95); fill-opacity: 1; white-space: pre; opacity: 1;\" transform=\"translate(0,152.54)\">1200</text></g></g><g class=\"overaxes-above\"/></g></g><g class=\"polarlayer\"/><g class=\"smithlayer\"/><g class=\"ternarylayer\"/><g class=\"geolayer\"/><g class=\"funnelarealayer\"/><g class=\"pielayer\"/><g class=\"iciclelayer\"/><g class=\"treemaplayer\"/><g class=\"sunburstlayer\"/><g class=\"glimages\"/><defs id=\"topdefs-13edf9\"><g class=\"clips\"/></defs><g class=\"layer-above\"><g class=\"imagelayer\"/><g class=\"shapelayer\"/></g><g class=\"infolayer\"><g class=\"g-gtitle\"><text class=\"gtitle\" x=\"60\" y=\"50\" text-anchor=\"start\" dy=\"0em\" style=\"font-family: 'Open Sans', verdana, arial, sans-serif; font-size: 17px; fill: rgb(42, 63, 95); opacity: 1; font-weight: normal; white-space: pre;\">Revenue 2024</text></g><g class=\"g-xtitle\"><text class=\"xtitle\" x=\"600\" y=\"560.3\" text-anchor=\"middle\" style=\"font-family: 'Open Sans', verdana, arial, sans-serif; font-size: 14px; fill: rgb(42, 63, 95); opacity: 1; font-weight: normal; white-space: pre;\">Revenue (000)</text></g><g class=\"g-ytitle\"><text class=\"ytitle\" transform=\"rotate(-90,24.184375000000003,310)\" x=\"24.184375000000003\" y=\"310\" text-anchor=\"middle\" style=\"font-family: 'Open Sans', verdana, arial, sans-serif; font-size: 14px; fill: rgb(42, 63, 95); opacity: 1; font-weight: normal; white-space: pre;\">count</text></g></g></svg>"
      ]
     },
     "metadata": {},
     "output_type": "display_data"
    }
   ],
   "source": [
    "px.histogram(x=res_revenue, title='Revenue 2024', labels={'x': 'Revenue (000)'}, height=600, width=1200)"
   ]
  },
  {
   "cell_type": "markdown",
   "metadata": {},
   "source": [
    "# 💡 If they want to miss revenue they would have to lower the CAGR of each segment by ~ 9 %"
   ]
  },
  {
   "cell_type": "markdown",
   "metadata": {},
   "source": [
    "## 📌 H1 2024 EBITDA Margin is 8.2 %\n",
    "* EBITDA H1 2024 was 23.9m\n",
    "* We can again assume there may be some change so we will try to simulate +- X % changes in EBITDA margin"
   ]
  },
  {
   "cell_type": "code",
   "execution_count": 28,
   "metadata": {},
   "outputs": [
    {
     "data": {
      "text/plain": [
       "(0.5311111111111111, 0.4596153846153846)"
      ]
     },
     "execution_count": 28,
     "metadata": {},
     "output_type": "execute_result"
    }
   ],
   "source": [
    "curr_ebitda = 23.9\n",
    "curr_ebitda/ebitda_l, curr_ebitda/ebitda_h"
   ]
  },
  {
   "cell_type": "code",
   "execution_count": 29,
   "metadata": {},
   "outputs": [
    {
     "data": {
      "text/plain": [
       "(21.1, 28.1)"
      ]
     },
     "execution_count": 29,
     "metadata": {},
     "output_type": "execute_result"
    }
   ],
   "source": [
    "ebitda_l - curr_ebitda, ebitda_h - curr_ebitda"
   ]
  },
  {
   "cell_type": "markdown",
   "metadata": {},
   "source": [
    "# ... 21.1 to 28.1m to go"
   ]
  },
  {
   "cell_type": "code",
   "execution_count": 30,
   "metadata": {},
   "outputs": [
    {
     "data": {
      "text/plain": [
       "array([0.042, 0.047, 0.052, 0.057, 0.062, 0.067, 0.072, 0.077, 0.082,\n",
       "       0.087, 0.092])"
      ]
     },
     "execution_count": 30,
     "metadata": {},
     "output_type": "execute_result"
    }
   ],
   "source": [
    "arr_diff_ebitda = np.arange(-0.04, 0.015, 0.005)\n",
    "arr_ebitda = arr_diff_ebitda + 0.082\n",
    "arr_ebitda"
   ]
  },
  {
   "cell_type": "code",
   "execution_count": 31,
   "metadata": {},
   "outputs": [
    {
     "data": {
      "application/vnd.jupyter.widget-view+json": {
       "model_id": "45a15a79f6d34b229590affb1f2b035f",
       "version_major": 2,
       "version_minor": 0
      },
      "text/plain": [
       "  0%|          | 0/59049 [00:00<?, ?it/s]"
      ]
     },
     "metadata": {},
     "output_type": "display_data"
    }
   ],
   "source": [
    "ebitda_possible = np.zeros((res_revenue.shape[0], arr_ebitda.shape[0]))\n",
    "\n",
    "for i, rev in tqdm(enumerate(res_revenue), total=res_revenue.shape[0]):\n",
    "    ebitda_possible[i] = rev * arr_ebitda"
   ]
  },
  {
   "cell_type": "code",
   "execution_count": 32,
   "metadata": {},
   "outputs": [
    {
     "data": {
      "text/html": [
       "<div>\n",
       "<style scoped>\n",
       "    .dataframe tbody tr th:only-of-type {\n",
       "        vertical-align: middle;\n",
       "    }\n",
       "\n",
       "    .dataframe tbody tr th {\n",
       "        vertical-align: top;\n",
       "    }\n",
       "\n",
       "    .dataframe thead th {\n",
       "        text-align: right;\n",
       "    }\n",
       "</style>\n",
       "<table border=\"1\" class=\"dataframe\">\n",
       "  <thead>\n",
       "    <tr style=\"text-align: right;\">\n",
       "      <th></th>\n",
       "      <th>EBITDA Margin 4.2 %</th>\n",
       "      <th>EBITDA Margin 4.7 %</th>\n",
       "      <th>EBITDA Margin 5.2 %</th>\n",
       "      <th>EBITDA Margin 5.7 %</th>\n",
       "      <th>EBITDA Margin 6.2 %</th>\n",
       "      <th>EBITDA Margin 6.7 %</th>\n",
       "      <th>EBITDA Margin 7.2 %</th>\n",
       "      <th>EBITDA Margin 7.7 %</th>\n",
       "      <th>EBITDA Margin 8.2 %</th>\n",
       "      <th>EBITDA Margin 8.7 %</th>\n",
       "      <th>EBITDA Margin 9.2 %</th>\n",
       "    </tr>\n",
       "  </thead>\n",
       "  <tbody>\n",
       "    <tr>\n",
       "      <th>344.190799</th>\n",
       "      <td>14.456014</td>\n",
       "      <td>16.176968</td>\n",
       "      <td>17.897922</td>\n",
       "      <td>19.618876</td>\n",
       "      <td>21.339830</td>\n",
       "      <td>23.060784</td>\n",
       "      <td>24.781738</td>\n",
       "      <td>26.502692</td>\n",
       "      <td>28.223646</td>\n",
       "      <td>29.944600</td>\n",
       "      <td>31.665554</td>\n",
       "    </tr>\n",
       "    <tr>\n",
       "      <th>345.871679</th>\n",
       "      <td>14.526611</td>\n",
       "      <td>16.255969</td>\n",
       "      <td>17.985327</td>\n",
       "      <td>19.714686</td>\n",
       "      <td>21.444044</td>\n",
       "      <td>23.173403</td>\n",
       "      <td>24.902761</td>\n",
       "      <td>26.632119</td>\n",
       "      <td>28.361478</td>\n",
       "      <td>30.090836</td>\n",
       "      <td>31.820194</td>\n",
       "    </tr>\n",
       "    <tr>\n",
       "      <th>347.552559</th>\n",
       "      <td>14.597207</td>\n",
       "      <td>16.334970</td>\n",
       "      <td>18.072733</td>\n",
       "      <td>19.810496</td>\n",
       "      <td>21.548259</td>\n",
       "      <td>23.286021</td>\n",
       "      <td>25.023784</td>\n",
       "      <td>26.761547</td>\n",
       "      <td>28.499310</td>\n",
       "      <td>30.237073</td>\n",
       "      <td>31.974835</td>\n",
       "    </tr>\n",
       "    <tr>\n",
       "      <th>349.233439</th>\n",
       "      <td>14.667804</td>\n",
       "      <td>16.413972</td>\n",
       "      <td>18.160139</td>\n",
       "      <td>19.906306</td>\n",
       "      <td>21.652473</td>\n",
       "      <td>23.398640</td>\n",
       "      <td>25.144808</td>\n",
       "      <td>26.890975</td>\n",
       "      <td>28.637142</td>\n",
       "      <td>30.383309</td>\n",
       "      <td>32.129476</td>\n",
       "    </tr>\n",
       "    <tr>\n",
       "      <th>350.914319</th>\n",
       "      <td>14.738401</td>\n",
       "      <td>16.492973</td>\n",
       "      <td>18.247545</td>\n",
       "      <td>20.002116</td>\n",
       "      <td>21.756688</td>\n",
       "      <td>23.511259</td>\n",
       "      <td>25.265831</td>\n",
       "      <td>27.020403</td>\n",
       "      <td>28.774974</td>\n",
       "      <td>30.529546</td>\n",
       "      <td>32.284117</td>\n",
       "    </tr>\n",
       "    <tr>\n",
       "      <th>...</th>\n",
       "      <td>...</td>\n",
       "      <td>...</td>\n",
       "      <td>...</td>\n",
       "      <td>...</td>\n",
       "      <td>...</td>\n",
       "      <td>...</td>\n",
       "      <td>...</td>\n",
       "      <td>...</td>\n",
       "      <td>...</td>\n",
       "      <td>...</td>\n",
       "      <td>...</td>\n",
       "    </tr>\n",
       "    <tr>\n",
       "      <th>384.305199</th>\n",
       "      <td>16.140818</td>\n",
       "      <td>18.062344</td>\n",
       "      <td>19.983870</td>\n",
       "      <td>21.905396</td>\n",
       "      <td>23.826922</td>\n",
       "      <td>25.748448</td>\n",
       "      <td>27.669974</td>\n",
       "      <td>29.591500</td>\n",
       "      <td>31.513026</td>\n",
       "      <td>33.434552</td>\n",
       "      <td>35.356078</td>\n",
       "    </tr>\n",
       "    <tr>\n",
       "      <th>385.986079</th>\n",
       "      <td>16.211415</td>\n",
       "      <td>18.141346</td>\n",
       "      <td>20.071276</td>\n",
       "      <td>22.001207</td>\n",
       "      <td>23.931137</td>\n",
       "      <td>25.861067</td>\n",
       "      <td>27.790998</td>\n",
       "      <td>29.720928</td>\n",
       "      <td>31.650858</td>\n",
       "      <td>33.580789</td>\n",
       "      <td>35.510719</td>\n",
       "    </tr>\n",
       "    <tr>\n",
       "      <th>387.666959</th>\n",
       "      <td>16.282012</td>\n",
       "      <td>18.220347</td>\n",
       "      <td>20.158682</td>\n",
       "      <td>22.097017</td>\n",
       "      <td>24.035351</td>\n",
       "      <td>25.973686</td>\n",
       "      <td>27.912021</td>\n",
       "      <td>29.850356</td>\n",
       "      <td>31.788691</td>\n",
       "      <td>33.727025</td>\n",
       "      <td>35.665360</td>\n",
       "    </tr>\n",
       "    <tr>\n",
       "      <th>389.347839</th>\n",
       "      <td>16.352609</td>\n",
       "      <td>18.299348</td>\n",
       "      <td>20.246088</td>\n",
       "      <td>22.192827</td>\n",
       "      <td>24.139566</td>\n",
       "      <td>26.086305</td>\n",
       "      <td>28.033044</td>\n",
       "      <td>29.979784</td>\n",
       "      <td>31.926523</td>\n",
       "      <td>33.873262</td>\n",
       "      <td>35.820001</td>\n",
       "    </tr>\n",
       "    <tr>\n",
       "      <th>391.028719</th>\n",
       "      <td>16.423206</td>\n",
       "      <td>18.378350</td>\n",
       "      <td>20.333493</td>\n",
       "      <td>22.288637</td>\n",
       "      <td>24.243781</td>\n",
       "      <td>26.198924</td>\n",
       "      <td>28.154068</td>\n",
       "      <td>30.109211</td>\n",
       "      <td>32.064355</td>\n",
       "      <td>34.019499</td>\n",
       "      <td>35.974642</td>\n",
       "    </tr>\n",
       "  </tbody>\n",
       "</table>\n",
       "<p>59049 rows × 11 columns</p>\n",
       "</div>"
      ],
      "text/plain": [
       "            EBITDA Margin 4.2 %  EBITDA Margin 4.7 %  EBITDA Margin 5.2 %  \\\n",
       "344.190799            14.456014            16.176968            17.897922   \n",
       "345.871679            14.526611            16.255969            17.985327   \n",
       "347.552559            14.597207            16.334970            18.072733   \n",
       "349.233439            14.667804            16.413972            18.160139   \n",
       "350.914319            14.738401            16.492973            18.247545   \n",
       "...                         ...                  ...                  ...   \n",
       "384.305199            16.140818            18.062344            19.983870   \n",
       "385.986079            16.211415            18.141346            20.071276   \n",
       "387.666959            16.282012            18.220347            20.158682   \n",
       "389.347839            16.352609            18.299348            20.246088   \n",
       "391.028719            16.423206            18.378350            20.333493   \n",
       "\n",
       "            EBITDA Margin 5.7 %  EBITDA Margin 6.2 %  EBITDA Margin 6.7 %  \\\n",
       "344.190799            19.618876            21.339830            23.060784   \n",
       "345.871679            19.714686            21.444044            23.173403   \n",
       "347.552559            19.810496            21.548259            23.286021   \n",
       "349.233439            19.906306            21.652473            23.398640   \n",
       "350.914319            20.002116            21.756688            23.511259   \n",
       "...                         ...                  ...                  ...   \n",
       "384.305199            21.905396            23.826922            25.748448   \n",
       "385.986079            22.001207            23.931137            25.861067   \n",
       "387.666959            22.097017            24.035351            25.973686   \n",
       "389.347839            22.192827            24.139566            26.086305   \n",
       "391.028719            22.288637            24.243781            26.198924   \n",
       "\n",
       "            EBITDA Margin 7.2 %  EBITDA Margin 7.7 %  EBITDA Margin 8.2 %  \\\n",
       "344.190799            24.781738            26.502692            28.223646   \n",
       "345.871679            24.902761            26.632119            28.361478   \n",
       "347.552559            25.023784            26.761547            28.499310   \n",
       "349.233439            25.144808            26.890975            28.637142   \n",
       "350.914319            25.265831            27.020403            28.774974   \n",
       "...                         ...                  ...                  ...   \n",
       "384.305199            27.669974            29.591500            31.513026   \n",
       "385.986079            27.790998            29.720928            31.650858   \n",
       "387.666959            27.912021            29.850356            31.788691   \n",
       "389.347839            28.033044            29.979784            31.926523   \n",
       "391.028719            28.154068            30.109211            32.064355   \n",
       "\n",
       "            EBITDA Margin 8.7 %  EBITDA Margin 9.2 %  \n",
       "344.190799            29.944600            31.665554  \n",
       "345.871679            30.090836            31.820194  \n",
       "347.552559            30.237073            31.974835  \n",
       "349.233439            30.383309            32.129476  \n",
       "350.914319            30.529546            32.284117  \n",
       "...                         ...                  ...  \n",
       "384.305199            33.434552            35.356078  \n",
       "385.986079            33.580789            35.510719  \n",
       "387.666959            33.727025            35.665360  \n",
       "389.347839            33.873262            35.820001  \n",
       "391.028719            34.019499            35.974642  \n",
       "\n",
       "[59049 rows x 11 columns]"
      ]
     },
     "execution_count": 32,
     "metadata": {},
     "output_type": "execute_result"
    }
   ],
   "source": [
    "df_ebitda = pd.DataFrame(ebitda_possible, columns=[f'EBITDA Margin {np.round(x*100, 2)} %' for x in arr_ebitda], index=res_revenue)\n",
    "df_ebitda"
   ]
  },
  {
   "cell_type": "code",
   "execution_count": 33,
   "metadata": {},
   "outputs": [
    {
     "name": "stderr",
     "output_type": "stream",
     "text": [
      "C:\\Users\\rasvo\\AppData\\Local\\Temp\\ipykernel_5788\\3588499757.py:4: FutureWarning:\n",
      "\n",
      "The default of observed=False is deprecated and will be changed to True in a future version of pandas. Pass observed=False to retain current behavior or observed=True to adopt the future default and silence this warning.\n",
      "\n"
     ]
    },
    {
     "data": {
      "text/html": [
       "<div>\n",
       "<style scoped>\n",
       "    .dataframe tbody tr th:only-of-type {\n",
       "        vertical-align: middle;\n",
       "    }\n",
       "\n",
       "    .dataframe tbody tr th {\n",
       "        vertical-align: top;\n",
       "    }\n",
       "\n",
       "    .dataframe thead th {\n",
       "        text-align: right;\n",
       "    }\n",
       "</style>\n",
       "<table border=\"1\" class=\"dataframe\">\n",
       "  <thead>\n",
       "    <tr style=\"text-align: right;\">\n",
       "      <th></th>\n",
       "      <th>EBITDA Margin 4.2 %</th>\n",
       "      <th>EBITDA Margin 4.7 %</th>\n",
       "      <th>EBITDA Margin 5.2 %</th>\n",
       "      <th>EBITDA Margin 5.7 %</th>\n",
       "      <th>EBITDA Margin 6.2 %</th>\n",
       "      <th>EBITDA Margin 6.7 %</th>\n",
       "      <th>EBITDA Margin 7.2 %</th>\n",
       "      <th>EBITDA Margin 7.7 %</th>\n",
       "      <th>EBITDA Margin 8.2 %</th>\n",
       "      <th>EBITDA Margin 8.7 %</th>\n",
       "      <th>EBITDA Margin 9.2 %</th>\n",
       "    </tr>\n",
       "    <tr>\n",
       "      <th>Revenue bin</th>\n",
       "      <th></th>\n",
       "      <th></th>\n",
       "      <th></th>\n",
       "      <th></th>\n",
       "      <th></th>\n",
       "      <th></th>\n",
       "      <th></th>\n",
       "      <th></th>\n",
       "      <th></th>\n",
       "      <th></th>\n",
       "      <th></th>\n",
       "    </tr>\n",
       "  </thead>\n",
       "  <tbody>\n",
       "    <tr>\n",
       "      <th>(340, 345]</th>\n",
       "      <td>14.474832</td>\n",
       "      <td>16.198026</td>\n",
       "      <td>17.921221</td>\n",
       "      <td>19.644415</td>\n",
       "      <td>21.367609</td>\n",
       "      <td>23.090803</td>\n",
       "      <td>24.813998</td>\n",
       "      <td>26.537192</td>\n",
       "      <td>28.260386</td>\n",
       "      <td>29.983581</td>\n",
       "      <td>31.706775</td>\n",
       "    </tr>\n",
       "    <tr>\n",
       "      <th>(345, 350]</th>\n",
       "      <td>14.636074</td>\n",
       "      <td>16.378464</td>\n",
       "      <td>18.120854</td>\n",
       "      <td>19.863243</td>\n",
       "      <td>21.605633</td>\n",
       "      <td>23.348023</td>\n",
       "      <td>25.090413</td>\n",
       "      <td>26.832803</td>\n",
       "      <td>28.575192</td>\n",
       "      <td>30.317582</td>\n",
       "      <td>32.059972</td>\n",
       "    </tr>\n",
       "    <tr>\n",
       "      <th>(350, 355]</th>\n",
       "      <td>14.824572</td>\n",
       "      <td>16.589402</td>\n",
       "      <td>18.354232</td>\n",
       "      <td>20.119062</td>\n",
       "      <td>21.883892</td>\n",
       "      <td>23.648722</td>\n",
       "      <td>25.413553</td>\n",
       "      <td>27.178383</td>\n",
       "      <td>28.943213</td>\n",
       "      <td>30.708043</td>\n",
       "      <td>32.472873</td>\n",
       "    </tr>\n",
       "    <tr>\n",
       "      <th>(355, 360]</th>\n",
       "      <td>15.024960</td>\n",
       "      <td>16.813646</td>\n",
       "      <td>18.602331</td>\n",
       "      <td>20.391017</td>\n",
       "      <td>22.179703</td>\n",
       "      <td>23.968388</td>\n",
       "      <td>25.757074</td>\n",
       "      <td>27.545760</td>\n",
       "      <td>29.334445</td>\n",
       "      <td>31.123131</td>\n",
       "      <td>32.911817</td>\n",
       "    </tr>\n",
       "    <tr>\n",
       "      <th>(360, 365]</th>\n",
       "      <td>15.229436</td>\n",
       "      <td>17.042464</td>\n",
       "      <td>18.855492</td>\n",
       "      <td>20.668520</td>\n",
       "      <td>22.481548</td>\n",
       "      <td>24.294576</td>\n",
       "      <td>26.107604</td>\n",
       "      <td>27.920632</td>\n",
       "      <td>29.733660</td>\n",
       "      <td>31.546688</td>\n",
       "      <td>33.359716</td>\n",
       "    </tr>\n",
       "    <tr>\n",
       "      <th>(365, 370]</th>\n",
       "      <td>15.435112</td>\n",
       "      <td>17.272625</td>\n",
       "      <td>19.110138</td>\n",
       "      <td>20.947652</td>\n",
       "      <td>22.785165</td>\n",
       "      <td>24.622678</td>\n",
       "      <td>26.460192</td>\n",
       "      <td>28.297705</td>\n",
       "      <td>30.135218</td>\n",
       "      <td>31.972732</td>\n",
       "      <td>33.810245</td>\n",
       "    </tr>\n",
       "    <tr>\n",
       "      <th>(370, 375]</th>\n",
       "      <td>15.640770</td>\n",
       "      <td>17.502767</td>\n",
       "      <td>19.364763</td>\n",
       "      <td>21.226760</td>\n",
       "      <td>23.088756</td>\n",
       "      <td>24.950752</td>\n",
       "      <td>26.812749</td>\n",
       "      <td>28.674745</td>\n",
       "      <td>30.536742</td>\n",
       "      <td>32.398738</td>\n",
       "      <td>34.260735</td>\n",
       "    </tr>\n",
       "    <tr>\n",
       "      <th>(375, 380]</th>\n",
       "      <td>15.845316</td>\n",
       "      <td>17.731664</td>\n",
       "      <td>19.618011</td>\n",
       "      <td>21.504358</td>\n",
       "      <td>23.390705</td>\n",
       "      <td>25.277053</td>\n",
       "      <td>27.163400</td>\n",
       "      <td>29.049747</td>\n",
       "      <td>30.936094</td>\n",
       "      <td>32.822441</td>\n",
       "      <td>34.708789</td>\n",
       "    </tr>\n",
       "    <tr>\n",
       "      <th>(380, 385]</th>\n",
       "      <td>16.045941</td>\n",
       "      <td>17.956172</td>\n",
       "      <td>19.866403</td>\n",
       "      <td>21.776634</td>\n",
       "      <td>23.686865</td>\n",
       "      <td>25.597096</td>\n",
       "      <td>27.507327</td>\n",
       "      <td>29.417558</td>\n",
       "      <td>31.327789</td>\n",
       "      <td>33.238020</td>\n",
       "      <td>35.148251</td>\n",
       "    </tr>\n",
       "    <tr>\n",
       "      <th>(385, 390]</th>\n",
       "      <td>16.235309</td>\n",
       "      <td>18.168084</td>\n",
       "      <td>20.100859</td>\n",
       "      <td>22.033634</td>\n",
       "      <td>23.966409</td>\n",
       "      <td>25.899184</td>\n",
       "      <td>27.831959</td>\n",
       "      <td>29.764733</td>\n",
       "      <td>31.697508</td>\n",
       "      <td>33.630283</td>\n",
       "      <td>35.563058</td>\n",
       "    </tr>\n",
       "    <tr>\n",
       "      <th>(390, 395]</th>\n",
       "      <td>16.397526</td>\n",
       "      <td>18.349612</td>\n",
       "      <td>20.301698</td>\n",
       "      <td>22.253785</td>\n",
       "      <td>24.205871</td>\n",
       "      <td>26.157957</td>\n",
       "      <td>28.110044</td>\n",
       "      <td>30.062130</td>\n",
       "      <td>32.014216</td>\n",
       "      <td>33.966303</td>\n",
       "      <td>35.918389</td>\n",
       "    </tr>\n",
       "  </tbody>\n",
       "</table>\n",
       "</div>"
      ],
      "text/plain": [
       "             EBITDA Margin 4.2 %  EBITDA Margin 4.7 %  EBITDA Margin 5.2 %  \\\n",
       "Revenue bin                                                                  \n",
       "(340, 345]             14.474832            16.198026            17.921221   \n",
       "(345, 350]             14.636074            16.378464            18.120854   \n",
       "(350, 355]             14.824572            16.589402            18.354232   \n",
       "(355, 360]             15.024960            16.813646            18.602331   \n",
       "(360, 365]             15.229436            17.042464            18.855492   \n",
       "(365, 370]             15.435112            17.272625            19.110138   \n",
       "(370, 375]             15.640770            17.502767            19.364763   \n",
       "(375, 380]             15.845316            17.731664            19.618011   \n",
       "(380, 385]             16.045941            17.956172            19.866403   \n",
       "(385, 390]             16.235309            18.168084            20.100859   \n",
       "(390, 395]             16.397526            18.349612            20.301698   \n",
       "\n",
       "             EBITDA Margin 5.7 %  EBITDA Margin 6.2 %  EBITDA Margin 6.7 %  \\\n",
       "Revenue bin                                                                  \n",
       "(340, 345]             19.644415            21.367609            23.090803   \n",
       "(345, 350]             19.863243            21.605633            23.348023   \n",
       "(350, 355]             20.119062            21.883892            23.648722   \n",
       "(355, 360]             20.391017            22.179703            23.968388   \n",
       "(360, 365]             20.668520            22.481548            24.294576   \n",
       "(365, 370]             20.947652            22.785165            24.622678   \n",
       "(370, 375]             21.226760            23.088756            24.950752   \n",
       "(375, 380]             21.504358            23.390705            25.277053   \n",
       "(380, 385]             21.776634            23.686865            25.597096   \n",
       "(385, 390]             22.033634            23.966409            25.899184   \n",
       "(390, 395]             22.253785            24.205871            26.157957   \n",
       "\n",
       "             EBITDA Margin 7.2 %  EBITDA Margin 7.7 %  EBITDA Margin 8.2 %  \\\n",
       "Revenue bin                                                                  \n",
       "(340, 345]             24.813998            26.537192            28.260386   \n",
       "(345, 350]             25.090413            26.832803            28.575192   \n",
       "(350, 355]             25.413553            27.178383            28.943213   \n",
       "(355, 360]             25.757074            27.545760            29.334445   \n",
       "(360, 365]             26.107604            27.920632            29.733660   \n",
       "(365, 370]             26.460192            28.297705            30.135218   \n",
       "(370, 375]             26.812749            28.674745            30.536742   \n",
       "(375, 380]             27.163400            29.049747            30.936094   \n",
       "(380, 385]             27.507327            29.417558            31.327789   \n",
       "(385, 390]             27.831959            29.764733            31.697508   \n",
       "(390, 395]             28.110044            30.062130            32.014216   \n",
       "\n",
       "             EBITDA Margin 8.7 %  EBITDA Margin 9.2 %  \n",
       "Revenue bin                                            \n",
       "(340, 345]             29.983581            31.706775  \n",
       "(345, 350]             30.317582            32.059972  \n",
       "(350, 355]             30.708043            32.472873  \n",
       "(355, 360]             31.123131            32.911817  \n",
       "(360, 365]             31.546688            33.359716  \n",
       "(365, 370]             31.972732            33.810245  \n",
       "(370, 375]             32.398738            34.260735  \n",
       "(375, 380]             32.822441            34.708789  \n",
       "(380, 385]             33.238020            35.148251  \n",
       "(385, 390]             33.630283            35.563058  \n",
       "(390, 395]             33.966303            35.918389  "
      ]
     },
     "execution_count": 33,
     "metadata": {},
     "output_type": "execute_result"
    }
   ],
   "source": [
    "# Bin the df_ebitda by revenue - intervals of 5\n",
    "bins = np.arange(340, 400, 5)\n",
    "df_ebitda['Revenue bin'] = pd.cut(df_ebitda.index, bins)\n",
    "df_ebitda = df_ebitda.groupby('Revenue bin').mean()\n",
    "df_ebitda = df_ebitda.reset_index()\n",
    "df_ebitda['Revenue bin'] = df_ebitda['Revenue bin'].astype(str)\n",
    "df_ebitda.index = df_ebitda['Revenue bin']\n",
    "df_ebitda = df_ebitda.drop(columns='Revenue bin')\n",
    "df_ebitda"
   ]
  },
  {
   "cell_type": "code",
   "execution_count": 35,
   "metadata": {},
   "outputs": [
    {
     "data": {
      "image/svg+xml": [
       "<svg class=\"main-svg\" xmlns=\"http://www.w3.org/2000/svg\" xmlns:xlink=\"http://www.w3.org/1999/xlink\" width=\"1200\" height=\"600\" style=\"\" viewBox=\"0 0 1200 600\"><rect x=\"0\" y=\"0\" width=\"1200\" height=\"600\" style=\"fill: rgb(255, 255, 255); fill-opacity: 1;\"/><defs id=\"defs-beefca\"><g class=\"clips\"><clipPath id=\"clipbeefcaxyplot\" class=\"plotclip\"><rect width=\"1038\" height=\"383\"/></clipPath><clipPath class=\"axesclip\" id=\"clipbeefcax\"><rect x=\"80\" y=\"0\" width=\"1038\" height=\"600\"/></clipPath><clipPath class=\"axesclip\" id=\"clipbeefcay\"><rect x=\"0\" y=\"100\" width=\"1200\" height=\"383\"/></clipPath><clipPath class=\"axesclip\" id=\"clipbeefcaxy\"><rect x=\"80\" y=\"100\" width=\"1038\" height=\"383\"/></clipPath></g><g class=\"gradients\"/><g class=\"patterns\"/></defs><g class=\"bglayer\"><rect class=\"bg\" x=\"80\" y=\"100\" width=\"1038\" height=\"383\" style=\"fill: rgb(229, 236, 246); fill-opacity: 1; stroke-width: 0;\"/></g><g class=\"layer-below\"><g class=\"imagelayer\"/><g class=\"shapelayer\"/></g><g class=\"cartesianlayer\"><g class=\"subplot xy\"><g class=\"layer-subplot\"><g class=\"shapelayer\"/><g class=\"imagelayer\"/></g><g class=\"minor-gridlayer\"><g class=\"x\"/><g class=\"y\"/></g><g class=\"gridlayer\"><g class=\"x\"/><g class=\"y\"><path class=\"ygrid crisp\" transform=\"translate(0,455.41)\" d=\"M80,0h1038\" style=\"stroke: rgb(255, 255, 255); stroke-opacity: 1; stroke-width: 1px;\"/><path class=\"ygrid crisp\" transform=\"translate(0,375.03)\" d=\"M80,0h1038\" style=\"stroke: rgb(255, 255, 255); stroke-opacity: 1; stroke-width: 1px;\"/><path class=\"ygrid crisp\" transform=\"translate(0,294.65999999999997)\" d=\"M80,0h1038\" style=\"stroke: rgb(255, 255, 255); stroke-opacity: 1; stroke-width: 1px;\"/><path class=\"ygrid crisp\" transform=\"translate(0,214.29000000000002)\" d=\"M80,0h1038\" style=\"stroke: rgb(255, 255, 255); stroke-opacity: 1; stroke-width: 1px;\"/><path class=\"ygrid crisp\" transform=\"translate(0,133.91)\" d=\"M80,0h1038\" style=\"stroke: rgb(255, 255, 255); stroke-opacity: 1; stroke-width: 1px;\"/></g></g><g class=\"zerolinelayer\"/><path class=\"xlines-below\"/><path class=\"ylines-below\"/><g class=\"overlines-below\"/><g class=\"xaxislayer-below\"/><g class=\"yaxislayer-below\"/><g class=\"overaxes-below\"/><g class=\"plot\" transform=\"translate(80,100)\" clip-path=\"url(#clipbeefcaxyplot)\"><g class=\"boxlayer mlayer\"><g class=\"trace boxes\" style=\"opacity: 1;\"><path class=\"box\" d=\"M24.06,348.41H70.3M24.06,357.42H70.3V339.4H24.06ZM47.18,357.42V363.85M47.18,339.4V332.94M35.62,363.85H58.74M35.62,332.94H58.74\" style=\"vector-effect: none; stroke-width: 2px; stroke: rgb(99, 110, 250); stroke-opacity: 1; fill: rgb(99, 110, 250); fill-opacity: 0.5;\"/><path class=\"box\" d=\"M118.43,318.88H164.66M118.43,328.96H164.66V308.79H118.43ZM141.55,328.96V336.15M141.55,308.79V301.56M129.99,336.15H153.1M129.99,301.56H153.1\" style=\"vector-effect: none; stroke-width: 2px; stroke: rgb(99, 110, 250); stroke-opacity: 1; fill: rgb(99, 110, 250); fill-opacity: 0.5;\"/><path class=\"box\" d=\"M212.79,289.34H259.03M212.79,300.49H259.03V278.18H212.79ZM235.91,300.49V308.45M235.91,278.18V270.18M224.35,308.45H247.47M224.35,270.18H247.47\" style=\"vector-effect: none; stroke-width: 2px; stroke: rgb(99, 110, 250); stroke-opacity: 1; fill: rgb(99, 110, 250); fill-opacity: 0.5;\"/><path class=\"box\" d=\"M307.15,259.8H353.39M307.15,272.03H353.39V247.57H307.15ZM330.27,272.03V280.75M330.27,247.57V238.81M318.71,280.75H341.83M318.71,238.81H341.83\" style=\"vector-effect: none; stroke-width: 2px; stroke: rgb(99, 110, 250); stroke-opacity: 1; fill: rgb(99, 110, 250); fill-opacity: 0.5;\"/><path class=\"box\" d=\"M401.52,230.26H447.76M401.52,243.56H447.76V216.96H401.52ZM424.64,243.56V253.05M424.64,216.96V207.43M413.08,253.05H436.2M413.08,207.43H436.2\" style=\"vector-effect: none; stroke-width: 2px; stroke: rgb(99, 110, 250); stroke-opacity: 1; fill: rgb(99, 110, 250); fill-opacity: 0.5;\"/><path class=\"box\" d=\"M495.88,200.73H542.12M495.88,215.1H542.12V186.35H495.88ZM519,215.1V225.35M519,186.35V176.05M507.44,225.35H530.56M507.44,176.05H530.56\" style=\"vector-effect: none; stroke-width: 2px; stroke: rgb(99, 110, 250); stroke-opacity: 1; fill: rgb(99, 110, 250); fill-opacity: 0.5;\"/><path class=\"box\" d=\"M590.24,171.19H636.48M590.24,186.63H636.48V155.74H590.24ZM613.36,186.63V197.65M613.36,155.74V144.67M601.8,197.65H624.92M601.8,144.67H624.92\" style=\"vector-effect: none; stroke-width: 2px; stroke: rgb(99, 110, 250); stroke-opacity: 1; fill: rgb(99, 110, 250); fill-opacity: 0.5;\"/><path class=\"box\" d=\"M684.61,141.65H730.85M684.61,158.17H730.85V125.13H684.61ZM707.73,158.17V169.95M707.73,125.13V113.29M696.17,169.95H719.29M696.17,113.29H719.29\" style=\"vector-effect: none; stroke-width: 2px; stroke: rgb(99, 110, 250); stroke-opacity: 1; fill: rgb(99, 110, 250); fill-opacity: 0.5;\"/><path class=\"box\" d=\"M778.97,112.11H825.21M778.97,129.7H825.21V94.52H778.97ZM802.09,129.7V142.25M802.09,94.52V81.91M790.53,142.25H813.65M790.53,81.91H813.65\" style=\"vector-effect: none; stroke-width: 2px; stroke: rgb(99, 110, 250); stroke-opacity: 1; fill: rgb(99, 110, 250); fill-opacity: 0.5;\"/><path class=\"box\" d=\"M873.34,82.58H919.57M873.34,101.24H919.57V63.91H873.34ZM896.45,101.24V114.55M896.45,63.91V50.53M884.89,114.55H908.01M884.89,50.53H908.01\" style=\"vector-effect: none; stroke-width: 2px; stroke: rgb(99, 110, 250); stroke-opacity: 1; fill: rgb(99, 110, 250); fill-opacity: 0.5;\"/><path class=\"box\" d=\"M967.7,53.04H1013.94M967.7,72.77H1013.94V33.3H967.7ZM990.82,72.77V86.85M990.82,33.3V19.15M979.26,86.85H1002.38M979.26,19.15H1002.38\" style=\"vector-effect: none; stroke-width: 2px; stroke: rgb(99, 110, 250); stroke-opacity: 1; fill: rgb(99, 110, 250); fill-opacity: 0.5;\"/><g class=\"points\"/><g class=\"points\"/><g class=\"points\"/><g class=\"points\"/><g class=\"points\"/><g class=\"points\"/><g class=\"points\"/><g class=\"points\"/><g class=\"points\"/><g class=\"points\"/><g class=\"points\"/></g></g></g><g class=\"overplot\"/><path class=\"xlines-above crisp\" d=\"M0,0\" style=\"fill: none;\"/><path class=\"ylines-above crisp\" d=\"M0,0\" style=\"fill: none;\"/><g class=\"overlines-above\"/><g class=\"xaxislayer-above\"><g class=\"xtick\"><text text-anchor=\"start\" x=\"0\" y=\"496\" transform=\"translate(127.18,0) rotate(30,0,490)\" style=\"font-family: 'Open Sans', verdana, arial, sans-serif; font-size: 12px; fill: rgb(42, 63, 95); fill-opacity: 1; white-space: pre; opacity: 1;\">EBITDA Margin 4.2 %</text></g><g class=\"xtick\"><text text-anchor=\"start\" x=\"0\" y=\"496\" transform=\"translate(221.55,0) rotate(30,0,490)\" style=\"font-family: 'Open Sans', verdana, arial, sans-serif; font-size: 12px; fill: rgb(42, 63, 95); fill-opacity: 1; white-space: pre; opacity: 1;\">EBITDA Margin 4.7 %</text></g><g class=\"xtick\"><text text-anchor=\"start\" x=\"0\" y=\"496\" transform=\"translate(315.90999999999997,0) rotate(30,0,490)\" style=\"font-family: 'Open Sans', verdana, arial, sans-serif; font-size: 12px; fill: rgb(42, 63, 95); fill-opacity: 1; white-space: pre; opacity: 1;\">EBITDA Margin 5.2 %</text></g><g class=\"xtick\"><text text-anchor=\"start\" x=\"0\" y=\"496\" transform=\"translate(410.27,0) rotate(30,0,490)\" style=\"font-family: 'Open Sans', verdana, arial, sans-serif; font-size: 12px; fill: rgb(42, 63, 95); fill-opacity: 1; white-space: pre; opacity: 1;\">EBITDA Margin 5.7 %</text></g><g class=\"xtick\"><text text-anchor=\"start\" x=\"0\" y=\"496\" transform=\"translate(504.64,0) rotate(30,0,490)\" style=\"font-family: 'Open Sans', verdana, arial, sans-serif; font-size: 12px; fill: rgb(42, 63, 95); fill-opacity: 1; white-space: pre; opacity: 1;\">EBITDA Margin 6.2 %</text></g><g class=\"xtick\"><text text-anchor=\"start\" x=\"0\" y=\"496\" transform=\"translate(599,0) rotate(30,0,490)\" style=\"font-family: 'Open Sans', verdana, arial, sans-serif; font-size: 12px; fill: rgb(42, 63, 95); fill-opacity: 1; white-space: pre; opacity: 1;\">EBITDA Margin 6.7 %</text></g><g class=\"xtick\"><text text-anchor=\"start\" x=\"0\" y=\"496\" transform=\"translate(693.36,0) rotate(30,0,490)\" style=\"font-family: 'Open Sans', verdana, arial, sans-serif; font-size: 12px; fill: rgb(42, 63, 95); fill-opacity: 1; white-space: pre; opacity: 1;\">EBITDA Margin 7.2 %</text></g><g class=\"xtick\"><text text-anchor=\"start\" x=\"0\" y=\"496\" transform=\"translate(787.73,0) rotate(30,0,490)\" style=\"font-family: 'Open Sans', verdana, arial, sans-serif; font-size: 12px; fill: rgb(42, 63, 95); fill-opacity: 1; white-space: pre; opacity: 1;\">EBITDA Margin 7.7 %</text></g><g class=\"xtick\"><text text-anchor=\"start\" x=\"0\" y=\"496\" transform=\"translate(882.09,0) rotate(30,0,490)\" style=\"font-family: 'Open Sans', verdana, arial, sans-serif; font-size: 12px; fill: rgb(42, 63, 95); fill-opacity: 1; white-space: pre; opacity: 1;\">EBITDA Margin 8.2 %</text></g><g class=\"xtick\"><text text-anchor=\"start\" x=\"0\" y=\"496\" transform=\"translate(976.45,0) rotate(30,0,490)\" style=\"font-family: 'Open Sans', verdana, arial, sans-serif; font-size: 12px; fill: rgb(42, 63, 95); fill-opacity: 1; white-space: pre; opacity: 1;\">EBITDA Margin 8.7 %</text></g><g class=\"xtick\"><text text-anchor=\"start\" x=\"0\" y=\"496\" transform=\"translate(1070.8200000000002,0) rotate(30,0,490)\" style=\"font-family: 'Open Sans', verdana, arial, sans-serif; font-size: 12px; fill: rgb(42, 63, 95); fill-opacity: 1; white-space: pre; opacity: 1;\">EBITDA Margin 9.2 %</text></g></g><g class=\"yaxislayer-above\"><g class=\"ytick\"><text text-anchor=\"end\" x=\"79\" y=\"4.199999999999999\" transform=\"translate(0,455.41)\" style=\"font-family: 'Open Sans', verdana, arial, sans-serif; font-size: 12px; fill: rgb(42, 63, 95); fill-opacity: 1; white-space: pre; opacity: 1;\">15</text></g><g class=\"ytick\"><text text-anchor=\"end\" x=\"79\" y=\"4.199999999999999\" style=\"font-family: 'Open Sans', verdana, arial, sans-serif; font-size: 12px; fill: rgb(42, 63, 95); fill-opacity: 1; white-space: pre; opacity: 1;\" transform=\"translate(0,375.03)\">20</text></g><g class=\"ytick\"><text text-anchor=\"end\" x=\"79\" y=\"4.199999999999999\" style=\"font-family: 'Open Sans', verdana, arial, sans-serif; font-size: 12px; fill: rgb(42, 63, 95); fill-opacity: 1; white-space: pre; opacity: 1;\" transform=\"translate(0,294.65999999999997)\">25</text></g><g class=\"ytick\"><text text-anchor=\"end\" x=\"79\" y=\"4.199999999999999\" style=\"font-family: 'Open Sans', verdana, arial, sans-serif; font-size: 12px; fill: rgb(42, 63, 95); fill-opacity: 1; white-space: pre; opacity: 1;\" transform=\"translate(0,214.29000000000002)\">30</text></g><g class=\"ytick\"><text text-anchor=\"end\" x=\"79\" y=\"4.199999999999999\" style=\"font-family: 'Open Sans', verdana, arial, sans-serif; font-size: 12px; fill: rgb(42, 63, 95); fill-opacity: 1; white-space: pre; opacity: 1;\" transform=\"translate(0,133.91)\">35</text></g></g><g class=\"overaxes-above\"/></g></g><g class=\"polarlayer\"/><g class=\"smithlayer\"/><g class=\"ternarylayer\"/><g class=\"geolayer\"/><g class=\"funnelarealayer\"/><g class=\"pielayer\"/><g class=\"iciclelayer\"/><g class=\"treemaplayer\"/><g class=\"sunburstlayer\"/><g class=\"glimages\"/><defs id=\"topdefs-beefca\"><g class=\"clips\"/></defs><g class=\"layer-above\"><g class=\"imagelayer\"/><g class=\"shapelayer\"/></g><g class=\"infolayer\"><g class=\"g-gtitle\"><text class=\"gtitle\" x=\"60\" y=\"50\" text-anchor=\"start\" dy=\"0em\" style=\"font-family: 'Open Sans', verdana, arial, sans-serif; font-size: 17px; fill: rgb(42, 63, 95); opacity: 1; font-weight: normal; white-space: pre;\">EBITDA 2024</text></g><g class=\"g-xtitle\"><text class=\"xtitle\" x=\"599\" y=\"587.9923828125\" text-anchor=\"middle\" style=\"font-family: 'Open Sans', verdana, arial, sans-serif; font-size: 14px; fill: rgb(42, 63, 95); opacity: 1; font-weight: normal; white-space: pre;\">EBITDA Margin</text></g><g class=\"g-ytitle\"><text class=\"ytitle\" transform=\"rotate(-90,39.434375,291.5)\" x=\"39.434375\" y=\"291.5\" text-anchor=\"middle\" style=\"font-family: 'Open Sans', verdana, arial, sans-serif; font-size: 14px; fill: rgb(42, 63, 95); opacity: 1; font-weight: normal; white-space: pre;\">EBITDA (000)</text></g></g></svg>"
      ]
     },
     "metadata": {},
     "output_type": "display_data"
    }
   ],
   "source": [
    "px.box(df_ebitda, title='EBITDA 2024', labels={'value': 'EBITDA (000)', 'variable': 'EBITDA Margin'}, height=600, width=1200)"
   ]
  },
  {
   "cell_type": "markdown",
   "metadata": {},
   "source": [
    "## Order book and Tenders are important for further Revenue/EBITDA growth\n",
    "* Order book is more volatile in nature\n",
    "* The most important thing is that Tenders are growing as if the win rate is maintained/higher than now, the order book will follow"
   ]
  },
  {
   "cell_type": "code",
   "execution_count": 36,
   "metadata": {},
   "outputs": [
    {
     "data": {
      "text/html": [
       "<div>\n",
       "<style scoped>\n",
       "    .dataframe tbody tr th:only-of-type {\n",
       "        vertical-align: middle;\n",
       "    }\n",
       "\n",
       "    .dataframe tbody tr th {\n",
       "        vertical-align: top;\n",
       "    }\n",
       "\n",
       "    .dataframe thead th {\n",
       "        text-align: right;\n",
       "    }\n",
       "</style>\n",
       "<table border=\"1\" class=\"dataframe\">\n",
       "  <thead>\n",
       "    <tr style=\"text-align: right;\">\n",
       "      <th></th>\n",
       "      <th>Orderbook</th>\n",
       "      <th>Tendered</th>\n",
       "      <th>Opportunities</th>\n",
       "    </tr>\n",
       "  </thead>\n",
       "  <tbody>\n",
       "    <tr>\n",
       "      <th>H1 21</th>\n",
       "      <td>0.113</td>\n",
       "      <td>0.567</td>\n",
       "      <td>1.93</td>\n",
       "    </tr>\n",
       "    <tr>\n",
       "      <th>H1 22</th>\n",
       "      <td>0.45</td>\n",
       "      <td>0.551</td>\n",
       "      <td>1.6</td>\n",
       "    </tr>\n",
       "    <tr>\n",
       "      <th>H1 23</th>\n",
       "      <td>0.529</td>\n",
       "      <td>0.654</td>\n",
       "      <td>2.04</td>\n",
       "    </tr>\n",
       "    <tr>\n",
       "      <th>H1 24</th>\n",
       "      <td>0.387</td>\n",
       "      <td>1.02</td>\n",
       "      <td>3.7</td>\n",
       "    </tr>\n",
       "  </tbody>\n",
       "</table>\n",
       "</div>"
      ],
      "text/plain": [
       "      Orderbook Tendered Opportunities\n",
       "H1 21     0.113    0.567          1.93\n",
       "H1 22      0.45    0.551           1.6\n",
       "H1 23     0.529    0.654          2.04\n",
       "H1 24     0.387     1.02           3.7"
      ]
     },
     "execution_count": 36,
     "metadata": {},
     "output_type": "execute_result"
    }
   ],
   "source": [
    "df_obt = pd.DataFrame(index=['H1 24', 'H1 23', 'H1 22', 'H1 21'], columns = ['Orderbook', 'Tendered', 'Opportunities'])\n",
    "df_obt.loc['H1 24', :] = [0.387, 1.02, 3.7]\n",
    "df_obt.loc['H1 23', :] = [0.529, 0.654, 2.04]\n",
    "df_obt.loc['H1 22', :] = [0.450, 0.551, 1.6]\n",
    "df_obt.loc['H1 21', :] = [0.113, 0.567, 1.93]\n",
    "df_obt = df_obt.iloc[::-1]\n",
    "df_obt"
   ]
  },
  {
   "cell_type": "code",
   "execution_count": 37,
   "metadata": {},
   "outputs": [
    {
     "data": {
      "image/svg+xml": [
       "<svg class=\"main-svg\" xmlns=\"http://www.w3.org/2000/svg\" xmlns:xlink=\"http://www.w3.org/1999/xlink\" width=\"1200\" height=\"600\" style=\"\" viewBox=\"0 0 1200 600\"><rect x=\"0\" y=\"0\" width=\"1200\" height=\"600\" style=\"fill: rgb(255, 255, 255); fill-opacity: 1;\"/><defs id=\"defs-60105f\"><g class=\"clips\"><clipPath id=\"clip60105fxyplot\" class=\"plotclip\"><rect width=\"307.5199999999999\" height=\"420\"/></clipPath><clipPath id=\"clip60105fx2y2plot\" class=\"plotclip\"><rect width=\"307.5199999999999\" height=\"420\"/></clipPath><clipPath id=\"clip60105fx3y3plot\" class=\"plotclip\"><rect width=\"307.5199999999999\" height=\"420\"/></clipPath><clipPath class=\"axesclip\" id=\"clip60105fx\"><rect x=\"80\" y=\"0\" width=\"307.5199999999999\" height=\"600\"/></clipPath><clipPath class=\"axesclip\" id=\"clip60105fy\"><rect x=\"0\" y=\"100\" width=\"1200\" height=\"420\"/></clipPath><clipPath class=\"axesclip\" id=\"clip60105fxy\"><rect x=\"80\" y=\"100\" width=\"307.5199999999999\" height=\"420\"/></clipPath><clipPath class=\"axesclip\" id=\"clip60105fy2\"><rect x=\"0\" y=\"100\" width=\"1200\" height=\"420\"/></clipPath><clipPath class=\"axesclip\" id=\"clip60105fxy2\"><rect x=\"80\" y=\"100\" width=\"307.5199999999999\" height=\"420\"/></clipPath><clipPath class=\"axesclip\" id=\"clip60105fy3\"><rect x=\"0\" y=\"100\" width=\"1200\" height=\"420\"/></clipPath><clipPath class=\"axesclip\" id=\"clip60105fxy3\"><rect x=\"80\" y=\"100\" width=\"307.5199999999999\" height=\"420\"/></clipPath><clipPath class=\"axesclip\" id=\"clip60105fx2\"><rect x=\"406.73999999999995\" y=\"0\" width=\"307.5199999999999\" height=\"600\"/></clipPath><clipPath class=\"axesclip\" id=\"clip60105fx2y\"><rect x=\"406.73999999999995\" y=\"100\" width=\"307.5199999999999\" height=\"420\"/></clipPath><clipPath class=\"axesclip\" id=\"clip60105fx2y2\"><rect x=\"406.73999999999995\" y=\"100\" width=\"307.5199999999999\" height=\"420\"/></clipPath><clipPath class=\"axesclip\" id=\"clip60105fx2y3\"><rect x=\"406.73999999999995\" y=\"100\" width=\"307.5199999999999\" height=\"420\"/></clipPath><clipPath class=\"axesclip\" id=\"clip60105fx3\"><rect x=\"733.4799999999999\" y=\"0\" width=\"307.5199999999999\" height=\"600\"/></clipPath><clipPath class=\"axesclip\" id=\"clip60105fx3y\"><rect x=\"733.4799999999999\" y=\"100\" width=\"307.5199999999999\" height=\"420\"/></clipPath><clipPath class=\"axesclip\" id=\"clip60105fx3y2\"><rect x=\"733.4799999999999\" y=\"100\" width=\"307.5199999999999\" height=\"420\"/></clipPath><clipPath class=\"axesclip\" id=\"clip60105fx3y3\"><rect x=\"733.4799999999999\" y=\"100\" width=\"307.5199999999999\" height=\"420\"/></clipPath></g><g class=\"gradients\"/><g class=\"patterns\"/></defs><g class=\"bglayer\"><rect class=\"bg\" x=\"80\" y=\"100\" width=\"307.5199999999999\" height=\"420\" style=\"fill: rgb(229, 236, 246); fill-opacity: 1; stroke-width: 0;\"/><rect class=\"bg\" x=\"406.73999999999995\" y=\"100\" width=\"307.5199999999999\" height=\"420\" style=\"fill: rgb(229, 236, 246); fill-opacity: 1; stroke-width: 0;\"/><rect class=\"bg\" x=\"733.4799999999999\" y=\"100\" width=\"307.5199999999999\" height=\"420\" style=\"fill: rgb(229, 236, 246); fill-opacity: 1; stroke-width: 0;\"/></g><g class=\"layer-below\"><g class=\"imagelayer\"/><g class=\"shapelayer\"/></g><g class=\"cartesianlayer\"><g class=\"subplot xy\"><g class=\"layer-subplot\"><g class=\"shapelayer\"/><g class=\"imagelayer\"/></g><g class=\"minor-gridlayer\"><g class=\"x\"/><g class=\"y\"/></g><g class=\"gridlayer\"><g class=\"x\"/><g class=\"y\"><path class=\"ygrid crisp\" transform=\"translate(0,466.08)\" d=\"M80,0h307.5199999999999\" style=\"stroke: rgb(255, 255, 255); stroke-opacity: 1; stroke-width: 1px;\"/><path class=\"ygrid crisp\" transform=\"translate(0,412.16)\" d=\"M80,0h307.5199999999999\" style=\"stroke: rgb(255, 255, 255); stroke-opacity: 1; stroke-width: 1px;\"/><path class=\"ygrid crisp\" transform=\"translate(0,358.24)\" d=\"M80,0h307.5199999999999\" style=\"stroke: rgb(255, 255, 255); stroke-opacity: 1; stroke-width: 1px;\"/><path class=\"ygrid crisp\" transform=\"translate(0,304.32)\" d=\"M80,0h307.5199999999999\" style=\"stroke: rgb(255, 255, 255); stroke-opacity: 1; stroke-width: 1px;\"/><path class=\"ygrid crisp\" transform=\"translate(0,250.41)\" d=\"M80,0h307.5199999999999\" style=\"stroke: rgb(255, 255, 255); stroke-opacity: 1; stroke-width: 1px;\"/><path class=\"ygrid crisp\" transform=\"translate(0,196.49)\" d=\"M80,0h307.5199999999999\" style=\"stroke: rgb(255, 255, 255); stroke-opacity: 1; stroke-width: 1px;\"/><path class=\"ygrid crisp\" transform=\"translate(0,142.57)\" d=\"M80,0h307.5199999999999\" style=\"stroke: rgb(255, 255, 255); stroke-opacity: 1; stroke-width: 1px;\"/></g></g><g class=\"zerolinelayer\"><path class=\"yzl zl crisp\" transform=\"translate(0,520)\" d=\"M80,0h307.5199999999999\" style=\"stroke: rgb(255, 255, 255); stroke-opacity: 1; stroke-width: 2px;\"/></g><path class=\"xlines-below\"/><path class=\"ylines-below\"/><g class=\"overlines-below\"/><g class=\"xaxislayer-below\"/><g class=\"yaxislayer-below\"/><g class=\"overaxes-below\"/><g class=\"plot\" transform=\"translate(80,100)\" clip-path=\"url(#clip60105fxyplot)\"><g class=\"barlayer mlayer\"><g class=\"trace bars\" style=\"opacity: 1;\"><g class=\"points\"><g class=\"point\"><path d=\"M7.69,420V407.81H69.19V420Z\" style=\"vector-effect: none; opacity: 1; stroke-width: 0.5px; fill: rgb(99, 110, 250); fill-opacity: 1; stroke: rgb(229, 236, 246); stroke-opacity: 1;\"/></g><g class=\"point\"><path d=\"M84.57,420V371.47H146.07V420Z\" style=\"vector-effect: none; opacity: 1; stroke-width: 0.5px; fill: rgb(99, 110, 250); fill-opacity: 1; stroke: rgb(229, 236, 246); stroke-opacity: 1;\"/></g><g class=\"point\"><path d=\"M161.45,420V362.95H222.95V420Z\" style=\"vector-effect: none; opacity: 1; stroke-width: 0.5px; fill: rgb(99, 110, 250); fill-opacity: 1; stroke: rgb(229, 236, 246); stroke-opacity: 1;\"/></g><g class=\"point\"><path d=\"M238.33,420V378.27H299.83V420Z\" style=\"vector-effect: none; opacity: 1; stroke-width: 0.5px; fill: rgb(99, 110, 250); fill-opacity: 1; stroke: rgb(229, 236, 246); stroke-opacity: 1;\"/></g></g></g></g></g><g class=\"overplot\"/><path class=\"xlines-above crisp\" d=\"M0,0\" style=\"fill: none;\"/><path class=\"ylines-above crisp\" d=\"M0,0\" style=\"fill: none;\"/><g class=\"overlines-above\"/><g class=\"xaxislayer-above\"><g class=\"xtick\"><text text-anchor=\"middle\" x=\"0\" y=\"533\" transform=\"translate(118.44,0)\" style=\"font-family: 'Open Sans', verdana, arial, sans-serif; font-size: 12px; fill: rgb(42, 63, 95); fill-opacity: 1; white-space: pre; opacity: 1;\">H1 21</text></g><g class=\"xtick\"><text text-anchor=\"middle\" x=\"0\" y=\"533\" transform=\"translate(195.32,0)\" style=\"font-family: 'Open Sans', verdana, arial, sans-serif; font-size: 12px; fill: rgb(42, 63, 95); fill-opacity: 1; white-space: pre; opacity: 1;\">H1 22</text></g><g class=\"xtick\"><text text-anchor=\"middle\" x=\"0\" y=\"533\" transform=\"translate(272.2,0)\" style=\"font-family: 'Open Sans', verdana, arial, sans-serif; font-size: 12px; fill: rgb(42, 63, 95); fill-opacity: 1; white-space: pre; opacity: 1;\">H1 23</text></g><g class=\"xtick\"><text text-anchor=\"middle\" x=\"0\" y=\"533\" transform=\"translate(349.08,0)\" style=\"font-family: 'Open Sans', verdana, arial, sans-serif; font-size: 12px; fill: rgb(42, 63, 95); fill-opacity: 1; white-space: pre; opacity: 1;\">H1 24</text></g></g><g class=\"yaxislayer-above\"><g class=\"ytick\"><text text-anchor=\"end\" x=\"79\" y=\"4.199999999999999\" transform=\"translate(0,520)\" style=\"font-family: 'Open Sans', verdana, arial, sans-serif; font-size: 12px; fill: rgb(42, 63, 95); fill-opacity: 1; white-space: pre; opacity: 1;\">0</text></g><g class=\"ytick\"><text text-anchor=\"end\" x=\"79\" y=\"4.199999999999999\" style=\"font-family: 'Open Sans', verdana, arial, sans-serif; font-size: 12px; fill: rgb(42, 63, 95); fill-opacity: 1; white-space: pre; opacity: 1;\" transform=\"translate(0,466.08)\">0.5</text></g><g class=\"ytick\"><text text-anchor=\"end\" x=\"79\" y=\"4.199999999999999\" style=\"font-family: 'Open Sans', verdana, arial, sans-serif; font-size: 12px; fill: rgb(42, 63, 95); fill-opacity: 1; white-space: pre; opacity: 1;\" transform=\"translate(0,412.16)\">1</text></g><g class=\"ytick\"><text text-anchor=\"end\" x=\"79\" y=\"4.199999999999999\" style=\"font-family: 'Open Sans', verdana, arial, sans-serif; font-size: 12px; fill: rgb(42, 63, 95); fill-opacity: 1; white-space: pre; opacity: 1;\" transform=\"translate(0,358.24)\">1.5</text></g><g class=\"ytick\"><text text-anchor=\"end\" x=\"79\" y=\"4.199999999999999\" style=\"font-family: 'Open Sans', verdana, arial, sans-serif; font-size: 12px; fill: rgb(42, 63, 95); fill-opacity: 1; white-space: pre; opacity: 1;\" transform=\"translate(0,304.32)\">2</text></g><g class=\"ytick\"><text text-anchor=\"end\" x=\"79\" y=\"4.199999999999999\" style=\"font-family: 'Open Sans', verdana, arial, sans-serif; font-size: 12px; fill: rgb(42, 63, 95); fill-opacity: 1; white-space: pre; opacity: 1;\" transform=\"translate(0,250.41)\">2.5</text></g><g class=\"ytick\"><text text-anchor=\"end\" x=\"79\" y=\"4.199999999999999\" style=\"font-family: 'Open Sans', verdana, arial, sans-serif; font-size: 12px; fill: rgb(42, 63, 95); fill-opacity: 1; white-space: pre; opacity: 1;\" transform=\"translate(0,196.49)\">3</text></g><g class=\"ytick\"><text text-anchor=\"end\" x=\"79\" y=\"4.199999999999999\" style=\"font-family: 'Open Sans', verdana, arial, sans-serif; font-size: 12px; fill: rgb(42, 63, 95); fill-opacity: 1; white-space: pre; opacity: 1;\" transform=\"translate(0,142.57)\">3.5</text></g></g><g class=\"overaxes-above\"/></g><g class=\"subplot x2y2\"><g class=\"layer-subplot\"><g class=\"shapelayer\"/><g class=\"imagelayer\"/></g><g class=\"minor-gridlayer\"><g class=\"x2\"/><g class=\"y2\"/></g><g class=\"gridlayer\"><g class=\"x2\"/><g class=\"y2\"><path class=\"y2grid crisp\" transform=\"translate(0,466.08)\" d=\"M406.73999999999995,0h307.5199999999999\" style=\"stroke: rgb(255, 255, 255); stroke-opacity: 1; stroke-width: 1px;\"/><path class=\"y2grid crisp\" transform=\"translate(0,412.16)\" d=\"M406.73999999999995,0h307.5199999999999\" style=\"stroke: rgb(255, 255, 255); stroke-opacity: 1; stroke-width: 1px;\"/><path class=\"y2grid crisp\" transform=\"translate(0,358.24)\" d=\"M406.73999999999995,0h307.5199999999999\" style=\"stroke: rgb(255, 255, 255); stroke-opacity: 1; stroke-width: 1px;\"/><path class=\"y2grid crisp\" transform=\"translate(0,304.32)\" d=\"M406.73999999999995,0h307.5199999999999\" style=\"stroke: rgb(255, 255, 255); stroke-opacity: 1; stroke-width: 1px;\"/><path class=\"y2grid crisp\" transform=\"translate(0,250.41)\" d=\"M406.73999999999995,0h307.5199999999999\" style=\"stroke: rgb(255, 255, 255); stroke-opacity: 1; stroke-width: 1px;\"/><path class=\"y2grid crisp\" transform=\"translate(0,196.49)\" d=\"M406.73999999999995,0h307.5199999999999\" style=\"stroke: rgb(255, 255, 255); stroke-opacity: 1; stroke-width: 1px;\"/><path class=\"y2grid crisp\" transform=\"translate(0,142.57)\" d=\"M406.73999999999995,0h307.5199999999999\" style=\"stroke: rgb(255, 255, 255); stroke-opacity: 1; stroke-width: 1px;\"/></g></g><g class=\"zerolinelayer\"><path class=\"y2zl zl crisp\" transform=\"translate(0,520)\" d=\"M406.73999999999995,0h307.5199999999999\" style=\"stroke: rgb(255, 255, 255); stroke-opacity: 1; stroke-width: 2px;\"/></g><path class=\"xlines-below\"/><path class=\"ylines-below\"/><g class=\"overlines-below\"/><g class=\"xaxislayer-below\"/><g class=\"yaxislayer-below\"/><g class=\"overaxes-below\"/><g class=\"plot\" transform=\"translate(406.73999999999995,100)\" clip-path=\"url(#clip60105fx2y2plot)\"><g class=\"barlayer mlayer\"><g class=\"trace bars\" style=\"opacity: 1;\"><g class=\"points\"><g class=\"point\"><path d=\"M7.69,420V358.86H69.19V420Z\" style=\"vector-effect: none; opacity: 1; stroke-width: 0.5px; fill: rgb(239, 85, 59); fill-opacity: 1; stroke: rgb(229, 236, 246); stroke-opacity: 1;\"/></g><g class=\"point\"><path d=\"M84.57,420V360.58H146.07V420Z\" style=\"vector-effect: none; opacity: 1; stroke-width: 0.5px; fill: rgb(239, 85, 59); fill-opacity: 1; stroke: rgb(229, 236, 246); stroke-opacity: 1;\"/></g><g class=\"point\"><path d=\"M161.45,420V349.47H222.95V420Z\" style=\"vector-effect: none; opacity: 1; stroke-width: 0.5px; fill: rgb(239, 85, 59); fill-opacity: 1; stroke: rgb(229, 236, 246); stroke-opacity: 1;\"/></g><g class=\"point\"><path d=\"M238.33,420V310.01H299.83V420Z\" style=\"vector-effect: none; opacity: 1; stroke-width: 0.5px; fill: rgb(239, 85, 59); fill-opacity: 1; stroke: rgb(229, 236, 246); stroke-opacity: 1;\"/></g></g></g></g></g><g class=\"overplot\"/><path class=\"xlines-above crisp\" d=\"M0,0\" style=\"fill: none;\"/><path class=\"ylines-above crisp\" d=\"M0,0\" style=\"fill: none;\"/><g class=\"overlines-above\"/><g class=\"xaxislayer-above\"><g class=\"x2tick\"><text text-anchor=\"middle\" x=\"0\" y=\"533\" transform=\"translate(445.17999999999995,0)\" style=\"font-family: 'Open Sans', verdana, arial, sans-serif; font-size: 12px; fill: rgb(42, 63, 95); fill-opacity: 1; white-space: pre; opacity: 1;\">H1 21</text></g><g class=\"x2tick\"><text text-anchor=\"middle\" x=\"0\" y=\"533\" transform=\"translate(522.06,0)\" style=\"font-family: 'Open Sans', verdana, arial, sans-serif; font-size: 12px; fill: rgb(42, 63, 95); fill-opacity: 1; white-space: pre; opacity: 1;\">H1 22</text></g><g class=\"x2tick\"><text text-anchor=\"middle\" x=\"0\" y=\"533\" transform=\"translate(598.9399999999999,0)\" style=\"font-family: 'Open Sans', verdana, arial, sans-serif; font-size: 12px; fill: rgb(42, 63, 95); fill-opacity: 1; white-space: pre; opacity: 1;\">H1 23</text></g><g class=\"x2tick\"><text text-anchor=\"middle\" x=\"0\" y=\"533\" transform=\"translate(675.8199999999999,0)\" style=\"font-family: 'Open Sans', verdana, arial, sans-serif; font-size: 12px; fill: rgb(42, 63, 95); fill-opacity: 1; white-space: pre; opacity: 1;\">H1 24</text></g></g><g class=\"yaxislayer-above\"/><g class=\"overaxes-above\"/></g><g class=\"subplot x3y3\"><g class=\"layer-subplot\"><g class=\"shapelayer\"/><g class=\"imagelayer\"/></g><g class=\"minor-gridlayer\"><g class=\"x3\"/><g class=\"y3\"/></g><g class=\"gridlayer\"><g class=\"x3\"/><g class=\"y3\"><path class=\"y3grid crisp\" transform=\"translate(0,466.08)\" d=\"M733.4799999999999,0h307.5199999999999\" style=\"stroke: rgb(255, 255, 255); stroke-opacity: 1; stroke-width: 1px;\"/><path class=\"y3grid crisp\" transform=\"translate(0,412.16)\" d=\"M733.4799999999999,0h307.5199999999999\" style=\"stroke: rgb(255, 255, 255); stroke-opacity: 1; stroke-width: 1px;\"/><path class=\"y3grid crisp\" transform=\"translate(0,358.24)\" d=\"M733.4799999999999,0h307.5199999999999\" style=\"stroke: rgb(255, 255, 255); stroke-opacity: 1; stroke-width: 1px;\"/><path class=\"y3grid crisp\" transform=\"translate(0,304.32)\" d=\"M733.4799999999999,0h307.5199999999999\" style=\"stroke: rgb(255, 255, 255); stroke-opacity: 1; stroke-width: 1px;\"/><path class=\"y3grid crisp\" transform=\"translate(0,250.41)\" d=\"M733.4799999999999,0h307.5199999999999\" style=\"stroke: rgb(255, 255, 255); stroke-opacity: 1; stroke-width: 1px;\"/><path class=\"y3grid crisp\" transform=\"translate(0,196.49)\" d=\"M733.4799999999999,0h307.5199999999999\" style=\"stroke: rgb(255, 255, 255); stroke-opacity: 1; stroke-width: 1px;\"/><path class=\"y3grid crisp\" transform=\"translate(0,142.57)\" d=\"M733.4799999999999,0h307.5199999999999\" style=\"stroke: rgb(255, 255, 255); stroke-opacity: 1; stroke-width: 1px;\"/></g></g><g class=\"zerolinelayer\"><path class=\"y3zl zl crisp\" transform=\"translate(0,520)\" d=\"M733.4799999999999,0h307.5199999999999\" style=\"stroke: rgb(255, 255, 255); stroke-opacity: 1; stroke-width: 2px;\"/></g><path class=\"xlines-below\"/><path class=\"ylines-below\"/><g class=\"overlines-below\"/><g class=\"xaxislayer-below\"/><g class=\"yaxislayer-below\"/><g class=\"overaxes-below\"/><g class=\"plot\" transform=\"translate(733.4799999999999,100)\" clip-path=\"url(#clip60105fx3y3plot)\"><g class=\"barlayer mlayer\"><g class=\"trace bars\" style=\"opacity: 1;\"><g class=\"points\"><g class=\"point\"><path d=\"M7.69,420V211.87H69.19V420Z\" style=\"vector-effect: none; opacity: 1; stroke-width: 0.5px; fill: rgb(0, 204, 150); fill-opacity: 1; stroke: rgb(229, 236, 246); stroke-opacity: 1;\"/></g><g class=\"point\"><path d=\"M84.57,420V247.46H146.07V420Z\" style=\"vector-effect: none; opacity: 1; stroke-width: 0.5px; fill: rgb(0, 204, 150); fill-opacity: 1; stroke: rgb(229, 236, 246); stroke-opacity: 1;\"/></g><g class=\"point\"><path d=\"M161.45,420V200.01H222.95V420Z\" style=\"vector-effect: none; opacity: 1; stroke-width: 0.5px; fill: rgb(0, 204, 150); fill-opacity: 1; stroke: rgb(229, 236, 246); stroke-opacity: 1;\"/></g><g class=\"point\"><path d=\"M238.33,420V21H299.83V420Z\" style=\"vector-effect: none; opacity: 1; stroke-width: 0.5px; fill: rgb(0, 204, 150); fill-opacity: 1; stroke: rgb(229, 236, 246); stroke-opacity: 1;\"/></g></g></g></g></g><g class=\"overplot\"/><path class=\"xlines-above crisp\" d=\"M0,0\" style=\"fill: none;\"/><path class=\"ylines-above crisp\" d=\"M0,0\" style=\"fill: none;\"/><g class=\"overlines-above\"/><g class=\"xaxislayer-above\"><g class=\"x3tick\"><text text-anchor=\"middle\" x=\"0\" y=\"533\" transform=\"translate(771.9199999999998,0)\" style=\"font-family: 'Open Sans', verdana, arial, sans-serif; font-size: 12px; fill: rgb(42, 63, 95); fill-opacity: 1; white-space: pre; opacity: 1;\">H1 21</text></g><g class=\"x3tick\"><text text-anchor=\"middle\" x=\"0\" y=\"533\" transform=\"translate(848.8,0)\" style=\"font-family: 'Open Sans', verdana, arial, sans-serif; font-size: 12px; fill: rgb(42, 63, 95); fill-opacity: 1; white-space: pre; opacity: 1;\">H1 22</text></g><g class=\"x3tick\"><text text-anchor=\"middle\" x=\"0\" y=\"533\" transform=\"translate(925.6799999999998,0)\" style=\"font-family: 'Open Sans', verdana, arial, sans-serif; font-size: 12px; fill: rgb(42, 63, 95); fill-opacity: 1; white-space: pre; opacity: 1;\">H1 23</text></g><g class=\"x3tick\"><text text-anchor=\"middle\" x=\"0\" y=\"533\" transform=\"translate(1002.56,0)\" style=\"font-family: 'Open Sans', verdana, arial, sans-serif; font-size: 12px; fill: rgb(42, 63, 95); fill-opacity: 1; white-space: pre; opacity: 1;\">H1 24</text></g></g><g class=\"yaxislayer-above\"/><g class=\"overaxes-above\"/></g></g><g class=\"polarlayer\"/><g class=\"smithlayer\"/><g class=\"ternarylayer\"/><g class=\"geolayer\"/><g class=\"funnelarealayer\"/><g class=\"pielayer\"/><g class=\"iciclelayer\"/><g class=\"treemaplayer\"/><g class=\"sunburstlayer\"/><g class=\"glimages\"/><defs id=\"topdefs-60105f\"><g class=\"clips\"/><clipPath id=\"legend60105f\"><rect width=\"128\" height=\"86\" x=\"0\" y=\"0\"/></clipPath></defs><g class=\"layer-above\"><g class=\"imagelayer\"/><g class=\"shapelayer\"/></g><g class=\"infolayer\"><g class=\"legend\" pointer-events=\"all\" transform=\"translate(1060.22,100)\"><rect class=\"bg\" shape-rendering=\"crispEdges\" style=\"stroke: rgb(68, 68, 68); stroke-opacity: 1; fill: rgb(255, 255, 255); fill-opacity: 1; stroke-width: 0px;\" width=\"128\" height=\"86\" x=\"0\" y=\"0\"/><g class=\"scrollbox\" transform=\"\" clip-path=\"url(#legend60105f)\"><text class=\"legendtitletext\" text-anchor=\"start\" x=\"2\" y=\"18.2\" style=\"font-family: 'Open Sans', verdana, arial, sans-serif; font-size: 14px; fill: rgb(42, 63, 95); fill-opacity: 1; white-space: pre;\">Type</text><g class=\"groups\" transform=\"\"><g class=\"traces\" transform=\"translate(0,32.7)\" style=\"opacity: 1;\"><text class=\"legendtext\" text-anchor=\"start\" x=\"40\" y=\"4.680000000000001\" style=\"font-family: 'Open Sans', verdana, arial, sans-serif; font-size: 12px; fill: rgb(42, 63, 95); fill-opacity: 1; white-space: pre;\">Orderbook</text><g class=\"layers\" style=\"opacity: 1;\"><g class=\"legendfill\"/><g class=\"legendlines\"/><g class=\"legendsymbols\"><g class=\"legendpoints\"><path class=\"legendundefined\" d=\"M6,6H-6V-6H6Z\" transform=\"translate(20,0)\" style=\"stroke-width: 0.5px; fill: rgb(99, 110, 250); fill-opacity: 1; stroke: rgb(229, 236, 246); stroke-opacity: 1;\"/></g></g></g><rect class=\"legendtoggle\" x=\"0\" y=\"-9.5\" width=\"122.1875\" height=\"19\" style=\"fill: rgb(0, 0, 0); fill-opacity: 0;\"/></g></g><g class=\"groups\" transform=\"\"><g class=\"traces\" transform=\"translate(0,51.7)\" style=\"opacity: 1;\"><text class=\"legendtext\" text-anchor=\"start\" x=\"40\" y=\"4.680000000000001\" style=\"font-family: 'Open Sans', verdana, arial, sans-serif; font-size: 12px; fill: rgb(42, 63, 95); fill-opacity: 1; white-space: pre;\">Tendered</text><g class=\"layers\" style=\"opacity: 1;\"><g class=\"legendfill\"/><g class=\"legendlines\"/><g class=\"legendsymbols\"><g class=\"legendpoints\"><path class=\"legendundefined\" d=\"M6,6H-6V-6H6Z\" transform=\"translate(20,0)\" style=\"stroke-width: 0.5px; fill: rgb(239, 85, 59); fill-opacity: 1; stroke: rgb(229, 236, 246); stroke-opacity: 1;\"/></g></g></g><rect class=\"legendtoggle\" x=\"0\" y=\"-9.5\" width=\"122.1875\" height=\"19\" style=\"fill: rgb(0, 0, 0); fill-opacity: 0;\"/></g></g><g class=\"groups\" transform=\"\"><g class=\"traces\" transform=\"translate(0,70.7)\" style=\"opacity: 1;\"><text class=\"legendtext\" text-anchor=\"start\" x=\"40\" y=\"4.680000000000001\" style=\"font-family: 'Open Sans', verdana, arial, sans-serif; font-size: 12px; fill: rgb(42, 63, 95); fill-opacity: 1; white-space: pre;\">Opportunities</text><g class=\"layers\" style=\"opacity: 1;\"><g class=\"legendfill\"/><g class=\"legendlines\"/><g class=\"legendsymbols\"><g class=\"legendpoints\"><path class=\"legendundefined\" d=\"M6,6H-6V-6H6Z\" transform=\"translate(20,0)\" style=\"stroke-width: 0.5px; fill: rgb(0, 204, 150); fill-opacity: 1; stroke: rgb(229, 236, 246); stroke-opacity: 1;\"/></g></g></g><rect class=\"legendtoggle\" x=\"0\" y=\"-9.5\" width=\"122.1875\" height=\"19\" style=\"fill: rgb(0, 0, 0); fill-opacity: 0;\"/></g></g></g><rect class=\"scrollbar\" rx=\"20\" ry=\"3\" width=\"0\" height=\"0\" style=\"fill: rgb(128, 139, 164); fill-opacity: 1;\" x=\"0\" y=\"0\"/></g><g class=\"g-gtitle\"><text class=\"gtitle\" x=\"60\" y=\"50\" text-anchor=\"start\" dy=\"0em\" style=\"font-family: 'Open Sans', verdana, arial, sans-serif; font-size: 17px; fill: rgb(42, 63, 95); opacity: 1; font-weight: normal; white-space: pre;\">Orderbook, Tendered and Opportunities</text></g><g class=\"g-xtitle\"><text class=\"xtitle\" x=\"233.75999999999996\" y=\"560.3\" text-anchor=\"middle\" style=\"font-family: 'Open Sans', verdana, arial, sans-serif; font-size: 14px; fill: rgb(42, 63, 95); opacity: 1; font-weight: normal; white-space: pre;\">Year</text></g><g class=\"g-x2title\"><text class=\"x2title\" x=\"560.4999999999999\" y=\"560.3\" text-anchor=\"middle\" style=\"font-family: 'Open Sans', verdana, arial, sans-serif; font-size: 14px; fill: rgb(42, 63, 95); opacity: 1; font-weight: normal; white-space: pre;\">Year</text></g><g class=\"g-x3title\"><text class=\"x3title\" x=\"887.2399999999999\" y=\"560.3\" text-anchor=\"middle\" style=\"font-family: 'Open Sans', verdana, arial, sans-serif; font-size: 14px; fill: rgb(42, 63, 95); opacity: 1; font-weight: normal; white-space: pre;\">Year</text></g><g class=\"g-ytitle\"><text class=\"ytitle\" transform=\"rotate(-90,35.075,310)\" x=\"35.075\" y=\"310\" text-anchor=\"middle\" style=\"font-family: 'Open Sans', verdana, arial, sans-serif; font-size: 14px; fill: rgb(42, 63, 95); opacity: 1; font-weight: normal; white-space: pre;\">Amount</text></g><g class=\"g-y2title\"/><g class=\"g-y3title\"/><g class=\"annotation\" data-index=\"0\" style=\"opacity: 1;\"><g class=\"annotation-text-g\" transform=\"rotate(0,233.75999999999996,90.5)\"><g class=\"cursor-pointer\" transform=\"translate(180,81)\"><rect class=\"bg\" x=\"0.5\" y=\"0.5\" width=\"106\" height=\"18\" style=\"stroke-width: 1px; stroke: rgb(0, 0, 0); stroke-opacity: 0; fill: rgb(0, 0, 0); fill-opacity: 0;\"/><text class=\"annotation-text\" text-anchor=\"middle\" x=\"53.625\" y=\"14\" style=\"font-family: 'Open Sans', verdana, arial, sans-serif; font-size: 12px; fill: rgb(42, 63, 95); fill-opacity: 1; white-space: pre;\">Type=Orderbook</text></g></g></g><g class=\"annotation\" data-index=\"1\" style=\"opacity: 1;\"><g class=\"annotation-text-g\" transform=\"rotate(0,560.5,90.5)\"><g class=\"cursor-pointer\" transform=\"translate(512,81)\"><rect class=\"bg\" x=\"0.5\" y=\"0.5\" width=\"97\" height=\"18\" style=\"stroke-width: 1px; stroke: rgb(0, 0, 0); stroke-opacity: 0; fill: rgb(0, 0, 0); fill-opacity: 0;\"/><text class=\"annotation-text\" text-anchor=\"middle\" x=\"49.5\" y=\"14\" style=\"font-family: 'Open Sans', verdana, arial, sans-serif; font-size: 12px; fill: rgb(42, 63, 95); fill-opacity: 1; white-space: pre;\">Type=Tendered</text></g></g></g><g class=\"annotation\" data-index=\"2\" style=\"opacity: 1;\"><g class=\"annotation-text-g\" transform=\"rotate(0,887.2399999999999,90.5)\"><g class=\"cursor-pointer\" transform=\"translate(825,81)\"><rect class=\"bg\" x=\"0.5\" y=\"0.5\" width=\"124\" height=\"18\" style=\"stroke-width: 1px; stroke: rgb(0, 0, 0); stroke-opacity: 0; fill: rgb(0, 0, 0); fill-opacity: 0;\"/><text class=\"annotation-text\" text-anchor=\"middle\" x=\"62.609375\" y=\"14\" style=\"font-family: 'Open Sans', verdana, arial, sans-serif; font-size: 12px; fill: rgb(42, 63, 95); fill-opacity: 1; white-space: pre;\">Type=Opportunities</text></g></g></g></g></svg>"
      ]
     },
     "metadata": {},
     "output_type": "display_data"
    }
   ],
   "source": [
    "px.bar(df_obt.stack().reset_index(name='Amount').rename(columns={'level_0': 'Year', 'level_1': 'Type'}), facet_col='Type', y='Amount', x='Year', title='Orderbook, Tendered and Opportunities', color='Type',  height=600, width=1200)"
   ]
  },
  {
   "cell_type": "markdown",
   "metadata": {},
   "source": [
    "# 💡 If they want to miss EBITDA they would have to either:\n",
    "1) Have EBITDA margin lower than 5.7 %\n",
    "2) Lower Revenue CAGR in each segment by 7-9 % and have EBITDA margin lower than 6.2 %\n",
    "\n",
    "# 📌 TLDR: Given the high revenue growth and current EBITDA of 8.2 % it is improbable in current conditions to miss the estimates as they are pretty reasonable"
   ]
  },
  {
   "cell_type": "markdown",
   "metadata": {},
   "source": [
    "![meme01](https://github.com/rasvob/Duratec-Segments-Report/blob/main/images/thats_all.jpg?raw=true)"
   ]
  }
 ],
 "metadata": {
  "kernelspec": {
   "display_name": "venv",
   "language": "python",
   "name": "python3"
  },
  "language_info": {
   "codemirror_mode": {
    "name": "ipython",
    "version": 3
   },
   "file_extension": ".py",
   "mimetype": "text/x-python",
   "name": "python",
   "nbconvert_exporter": "python",
   "pygments_lexer": "ipython3",
   "version": "3.12.2"
  }
 },
 "nbformat": 4,
 "nbformat_minor": 2
}
